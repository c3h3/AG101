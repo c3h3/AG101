{
 "metadata": {
  "name": "",
  "signature": "sha256:cc071028487ea82273391574301c5c86820355a581048c7a99328de4f8bb56cd"
 },
 "nbformat": 3,
 "nbformat_minor": 0,
 "worksheets": [
  {
   "cells": [
    {
     "cell_type": "code",
     "collapsed": false,
     "input": [],
     "language": "python",
     "metadata": {},
     "outputs": [],
     "prompt_number": 35
    },
    {
     "cell_type": "code",
     "collapsed": false,
     "input": [
      "%%writefile prob1_solver.py\n",
      "\n",
      "import sys\n",
      "lines = map(lambda line:line.strip(),sys.stdin.readlines())\n",
      "n = int(lines[0])\n",
      "problem_cases = map(lambda line:line.split(), lines[1:])\n",
      "assert n == len(problem_cases)\n",
      "\n",
      "def prob_solver(*prob_args):\n",
      "    max_s = int(prob_args[0])\n",
      "    list_s = map(int,prob_args[1])\n",
      "    assert max_s + 1 == len(list_s)\n",
      "    add_n = 0 \n",
      "    clapping_n = list_s[0]\n",
      "    for j in range(1,max_s+1):\n",
      "        while clapping_n < j:\n",
      "            clapping_n = clapping_n + 1 \n",
      "            add_n = add_n + 1 \n",
      "        \n",
      "        clapping_n = clapping_n + list_s[j] \n",
      "        \n",
      "    return add_n\n",
      "\n",
      "for case_i in range(n):\n",
      "    #print problem_cases[case_i]\n",
      "    print \"Case #{case_i}: {solution}\".format(case_i=case_i,\n",
      "                                              solution=prob_solver(*problem_cases[case_i]))\n",
      "    "
     ],
     "language": "python",
     "metadata": {},
     "outputs": [
      {
       "output_type": "stream",
       "stream": "stdout",
       "text": [
        "Overwriting prob1_solver.py\n"
       ]
      }
     ],
     "prompt_number": 62
    },
    {
     "cell_type": "code",
     "collapsed": false,
     "input": [
      "!cat prob1_input.txt | python prob1_solver.py "
     ],
     "language": "python",
     "metadata": {},
     "outputs": [
      {
       "output_type": "stream",
       "stream": "stdout",
       "text": [
        "Case #0: 0\r\n",
        "Case #1: 1\r\n",
        "Case #2: 2\r\n",
        "Case #3: 0\r\n",
        "Case #4: 1\r\n",
        "Case #5: 0\r\n",
        "Case #6: 3\r\n",
        "Case #7: 5\r\n",
        "Case #8: 3\r\n",
        "Case #9: 4\r\n"
       ]
      }
     ],
     "prompt_number": 71
    },
    {
     "cell_type": "code",
     "collapsed": false,
     "input": [
      "!python prob1_solver.py <  prob1_input.txt > test.txt"
     ],
     "language": "python",
     "metadata": {},
     "outputs": [],
     "prompt_number": 72
    },
    {
     "cell_type": "code",
     "collapsed": false,
     "input": [
      "cat test.txt"
     ],
     "language": "python",
     "metadata": {},
     "outputs": [
      {
       "output_type": "stream",
       "stream": "stdout",
       "text": [
        "Case #0: 0\r\n",
        "Case #1: 1\r\n",
        "Case #2: 2\r\n",
        "Case #3: 0\r\n",
        "Case #4: 1\r\n",
        "Case #5: 0\r\n",
        "Case #6: 3\r\n",
        "Case #7: 5\r\n",
        "Case #8: 3\r\n",
        "Case #9: 4\r\n"
       ]
      }
     ],
     "prompt_number": 73
    },
    {
     "cell_type": "code",
     "collapsed": false,
     "input": [],
     "language": "python",
     "metadata": {},
     "outputs": []
    },
    {
     "cell_type": "code",
     "collapsed": false,
     "input": [
      "%cat sol.txt"
     ],
     "language": "python",
     "metadata": {},
     "outputs": [
      {
       "output_type": "stream",
       "stream": "stdout",
       "text": [
        "Case #0: 3\r\n",
        "Case #1: 0\r\n",
        "Case #2: 0\r\n",
        "Case #3: 1\r\n",
        "Case #4: 0\r\n",
        "Case #5: 2\r\n",
        "Case #6: 0\r\n",
        "Case #7: 1\r\n",
        "Case #8: 1\r\n",
        "Case #9: 0\r\n",
        "Case #10: 0\r\n",
        "Case #11: 0\r\n",
        "Case #12: 0\r\n",
        "Case #13: 1\r\n",
        "Case #14: 0\r\n",
        "Case #15: 1\r\n",
        "Case #16: 2\r\n",
        "Case #17: 0\r\n",
        "Case #18: 0\r\n",
        "Case #19: 0\r\n",
        "Case #20: 0\r\n",
        "Case #21: 0\r\n",
        "Case #22: 0\r\n",
        "Case #23: 0\r\n",
        "Case #24: 0\r\n",
        "Case #25: 1\r\n",
        "Case #26: 0\r\n",
        "Case #27: 2\r\n",
        "Case #28: 0\r\n",
        "Case #29: 6\r\n",
        "Case #30: 1\r\n",
        "Case #31: 3\r\n",
        "Case #32: 2\r\n",
        "Case #33: 1\r\n",
        "Case #34: 0\r\n",
        "Case #35: 0\r\n",
        "Case #36: 0\r\n",
        "Case #37: 0\r\n",
        "Case #38: 0\r\n",
        "Case #39: 5\r\n",
        "Case #40: 1\r\n",
        "Case #41: 6\r\n",
        "Case #42: 0\r\n",
        "Case #43: 0\r\n",
        "Case #44: 0\r\n",
        "Case #45: 6\r\n",
        "Case #46: 0\r\n",
        "Case #47: 0\r\n",
        "Case #48: 0\r\n",
        "Case #49: 0\r\n",
        "Case #50: 0\r\n",
        "Case #51: 6\r\n",
        "Case #52: 0\r\n",
        "Case #53: 0\r\n",
        "Case #54: 4\r\n",
        "Case #55: 1\r\n",
        "Case #56: 0\r\n",
        "Case #57: 0\r\n",
        "Case #58: 1\r\n",
        "Case #59: 0\r\n",
        "Case #60: 0\r\n",
        "Case #61: 0\r\n",
        "Case #62: 4\r\n",
        "Case #63: 1\r\n",
        "Case #64: 0\r\n",
        "Case #65: 0\r\n",
        "Case #66: 0\r\n",
        "Case #67: 6\r\n",
        "Case #68: 3\r\n",
        "Case #69: 0\r\n",
        "Case #70: 0\r\n",
        "Case #71: 3\r\n",
        "Case #72: 3\r\n",
        "Case #73: 0\r\n",
        "Case #74: 0\r\n",
        "Case #75: 0\r\n",
        "Case #76: 0\r\n",
        "Case #77: 2\r\n",
        "Case #78: 1\r\n",
        "Case #79: 0\r\n",
        "Case #80: 0\r\n",
        "Case #81: 1\r\n",
        "Case #82: 6\r\n",
        "Case #83: 0\r\n",
        "Case #84: 0\r\n",
        "Case #85: 6\r\n",
        "Case #86: 2\r\n",
        "Case #87: 6\r\n",
        "Case #88: 6\r\n",
        "Case #89: 0\r\n",
        "Case #90: 0\r\n",
        "Case #91: 4\r\n",
        "Case #92: 0\r\n",
        "Case #93: 0\r\n",
        "Case #94: 0\r\n",
        "Case #95: 0\r\n",
        "Case #96: 6\r\n",
        "Case #97: 1\r\n",
        "Case #98: 0\r\n",
        "Case #99: 2\r\n"
       ]
      }
     ],
     "prompt_number": 61
    },
    {
     "cell_type": "code",
     "collapsed": false,
     "input": [],
     "language": "python",
     "metadata": {},
     "outputs": []
    },
    {
     "cell_type": "code",
     "collapsed": false,
     "input": [
      "prob_args = ['5', '110011']"
     ],
     "language": "python",
     "metadata": {},
     "outputs": [],
     "prompt_number": 43
    },
    {
     "cell_type": "code",
     "collapsed": false,
     "input": [
      "def prob_solver(*prob_args):\n",
      "    max_s = int(prob_args[0])\n",
      "    list_s = map(int,prob_args[1])\n",
      "    add_n = 0 \n",
      "    clapping_n = list_s[0]\n",
      "    for j in range(1,max_s+1):\n",
      "        while clapping_n < j:\n",
      "            clapping_n = clapping_n + 1 \n",
      "            add_n = add_n + 1  \n",
      "        \n",
      "        clapping_n = clapping_n + list_s[j] \n",
      "        \n",
      "    return add_n\n",
      "        "
     ],
     "language": "python",
     "metadata": {},
     "outputs": [],
     "prompt_number": 44
    },
    {
     "cell_type": "code",
     "collapsed": false,
     "input": [
      "prob_solver(*prob_args)"
     ],
     "language": "python",
     "metadata": {},
     "outputs": [
      {
       "metadata": {},
       "output_type": "pyout",
       "prompt_number": 31,
       "text": [
        "2"
       ]
      }
     ],
     "prompt_number": 31
    },
    {
     "cell_type": "code",
     "collapsed": false,
     "input": [
      "\n"
     ],
     "language": "python",
     "metadata": {},
     "outputs": [],
     "prompt_number": 29
    },
    {
     "cell_type": "code",
     "collapsed": false,
     "input": [
      "cat sol_prob1.txt"
     ],
     "language": "python",
     "metadata": {},
     "outputs": [
      {
       "output_type": "stream",
       "stream": "stdout",
       "text": [
        "11111\r\n"
       ]
      }
     ],
     "prompt_number": 9
    },
    {
     "cell_type": "code",
     "collapsed": false,
     "input": [
      "!python prob1_solver.py < prob1_input.txt"
     ],
     "language": "python",
     "metadata": {},
     "outputs": [
      {
       "output_type": "stream",
       "stream": "stdout",
       "text": [
        "Case #0: 0\r\n",
        "Case #1: 1\r\n",
        "Case #2: 2\r\n",
        "Case #3: 0\r\n"
       ]
      }
     ],
     "prompt_number": 5
    },
    {
     "cell_type": "code",
     "collapsed": false,
     "input": [],
     "language": "python",
     "metadata": {},
     "outputs": []
    }
   ],
   "metadata": {}
  }
 ]
}