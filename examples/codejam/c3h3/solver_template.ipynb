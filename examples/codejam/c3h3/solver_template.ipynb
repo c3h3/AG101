{
 "metadata": {
  "name": "",
  "signature": "sha256:b698a14488221ca667814c7525d4689421c1454693ff5791215826624d2a0fc0"
 },
 "nbformat": 3,
 "nbformat_minor": 0,
 "worksheets": [
  {
   "cells": [
    {
     "cell_type": "code",
     "collapsed": false,
     "input": [],
     "language": "python",
     "metadata": {},
     "outputs": [],
     "prompt_number": 35
    },
    {
     "cell_type": "code",
     "collapsed": false,
     "input": [
      "%%writefile prob1_solver.py\n",
      "\n",
      "import sys\n",
      "lines = map(lambda line:line.strip(),sys.stdin.readlines())\n",
      "n = int(lines[0])\n",
      "problem_cases = map(lambda line:line.split(), lines[1:])\n",
      "assert n == len(problem_cases)\n",
      "\n",
      "test_prob_sol = [0,1,2,0] \n",
      "\n",
      "for case_i in range(n):\n",
      "    max_s = int(problem_cases[case_i][0])\n",
      "#     print problem_cases[case_i][1]\n",
      "    print \"Case #{case_i}: {solution}\".format(case_i=case_i,solution=test_prob_sol[case_i])\n",
      "    "
     ],
     "language": "python",
     "metadata": {},
     "outputs": [
      {
       "output_type": "stream",
       "stream": "stdout",
       "text": [
        "Overwriting prob1_solver.py\n"
       ]
      }
     ],
     "prompt_number": 1
    },
    {
     "cell_type": "code",
     "collapsed": false,
     "input": [
      "cat prob1_input.txt | python prob1_solver.py > sol_prob1.txt"
     ],
     "language": "python",
     "metadata": {},
     "outputs": [],
     "prompt_number": 3
    },
    {
     "cell_type": "code",
     "collapsed": false,
     "input": [
      "cat sol_prob1.txt"
     ],
     "language": "python",
     "metadata": {},
     "outputs": [
      {
       "output_type": "stream",
       "stream": "stdout",
       "text": [
        "Case #0: 0\r\n",
        "Case #1: 1\r\n",
        "Case #2: 2\r\n",
        "Case #3: 0\r\n"
       ]
      }
     ],
     "prompt_number": 4
    },
    {
     "cell_type": "code",
     "collapsed": false,
     "input": [
      "!python prob1_solver.py < prob1_input.txt"
     ],
     "language": "python",
     "metadata": {},
     "outputs": [
      {
       "output_type": "stream",
       "stream": "stdout",
       "text": [
        "Case #0: 0\r\n",
        "Case #1: 1\r\n",
        "Case #2: 2\r\n",
        "Case #3: 0\r\n"
       ]
      }
     ],
     "prompt_number": 5
    },
    {
     "cell_type": "code",
     "collapsed": false,
     "input": [],
     "language": "python",
     "metadata": {},
     "outputs": []
    }
   ],
   "metadata": {}
  }
 ]
}