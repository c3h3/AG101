{
 "cells": [
  {
   "cell_type": "code",
   "execution_count": null,
   "metadata": {
    "collapsed": false
   },
   "outputs": [],
   "source": [
    "%%writefile prob1_solver.py\n",
    "\n",
    "import sys\n",
    "lines = map(lambda line:line.strip(), sys.stdin.readlines())\n",
    "n = int(lines[0])\n",
    "problem_cases = map(lambda line:line.split(), lines[1:])\n",
    "assert n == len(problem_cases)\n",
    "\n",
    "test_prob_sol = [0,1,2,0]\n",
    "\n",
    "for case_i in range(n):\n",
    "    max_s = int(problem_cases[case_i][0])\n",
    "    print \"Case #{0}: {1}\".format(case_i, test_prob_sol[case_i] )"
   ]
  },
  {
   "cell_type": "code",
   "execution_count": null,
   "metadata": {
    "collapsed": false
   },
   "outputs": [],
   "source": [
    "%%writefile prob1_test.txt\n",
    "4\n",
    "4 11111\n",
    "1 09\n",
    "5 110011\n",
    "0 1"
   ]
  },
  {
   "cell_type": "code",
   "execution_count": null,
   "metadata": {
    "collapsed": false
   },
   "outputs": [],
   "source": [
    "cat prob1_test.txt | python prob1_solver.py"
   ]
  },
  {
   "cell_type": "markdown",
   "metadata": {},
   "source": [
    "## Problem A. Standing Ovation"
   ]
  },
  {
   "cell_type": "raw",
   "metadata": {},
   "source": [
    "Problem\n",
    "\n",
    "It's opening night at the opera, and your friend is the prima donna (the lead female singer). You will not be in the audience, but you want to make sure she receives a standing ovation -- with every audience member standing up and clapping their hands for her.\n",
    "\n",
    "Initially, the entire audience is seated. Everyone in the audience has a shyness level. An audience member with shyness level Si will wait until at least Si other audience members have already stood up to clap, and if so, she will immediately stand up and clap. If Si = 0, then the audience member will always stand up and clap immediately, regardless of what anyone else does. For example, an audience member with Si = 2 will be seated at the beginning, but will stand up to clap later after she sees at least two other people standing and clapping.\n",
    "\n",
    "You know the shyness level of everyone in the audience, and you are prepared to invite additional friends of the prima donna to be in the audience to ensure that everyone in the crowd stands up and claps in the end. Each of these friends may have any shyness value that you wish, not necessarily the same. What is the minimum number of friends that you need to invite to guarantee a standing ovation?\n",
    "Input\n",
    "\n",
    "The first line of the input gives the number of test cases, T. T test cases follow. Each consists of one line with Smax, the maximum shyness level of the shyest person in the audience, followed by a string of Smax + 1 single digits. The kth digit of this string (counting starting from 0) represents how many people in the audience have shyness level k. For example, the string \"409\" would mean that there were four audience members with Si = 0 and nine audience members with Si = 2 (and none with Si = 1 or any other value). Note that there will initially always be between 0 and 9 people with each shyness level.\n",
    "\n",
    "The string will never end in a 0. Note that this implies that there will always be at least one person in the audience.\n",
    "\n",
    "Output\n",
    "\n",
    "For each test case, output one line containing \"Case #x: y\", where x is the test case number (starting from 1) and y is the minimum number of friends you must invite.\n",
    "\n",
    "Limits\n",
    "\n",
    "1 ≤ T ≤ 100.\n",
    "Small dataset\n",
    "\n",
    "0 ≤ Smax ≤ 6.\n",
    "\n",
    "Large dataset\n",
    "\n",
    "0 ≤ Smax ≤ 1000.\n",
    "\n",
    "Sample\n",
    "\n",
    "\n",
    "Input \n",
    " \t\n",
    "Output \n",
    " \n",
    "4\n",
    "4 11111\n",
    "1 09\n",
    "5 110011\n",
    "0 1\n",
    "\n",
    "Case #1: 0\n",
    "Case #2: 1\n",
    "Case #3: 2\n",
    "Case #4: 0\n",
    "In Case #1, the audience will eventually produce a standing ovation on its own, without you needing to add anyone -- first the audience member with Si = 0 will stand up, then the audience member with Si = 1 will stand up, etc.\n",
    "\n",
    "In Case #2, a friend with Si = 0 must be invited, but that is enough to get the entire audience to stand up.\n",
    "\n",
    "In Case #3, one optimal solution is to add two audience members with Si = 2.\n",
    "\n",
    "In Case #4, there is only one audience member and he will stand up immediately. No friends need to be invited."
   ]
  },
  {
   "cell_type": "code",
   "execution_count": null,
   "metadata": {
    "collapsed": false
   },
   "outputs": [],
   "source": [
    "%%writefile prob1_solver.py\n",
    "\n",
    "import sys\n",
    "lines = map(lambda line:line.strip(), sys.stdin.readlines())\n",
    "n = int(lines[0])\n",
    "problem_cases = map(lambda line:line.split(), lines[1:])\n",
    "assert n == len(problem_cases)\n",
    "\n",
    "if n==4:\n",
    "    test_prob_sol = [0,1,2,0]\n",
    "else:\n",
    "    test_prob_sol = [0,1,2,0, 4]\n",
    "\n",
    "for case_i in range(n):\n",
    "    max_s = int(problem_cases[case_i][0])\n",
    "    string = problem_cases[case_i][1]\n",
    "    \n",
    "    cumulated_aud = 0\n",
    "    solution= 0\n",
    "    if max_s==0:\n",
    "        solution= 0\n",
    "    else:\n",
    "        for d in range(len(string)):\n",
    "            if cumulated_aud>= d:\n",
    "                cumulated_aud += int(string[d])\n",
    "            else:\n",
    "                solution += d - cumulated_aud\n",
    "                cumulated_aud = d + int(string[d])\n",
    "    \n",
    "    #print \"Case #{0}: {1} {2} {3}\".format(case_i, test_prob_sol[case_i] , solution, test_prob_sol[case_i] ==solution)\n",
    "    print \"Case #{0}: {1}\".format(case_i+1, solution )"
   ]
  },
  {
   "cell_type": "code",
   "execution_count": null,
   "metadata": {
    "collapsed": false
   },
   "outputs": [],
   "source": [
    "%%writefile prob1_test.txt\n",
    "4\n",
    "4 11111\n",
    "1 09\n",
    "5 110011\n",
    "0 1"
   ]
  },
  {
   "cell_type": "code",
   "execution_count": null,
   "metadata": {
    "collapsed": false
   },
   "outputs": [],
   "source": [
    "%%writefile prob1_custom_test.txt\n",
    "5\n",
    "4 11111\n",
    "1 09\n",
    "5 110011\n",
    "0 1\n",
    "9 1100110011"
   ]
  },
  {
   "cell_type": "code",
   "execution_count": null,
   "metadata": {
    "collapsed": false
   },
   "outputs": [],
   "source": [
    "cat prob1_test.txt | python prob1_solver.py"
   ]
  },
  {
   "cell_type": "code",
   "execution_count": null,
   "metadata": {
    "collapsed": false
   },
   "outputs": [],
   "source": [
    "cat prob1_custom_test.txt | python prob1_solver.py"
   ]
  },
  {
   "cell_type": "code",
   "execution_count": null,
   "metadata": {
    "collapsed": false
   },
   "outputs": [],
   "source": [
    "cat A-small-attempt0.in | python prob1_solver.py > output.txt"
   ]
  },
  {
   "cell_type": "code",
   "execution_count": null,
   "metadata": {
    "collapsed": true
   },
   "outputs": [],
   "source": [
    "cat A-large.in| python prob1_solver.py > output_A_large.txt"
   ]
  },
  {
   "cell_type": "code",
   "execution_count": null,
   "metadata": {
    "collapsed": false,
    "scrolled": true
   },
   "outputs": [],
   "source": [
    "cat output_A_large.txt"
   ]
  },
  {
   "cell_type": "markdown",
   "metadata": {},
   "source": [
    "## Problem B. Infinite House of Pancakes"
   ]
  },
  {
   "cell_type": "raw",
   "metadata": {},
   "source": [
    "Problem\n",
    "\n",
    "At the Infinite House of Pancakes, there are only finitely many pancakes, but there are infinitely many diners who would be willing to eat them! When the restaurant opens for breakfast, among the infinitely many diners, exactly D have non-empty plates; the ith of these has Pi pancakes on his or her plate. Everyone else has an empty plate.\n",
    "\n",
    "Normally, every minute, every diner with a non-empty plate will eat one pancake from his or her plate. However, some minutes may be special. In a special minute, the head server asks for the diners' attention, chooses a diner with a non-empty plate, and carefully lifts some number of pancakes off of that diner's plate and moves those pancakes onto one other diner's (empty or non-empty) plate. No diners eat during a special minute, because it would be rude.\n",
    "\n",
    "You are the head server on duty this morning, and it is your job to decide which minutes, if any, will be special, and which pancakes will move where. That is, every minute, you can decide to either do nothing and let the diners eat, or declare a special minute and interrupt the diners to make a single movement of one or more pancakes, as described above.\n",
    "\n",
    "Breakfast ends when there are no more pancakes left to eat. How quickly can you make that happen?\n",
    "\n",
    "Input\n",
    "\n",
    "The first line of the input gives the number of test cases, T. T test cases follow. Each consists of one line with D, the number of diners with non-empty plates, followed by another line with D space-separated integers representing the numbers of pancakes on those diners' plates.\n",
    "\n",
    "Output\n",
    "\n",
    "For each test case, output one line containing \"Case #x: y\", where x is the test case number (starting from 1) and y is the smallest number of minutes needed to finish the breakfast.\n",
    "\n",
    "Limits\n",
    "\n",
    "1 ≤ T ≤ 100.\n",
    "Small dataset\n",
    "\n",
    "1 ≤ D ≤ 6.\n",
    "1 ≤ Pi ≤ 9.\n",
    "Large dataset\n",
    "\n",
    "1 ≤ D ≤ 1000.\n",
    "1 ≤ Pi ≤ 1000.\n",
    "Sample\n",
    "\n",
    "\n",
    "Input \n",
    " \t\n",
    "Output \n",
    " \n",
    "3\n",
    "1\n",
    "3\n",
    "4\n",
    "1 2 1 2\n",
    "1\n",
    "4\n",
    "\n",
    "Case #1: 3\n",
    "Case #2: 2\n",
    "Case #3: 3\n",
    "\n",
    "In Case #1, one diner starts with 3 pancakes and everyone else's plate is empty. One optimal strategy is:\n",
    "\n",
    "Minute 1: Do nothing. The diner will eat one pancake.\n",
    "\n",
    "Minute 2 (special): Interrupt and move one pancake from that diner's stack onto another diner's empty plate. (Remember that there are always infinitely many diners with empty plates available, no matter how many diners start off with pancakes.) No pancakes are eaten during an interruption.\n",
    "\n",
    "Minute 3: Do nothing. Each of those two diners will eat one of the last two remaining pancakes.\n",
    "\n",
    "In Case #2, it is optimal to let the diners eat for 2 minutes, with no interruptions, during which time they will finish all the pancakes.\n",
    "\n",
    "In Case #3, one diner starts with 4 pancakes and everyone else's plate is empty. It is optimal to use the first minute as a special minute to move two pancakes from the diner's plate to another diner's empty plate, and then do nothing and let the diners eat for the second and third minutes."
   ]
  },
  {
   "cell_type": "code",
   "execution_count": null,
   "metadata": {
    "collapsed": false
   },
   "outputs": [],
   "source": [
    "%%writefile B_solver.py\n",
    "\n",
    "import sys\n",
    "n = int(sys.stdin.readline())\n",
    "\n",
    "table= {}\n",
    "\n",
    "def solver(Ps):\n",
    "    \n",
    "    \n",
    "    if all([p<=2 for p in Ps]):\n",
    "        return max(Ps)\n",
    "    else:\n",
    "        Ps_sorted= sorted(Ps)\n",
    "        ps_key= \",\".join(map(str,Ps_sorted))\n",
    "        maxP = Ps_sorted.pop()\n",
    "        \n",
    "        if len([p for p in Ps if p ==maxP]) >= (maxP -1):\n",
    "            return maxP\n",
    "        \n",
    "        # Wrong!!!! half split does not promise optimal solution\n",
    "#         if maxP %2 ==0:\n",
    "#             Ps_actioned = Ps_sorted + [ maxP / 2,maxP/2]\n",
    "#         else:\n",
    "#             Ps_actioned = Ps_sorted + [ maxP / 2,maxP/2 +1]\n",
    "      \n",
    "        \n",
    "        if ps_key in table.keys():\n",
    "            return table[ps_key]\n",
    "        else:\n",
    "            Ps_actioned_candidates = []\n",
    "            for i in range(1, maxP/2 +1):\n",
    "                Ps_actioned_candidates.append( (Ps_sorted + [i , maxP-i] ))\n",
    "            \n",
    "            actioned_min = min(map(solver,Ps_actioned_candidates)) +1\n",
    "            \n",
    "            if maxP <= actioned_min:\n",
    "                #elif maxP <= solver(Ps_actioned) +1:\n",
    "                table[ps_key] = maxP\n",
    "                return maxP\n",
    "            else:\n",
    "                return actioned_min\n",
    "        \n",
    "\n",
    "\n",
    "for case_i in range(n):\n",
    "    D = int(sys.stdin.readline())\n",
    "    Pis = map(int,sys.stdin.readline().split())\n",
    "    solution = 1\n",
    "    #print Pis\n",
    "    solution = solver(Pis)\n",
    "    \n",
    "    #print \"Case #{0}: {1}, {2}\".format(case_i+1, solution,Pis)\n",
    "    print \"Case #{0}: {1}\".format(case_i+1, solution)\n",
    "    #print \"Case #{0}:{1}:{2}\".format(case_i+1, \" \".join(map(str,Pis)), solution)"
   ]
  },
  {
   "cell_type": "code",
   "execution_count": null,
   "metadata": {
    "collapsed": false
   },
   "outputs": [],
   "source": [
    "%%writefile B_solver_optimize.py\n",
    "\n",
    "import sys\n",
    "n = int(sys.stdin.readline())\n",
    "\n",
    "table= {}\n",
    "\n",
    "def solver(Ps):\n",
    "    \n",
    "    \n",
    "    if all([p<=2 for p in Ps]):\n",
    "        return max(Ps)\n",
    "    else:\n",
    "        \n",
    "        Ps = filter(lambda x:x>2, Ps)\n",
    "        Ps_sorted= sorted(Ps)\n",
    "        ps_key= \",\".join(map(str,Ps_sorted))\n",
    "        maxP = Ps_sorted.pop()\n",
    "        \n",
    "        if len([p for p in Ps if p >=maxP-1]) >= (maxP -2):\n",
    "            return maxP\n",
    "        \n",
    "        # Wrong!!!! half split does not promise optimal solution\n",
    "#         if maxP %2 ==0:\n",
    "#             Ps_actioned = Ps_sorted + [ maxP / 2,maxP/2]\n",
    "#         else:\n",
    "#             Ps_actioned = Ps_sorted + [ maxP / 2,maxP/2 +1]\n",
    "      \n",
    "        if ps_key in table.keys():\n",
    "            return table[ps_key]\n",
    "        else:\n",
    "            Ps_actioned_candidates = []\n",
    "            for i in range(1, maxP/2 +1):\n",
    "                Ps_actioned_candidates.append( (Ps_sorted + [i , maxP-i] ))\n",
    "            \n",
    "            actioned_min = min(map(solver,Ps_actioned_candidates)) +1\n",
    "            \n",
    "            if maxP <= actioned_min:\n",
    "                #elif maxP <= solver(Ps_actioned) +1:\n",
    "                table[ps_key] = maxP\n",
    "                return maxP\n",
    "            else:\n",
    "                return actioned_min\n",
    "            \n",
    "for case_i in range(n):\n",
    "    D = int(sys.stdin.readline())\n",
    "    Pis = map(int,sys.stdin.readline().split())\n",
    "    solution = 1\n",
    "    #print Pis\n",
    "    solution = solver(Pis)\n",
    "    \n",
    "    #print \"Case #{0}: {1}, {2}\".format(case_i+1, solution,Pis)\n",
    "    print \"Case #{0}: {1}\".format(case_i+1, solution)"
   ]
  },
  {
   "cell_type": "code",
   "execution_count": null,
   "metadata": {
    "collapsed": false
   },
   "outputs": [],
   "source": [
    "%%writefile B_test.txt\n",
    "13\n",
    "1\n",
    "3\n",
    "4\n",
    "1 2 1 2\n",
    "1\n",
    "4\n",
    "3\n",
    "10 10 10\n",
    "3\n",
    "4 4 4\n",
    "7\n",
    "8 8 8 8 8 8 8\n",
    "6\n",
    "8 8 8 8 8 8\n",
    "5\n",
    "8 8 8 8 8\n",
    "4\n",
    "8 8 8 8\n",
    "3\n",
    "8 8 8\n",
    "2\n",
    "8 8\n",
    "1\n",
    "8\n",
    "2\n",
    "9 6"
   ]
  },
  {
   "cell_type": "code",
   "execution_count": null,
   "metadata": {
    "collapsed": false
   },
   "outputs": [],
   "source": [
    "cat B_test.txt |python B_solver_optimize.py"
   ]
  },
  {
   "cell_type": "code",
   "execution_count": null,
   "metadata": {
    "collapsed": true
   },
   "outputs": [],
   "source": [
    "cat B-small-attempt2.in | python B_solver.py > B-output4.txt"
   ]
  },
  {
   "cell_type": "code",
   "execution_count": null,
   "metadata": {
    "collapsed": false
   },
   "outputs": [],
   "source": [
    "cat B-large.in | python B_solver_optimize.py > B-output-big.txt"
   ]
  },
  {
   "cell_type": "code",
   "execution_count": null,
   "metadata": {
    "collapsed": false
   },
   "outputs": [],
   "source": [
    "cat  B-small-attempt0.in | python B_solver.py > B_testing.txt"
   ]
  },
  {
   "cell_type": "code",
   "execution_count": null,
   "metadata": {
    "collapsed": true
   },
   "outputs": [],
   "source": [
    "table= {}\n",
    "\n",
    "def solver(Ps):\n",
    "    \n",
    "    \n",
    "    if all([p<=2 for p in Ps]):\n",
    "        return max(Ps)\n",
    "    else:\n",
    "        \n",
    "        Ps = filter(lambda x:x>2, Ps)\n",
    "        Ps_sorted= sorted(Ps)\n",
    "        ps_key= \",\".join(map(str,Ps_sorted))\n",
    "        maxP = Ps_sorted.pop()\n",
    "        \n",
    "        if len([p for p in Ps if p >=maxP-1]) >= (maxP -2):\n",
    "            return maxP\n",
    "        \n",
    "        # Wrong!!!! half split does not promise optimal solution\n",
    "#         if maxP %2 ==0:\n",
    "#             Ps_actioned = Ps_sorted + [ maxP / 2,maxP/2]\n",
    "#         else:\n",
    "#             Ps_actioned = Ps_sorted + [ maxP / 2,maxP/2 +1]\n",
    "      \n",
    "        if ps_key in table.keys():\n",
    "            return table[ps_key]\n",
    "        else:\n",
    "            Ps_actioned_candidates = []\n",
    "            for i in range(1, maxP/2 +1):\n",
    "                Ps_actioned_candidates.append( (Ps_sorted + [i , maxP-i] ))\n",
    "            \n",
    "            actioned_min = min(map(solver,Ps_actioned_candidates)) +1\n",
    "            \n",
    "            if maxP <= actioned_min:\n",
    "                #elif maxP <= solver(Ps_actioned) +1:\n",
    "                table[ps_key] = maxP\n",
    "                return maxP\n",
    "            else:\n",
    "                return actioned_min"
   ]
  },
  {
   "cell_type": "code",
   "execution_count": null,
   "metadata": {
    "collapsed": false
   },
   "outputs": [],
   "source": [
    "with open(\"B_testing.txt\",\"r\") as f:\n",
    "    print \"error would be listed\"\n",
    "    for line in f.readlines():\n",
    "        case, problem, solution = line.split(\":\")\n",
    "        sol = solver(map(int, problem.split()))\n",
    "        if sol != int(solution):\n",
    "            print line\n"
   ]
  },
  {
   "cell_type": "code",
   "execution_count": null,
   "metadata": {
    "collapsed": false
   },
   "outputs": [],
   "source": [
    "for i in range(3,10):\n",
    "    a = [i for j in range(i-2)]\n",
    "    print a, solver(a)"
   ]
  },
  {
   "cell_type": "code",
   "execution_count": null,
   "metadata": {
    "collapsed": false
   },
   "outputs": [],
   "source": [
    "cat B_testing.txt"
   ]
  },
  {
   "cell_type": "code",
   "execution_count": null,
   "metadata": {
    "collapsed": false
   },
   "outputs": [],
   "source": [
    "solver([4,4])"
   ]
  },
  {
   "cell_type": "code",
   "execution_count": null,
   "metadata": {
    "collapsed": false
   },
   "outputs": [],
   "source": [
    "solver([8])"
   ]
  },
  {
   "cell_type": "code",
   "execution_count": null,
   "metadata": {
    "collapsed": false
   },
   "outputs": [],
   "source": [
    "solver([8,8])"
   ]
  },
  {
   "cell_type": "code",
   "execution_count": null,
   "metadata": {
    "collapsed": false
   },
   "outputs": [],
   "source": [
    "solver([8,8,8])"
   ]
  },
  {
   "cell_type": "code",
   "execution_count": null,
   "metadata": {
    "collapsed": false
   },
   "outputs": [],
   "source": [
    "table"
   ]
  },
  {
   "cell_type": "code",
   "execution_count": null,
   "metadata": {
    "collapsed": false
   },
   "outputs": [],
   "source": [
    "len(table)"
   ]
  },
  {
   "cell_type": "code",
   "execution_count": null,
   "metadata": {
    "collapsed": false
   },
   "outputs": [],
   "source": [
    "solver([1,8,9,7])"
   ]
  },
  {
   "cell_type": "code",
   "execution_count": null,
   "metadata": {
    "collapsed": false
   },
   "outputs": [],
   "source": [
    "solver([9])"
   ]
  },
  {
   "cell_type": "code",
   "execution_count": null,
   "metadata": {
    "collapsed": false
   },
   "outputs": [],
   "source": [
    "print solver([3])\n",
    "print solver([1, 2, 1, 2])\n",
    "print solver([4,])\n",
    "print solver([10, 10, 10])\n",
    "print solver([4, 4, 4])\n",
    "print solver([8, 8, 8, 8, 8, 8, 8])\n",
    "print solver([8, 8, 8, 8, 8, 8])\n",
    "print solver([8, 8, 8, 8, 8])\n",
    "print solver([8, 8, 8, 8])\n",
    "print solver([8, 8, 8])\n",
    "print solver([8, 8])\n",
    "print solver([8])"
   ]
  },
  {
   "cell_type": "code",
   "execution_count": null,
   "metadata": {
    "collapsed": false
   },
   "outputs": [],
   "source": [
    "table"
   ]
  },
  {
   "cell_type": "markdown",
   "metadata": {},
   "source": [
    "## Problem C. Dijkstra"
   ]
  },
  {
   "cell_type": "raw",
   "metadata": {},
   "source": [
    "Problem\n",
    "\n",
    "The Dutch computer scientist Edsger Dijkstra made many important contributions to the field, including the shortest path finding algorithm that bears his name. This problem is not about that algorithm.\n",
    "\n",
    "You were marked down one point on an algorithms exam for misspelling \"Dijkstra\" -- between D and stra, you wrote some number of characters, each of which was either i, j, or k. You are prepared to argue to get your point back using quaternions, an actual number system (extended from complex numbers) with the following multiplicative structure:\n",
    "\n",
    "\n",
    "\n",
    "To multiply one quaternion by another, look at the row for the first quaternion and the column for the second quaternion. For example, to multiply i by j, look in the row for i and the column for j to find that the answer is k. To multiply j by i, look in the row for j and the column for i to find that the answer is -k.\n",
    "\n",
    "As you can see from the above examples, the quaternions are not commutative -- that is, there are some a and b for which a * b != b * a. However they are associative -- for any a, b, and c, it's true that a * (b * c) = (a * b) * c.\n",
    "\n",
    "Negative signs before quaternions work as they normally do -- for any quaternions a and b, it's true that -a * -b = a * b, and -a * b = a * -b = -(a * b).\n",
    "\n",
    "You want to argue that your misspelling was equivalent to the correct spelling ijk by showing that you can split your string of is, js, and ks in two places, forming three substrings, such that the leftmost substring reduces (under quaternion multiplication) to i, the middle substring reduces to j, and the right substring reduces to k. (For example, jij would be interpreted as j * i * j; j * i is -k, and -k * j is i, so jij reduces to i.) If this is possible, you will get your point back. Can you find a way to do it?\n",
    "\n",
    "Input\n",
    "\n",
    "The first line of the input gives the number of test cases, T. T test cases follow. Each consists of one line with two space-separated integers L and X, followed by another line with L characters, all of which are i, j, or k. Note that the string never contains negative signs, 1s, or any other characters. The string that you are to evaluate is the given string of L characters repeated X times. For instance, for L = 4, X = 3, and the given string kiij, your input string would be kiijkiijkiij.\n",
    "\n",
    "Output\n",
    "\n",
    "For each test case, output one line containing \"Case #x: y\", where x is the test case number (starting from 1) and y is either YES or NO, depending on whether the string can be broken into three parts that reduce to i, j, and k, in that order, as described above.\n",
    "\n",
    "Limits\n",
    "\n",
    "1 ≤ T ≤ 100.\n",
    "1 ≤ L ≤ 10000.\n",
    "Small dataset\n",
    "\n",
    "1 ≤ X ≤ 10000.\n",
    "1 ≤ L * X ≤ 10000.\n",
    "Large dataset\n",
    "\n",
    "1 ≤ X ≤ 1012.\n",
    "1 ≤ L * X ≤ 1016.\n",
    "Sample\n",
    "\n",
    "\n",
    "Input \n",
    " \t\n",
    "Output \n",
    " \n",
    "5\n",
    "2 1\n",
    "ik\n",
    "3 1\n",
    "ijk\n",
    "3 1\n",
    "kji\n",
    "2 6\n",
    "ji\n",
    "1 10000\n",
    "i\n",
    "\n",
    "Case #1: NO\n",
    "Case #2: YES\n",
    "Case #3: NO\n",
    "Case #4: YES\n",
    "Case #5: NO\n",
    "In Case #1, the string is too short to be split into three substrings.\n",
    "\n",
    "In Case #2, just split the string into i, j, and k.\n",
    "\n",
    "In Case #3, the only way to split the string into three parts is k, j, i, and this does not satisfy the conditions.\n",
    "\n",
    "In Case #4, the string is jijijijijiji. It can be split into jij (which reduces to i), iji (which reduces to j), and jijiji (which reduces to k).\n",
    "\n",
    "In Case #5, no matter how you choose your substrings, none of them can ever reduce to a j or a k."
   ]
  },
  {
   "cell_type": "raw",
   "metadata": {},
   "source": [
    "#TODO: optimize read line for big data"
   ]
  },
  {
   "cell_type": "code",
   "execution_count": null,
   "metadata": {
    "collapsed": false
   },
   "outputs": [],
   "source": [
    "%%writefile probC_solver.py\n",
    "\n",
    "import sys\n",
    "\n",
    "lines = map(lambda line:line.strip(), sys.stdin.readlines())\n",
    "n = int(lines[0])\n",
    "problem_cases = map(lambda line:line.split(), lines[1:])\n",
    "assert n*2 == len(problem_cases)\n",
    "\n",
    "if n==5:\n",
    "    test_prob_sol = [ \"NO\",\"YES\",\"NO\",\"YES\",\"NO\"]\n",
    "else:\n",
    "    test_prob_sol = [ \"NO\",\"YES\",\"NO\",\"YES\",\"NO\"]\n",
    "\n",
    "class qn:\n",
    "    \n",
    "    def __init__(self, char, sign = 1):\n",
    "        assert char in [\"1\",\"i\",\"j\",\"k\"]\n",
    "        \n",
    "        self.char = char\n",
    "        self.sign = sign\n",
    "    def __mul__(self, other):\n",
    "        \n",
    "        sign = self.sign *other.sign\n",
    "        \n",
    "        table = {\n",
    "            \"ij\":qn(\"k\", sign),\n",
    "            \"ik\":qn(\"j\",-sign),\n",
    "            \"ji\":qn(\"k\",-sign),\n",
    "            \"jk\": qn(\"i\",sign),\n",
    "            \"ki\": qn(\"j\",sign),\n",
    "            \"kj\": qn(\"i\",-sign)\n",
    "        }\n",
    "        \n",
    "        if self.char == \"1\":\n",
    "            return qn(other.char, sign)\n",
    "        elif other.char == \"1\":\n",
    "            return qn(self.char, sign)\n",
    "        elif self.char == other.char:\n",
    "            return qn(\"1\", -1*sign)\n",
    "        else:\n",
    "            return table[\"%s%s\" % (self.char, other.char)]\n",
    "    \n",
    "    def __neg__(self):\n",
    "        return qn(self.char, self.sign * -1)\n",
    "    \n",
    "    def __eq__(self,other):\n",
    "        return  (isinstance(other, self.__class__) and self.__dict__ == other.__dict__)\n",
    "    \n",
    "    def __ne__(self, other):\n",
    "        return not self.__eq__(other)\n",
    "    \n",
    "    def __str__(self):\n",
    "        if self.sign == 1:\n",
    "            return self.char\n",
    "        else:\n",
    "            return \"-%s\" % self.char\n",
    "\n",
    "    \n",
    "\n",
    "def evaluate(X, word):\n",
    "    \n",
    "    if L == 1:\n",
    "        return False\n",
    "    else:\n",
    "        Iget = False\n",
    "        Jget = False\n",
    "        Kget= False\n",
    "        product = qn(\"1\")\n",
    "        for i in range(X):\n",
    "            for s in word:\n",
    "                #print \"%s * %s = %s \" % (product, qn(s), qn(s) *product)\n",
    "                product = product* qn(s) \n",
    "                if (not Iget) and product.char == \"i\":\n",
    "                    Iget = True\n",
    "                    product = qn(\"1\",product.sign)\n",
    "                    #print \"got i \"\n",
    "                if (Iget and not Jget) and product.char == \"j\":\n",
    "                    Jget = True\n",
    "                    product = qn(\"1\",product.sign)\n",
    "                    #print \"got j \"\n",
    "                if (Iget and Jget and not Kget) and product.char == \"k\":\n",
    "                    Kget = True\n",
    "                    product = qn(\"1\",product.sign)\n",
    "                    #print \"got k \"\n",
    "                \n",
    "            #print product==qn(\"1\")\n",
    "                \n",
    "        return Iget and Jget and Kget and product ==qn(\"1\")\n",
    "\n",
    "for case_i in range(n):\n",
    "    solution = \"YES\"\n",
    "    L, X = map(int, problem_cases[case_i*2])\n",
    "    word = problem_cases[case_i*2+1][0]\n",
    "    \n",
    "    solution=  \"YES\" if evaluate(X, word) else \"NO\"\n",
    "    \n",
    "    \n",
    "    #print \"Case #{0}: {1} {2} {3}\".format(case_i, test_prob_sol[case_i] , solution, test_prob_sol[case_i] ==solution)\n",
    "    print \"Case #{0}: {1}\".format(case_i+1, solution )\n",
    "    #print \"Case #{0}: {1}, {2}, {3},{4},{5}\".format(case_i+1, solution,L,X,word, test_prob_sol[case_i]==solution )"
   ]
  },
  {
   "cell_type": "code",
   "execution_count": null,
   "metadata": {
    "collapsed": false
   },
   "outputs": [],
   "source": [
    "%%writefile probC_test.txt\n",
    "5\n",
    "2 1\n",
    "ik\n",
    "3 1\n",
    "ijk\n",
    "3 1\n",
    "kji\n",
    "2 6\n",
    "ji\n",
    "1 10000\n",
    "i"
   ]
  },
  {
   "cell_type": "code",
   "execution_count": null,
   "metadata": {
    "collapsed": false
   },
   "outputs": [],
   "source": [
    "cat probC_test.txt | python probC_solver.py"
   ]
  },
  {
   "cell_type": "code",
   "execution_count": null,
   "metadata": {
    "collapsed": true
   },
   "outputs": [],
   "source": [
    "cat C-small-attempt0.in |python probC_solver.py > C-output.txt"
   ]
  },
  {
   "cell_type": "code",
   "execution_count": null,
   "metadata": {
    "collapsed": false
   },
   "outputs": [],
   "source": [
    "class qn:\n",
    "    \n",
    "    def __init__(self, char, sign = 1):\n",
    "        assert char in [\"1\",\"i\",\"j\",\"k\"]\n",
    "        \n",
    "        self.char = char\n",
    "        self.sign = sign\n",
    "    def __mul__(self, other):\n",
    "        \n",
    "        sign = self.sign *other.sign\n",
    "        \n",
    "        table = {\n",
    "            \"ij\":qn(\"k\", sign),\n",
    "            \"ik\":qn(\"j\",-sign),\n",
    "            \"ji\":qn(\"k\",-sign),\n",
    "            \"jk\": qn(\"i\",sign),\n",
    "            \"ki\": qn(\"j\",sign),\n",
    "            \"kj\": qn(\"i\",-sign)\n",
    "        }\n",
    "        \n",
    "        if self.char == \"1\":\n",
    "            return qn(other.char, sign)\n",
    "        elif other.char == \"1\":\n",
    "            return qn(self.char, sign)\n",
    "        elif self.char == other.char:\n",
    "            return qn(\"1\", -1*sign)\n",
    "        else:\n",
    "            return table[\"%s%s\" % (self.char, other.char)]\n",
    "    \n",
    "    def __neg__(self):\n",
    "        return qn(self.char, self.sign * -1)\n",
    "    \n",
    "    def __eq__(self,other):\n",
    "        return  (isinstance(other, self.__class__) and self.__dict__ == other.__dict__)\n",
    "    \n",
    "    def __ne__(self, other):\n",
    "        return not self.__eq__(other)\n",
    "    \n",
    "    def __str__(self):\n",
    "        if self.sign == 1:\n",
    "            return self.char\n",
    "        else:\n",
    "            return \"-%s\" % self.char"
   ]
  },
  {
   "cell_type": "code",
   "execution_count": null,
   "metadata": {
    "collapsed": false
   },
   "outputs": [],
   "source": [
    "assert qn(\"k\") *qn(\"i\") == qn(\"j\")\n",
    "assert  - qn(\"j\") == qn(\"j\",-1)\n",
    "assert qn(\"k\") * qn(\"k\") *qn(\"k\") == qn(\"k\",-1)\n",
    "assert qn(\"j\")*qn(\"i\") == qn(\"k\",-1)\n",
    "assert qn(\"1\") == qn(\"1\")\n",
    "print qn(\"i\") *qn(\"j\")*qn(\"k\")\n",
    "print  \"jij %s\" % (qn(\"j\") *qn(\"i\")*qn(\"j\"))\n",
    "print  \"iji %s\" % (qn(\"i\") *qn(\"j\")*qn(\"i\"))\n",
    "print  \"jijiji %s\" % (qn(\"j\") *qn(\"i\")*qn(\"j\") *qn(\"i\")*qn(\"j\") *qn(\"i\"))"
   ]
  },
  {
   "cell_type": "code",
   "execution_count": null,
   "metadata": {
    "collapsed": true
   },
   "outputs": [],
   "source": [
    "class chunk:\n",
    "    def __init__(self, string):\n",
    "        self.string = string\n",
    "    def evaluate(self):\n",
    "        product = qn(\"1\")\n",
    "        for s in self.string:\n",
    "            product = qn(s) *product\n",
    "        return product\n",
    "    def __repr__(self):\n",
    "        return \"%s%s\" % (self.head, self.tail)\n",
    "    def __str__(self):\n",
    "        return \"%s%s\" % (self.head, self.tail)"
   ]
  },
  {
   "cell_type": "code",
   "execution_count": null,
   "metadata": {
    "collapsed": false
   },
   "outputs": [],
   "source": [
    "assert chunk(\"ji\"*6).evaluate() == qn(\"1\",-1)\n",
    "assert chunk(\"kkk\").evaluate() == qn(\"k\",-1)"
   ]
  },
  {
   "cell_type": "markdown",
   "metadata": {},
   "source": [
    "### Deal with big data"
   ]
  },
  {
   "cell_type": "code",
   "execution_count": null,
   "metadata": {
    "collapsed": false
   },
   "outputs": [],
   "source": [
    "%%writefile probC_solver_bigdata.py\n",
    "\n",
    "import sys\n",
    "n = int(sys.stdin.readline())\n",
    "\n",
    "if n==5:\n",
    "    test_prob_sol = [ \"NO\",\"YES\",\"NO\",\"YES\",\"NO\"]\n",
    "else:\n",
    "    test_prob_sol = [ \"NO\",\"YES\",\"NO\",\"YES\",\"NO\"]\n",
    "\n",
    "class qn:\n",
    "    \n",
    "    def __init__(self, char, sign = 1):\n",
    "        assert char in [\"1\",\"i\",\"j\",\"k\"]\n",
    "        \n",
    "        self.char = char\n",
    "        self.sign = sign\n",
    "    def __mul__(self, other):\n",
    "        \n",
    "        sign = self.sign *other.sign\n",
    "        \n",
    "        table = {\n",
    "            \"ij\":qn(\"k\", sign),\n",
    "            \"ik\":qn(\"j\",-sign),\n",
    "            \"ji\":qn(\"k\",-sign),\n",
    "            \"jk\": qn(\"i\",sign),\n",
    "            \"ki\": qn(\"j\",sign),\n",
    "            \"kj\": qn(\"i\",-sign)\n",
    "        }\n",
    "        \n",
    "        if self.char == \"1\":\n",
    "            return qn(other.char, sign)\n",
    "        elif other.char == \"1\":\n",
    "            return qn(self.char, sign)\n",
    "        elif self.char == other.char:\n",
    "            return qn(\"1\", -1*sign)\n",
    "        else:\n",
    "            return table[\"%s%s\" % (self.char, other.char)]\n",
    "    \n",
    "    def __neg__(self):\n",
    "        return qn(self.char, self.sign * -1)\n",
    "    \n",
    "    def __eq__(self,other):\n",
    "        return  (isinstance(other, self.__class__) and self.__dict__ == other.__dict__)\n",
    "    \n",
    "    def __ne__(self, other):\n",
    "        return not self.__eq__(other)\n",
    "    \n",
    "    def __str__(self):\n",
    "        if self.sign == 1:\n",
    "            return self.char\n",
    "        else:\n",
    "            return \"-%s\" % self.char\n",
    "\n",
    "    \n",
    "\n",
    "def evaluate(X, word):\n",
    "    \n",
    "    if L == 1:\n",
    "        return False\n",
    "    else:\n",
    "        Iget = False\n",
    "        Jget = False\n",
    "        Kget= False\n",
    "        product = qn(\"1\")\n",
    "        for i in range(X):\n",
    "            for s in word:\n",
    "                #print \"%s * %s = %s \" % (product, qn(s), qn(s) *product)\n",
    "                product = product* qn(s) \n",
    "                if (not Iget) and product.char == \"i\":\n",
    "                    Iget = True\n",
    "                    product = qn(\"1\",product.sign)\n",
    "                    #print \"got i \"\n",
    "                if (Iget and not Jget) and product.char == \"j\":\n",
    "                    Jget = True\n",
    "                    product = qn(\"1\",product.sign)\n",
    "                    #print \"got j \"\n",
    "                if (Iget and Jget and not Kget) and product.char == \"k\":\n",
    "                    Kget = True\n",
    "                    product = qn(\"1\",product.sign)\n",
    "                    #print \"got k \"\n",
    "                \n",
    "            #print product==qn(\"1\")\n",
    "                \n",
    "        return Iget and Jget and Kget and product ==qn(\"1\")\n",
    "\n",
    "for case_i in range(n):\n",
    "    solution = \"YES\"\n",
    "    L, X = map(int, sys.stdin.readline().split())\n",
    "    word = sys.stdin.readline().strip()\n",
    "    solution=  \"YES\" if evaluate(X, word) else \"NO\"\n",
    "    \n",
    "    \n",
    "    #print \"Case #{0}: {1} {2} {3}\".format(case_i, test_prob_sol[case_i] , solution, test_prob_sol[case_i] ==solution)\n",
    "    print \"Case #{0}: {1}\".format(case_i+1, solution )\n",
    "    #print \"Case #{0}: {1}, {2}, {3},{4},{5}\".format(case_i+1, solution,L,X,word, test_prob_sol[case_i]==solution )"
   ]
  },
  {
   "cell_type": "code",
   "execution_count": null,
   "metadata": {
    "collapsed": false
   },
   "outputs": [],
   "source": [
    "cat C-small-attempt0.in |python probC_solver_bigdata.py"
   ]
  },
  {
   "cell_type": "code",
   "execution_count": null,
   "metadata": {
    "collapsed": false
   },
   "outputs": [],
   "source": [
    "# import random\n",
    "# with open(\"C-big_data.txt\",\"w\") as f:\n",
    "#     f.write(\"100\\n\")\n",
    "#     for T in range(100):\n",
    "#         f.write(\"1%s 1%s\\n\" % (\"0\"*8, \"0\"*8))\n",
    "#         for i in xrange(10**8) :\n",
    "#             f.write(random.choice([\"i\",\"j\",\"k\"]))\n",
    "#         f.write(\"\\n\")"
   ]
  },
  {
   "cell_type": "markdown",
   "metadata": {},
   "source": [
    "## Problem D. Ominous Omino"
   ]
  },
  {
   "cell_type": "raw",
   "metadata": {},
   "source": [
    "https://code.google.com/codejam/contest/6224486/dashboard#s=p3\n",
    "\n",
    "Problem\n",
    "\n",
    "An N-omino is a two-dimensional shape formed by joining N unit cells fully along their edges in some way. More formally, a 1-omino is a 1x1 unit square, and an N-omino is an (N-1)omino with one or more of its edges joined to an adjacent 1x1 unit square. For the purpose of this problem, we consider two N-ominoes to be the same if one can be transformed into the other via reflection and/or rotation. For example, these are the five possible 4-ominoes:\n",
    "\n",
    "\n",
    "\n",
    "And here are some of the 108 possible 7-ominoes:\n",
    "\n",
    "\n",
    "\n",
    "Richard and Gabriel are going to play a game with the following rules, for some predetermined values of X, R, and C:\n",
    "\n",
    "1. Richard will choose any one of the possible X-ominoes.\n",
    "2. Gabriel must use at least one copy of that X-omino, along with arbitrarily many copies of any X-ominoes (which can include the one Richard chose), to completely fill in an R-by-C grid, with no overlaps and no spillover. That is, every cell must be covered by exactly one of the X cells making up an X-omino, and no X-omino can extend outside the grid. Gabriel is allowed to rotate or reflect as many of the X-ominoes as he wants, including the one Richard chose. If Gabriel can completely fill in the grid, he wins; otherwise, Richard wins.\n",
    "\n",
    "Given particular values X, R, and C, can Richard choose an X-omino that will ensure that he wins, or is Gabriel guaranteed to win no matter what Richard chooses?\n",
    "\n",
    "Input\n",
    "\n",
    "The first line of the input gives the number of test cases, T. T lines follow. Each contains three space-separated integers: X, R, and C.\n",
    "\n",
    "Output\n",
    "\n",
    "For each test case, output one line containing \"Case #x: y\", where x is the test case number (starting from 1) and y is either RICHARD (if there is at least one choice that ensures victory for Richard) or GABRIEL (if Gabriel will win no matter what Richard chooses).\n",
    "Limits\n",
    "\n",
    "Small dataset\n",
    "\n",
    "T = 64.\n",
    "1 ≤ X, R, C ≤ 4.\n",
    "Large dataset\n",
    "\n",
    "1 ≤ T ≤ 100.\n",
    "1 ≤ X, R, C ≤ 20.\n",
    "Sample\n",
    "\n",
    "\n",
    "Input \n",
    " \t\n",
    "Output \n",
    " \n",
    "4\n",
    "2 2 2\n",
    "2 1 3\n",
    "4 4 1\n",
    "3 2 3\n",
    "\n",
    "Case #1: GABRIEL\n",
    "Case #2: RICHARD\n",
    "Case #3: RICHARD\n",
    "Case #4: GABRIEL\n",
    "In case #1, Richard only has one 2-omino available to choose -- the 1x2 block formed by joining two unit cells together. No matter how Gabriel places this block in the 2x2 grid, he will leave a hole that can be exactly filled with another 1x2 block. So Gabriel wins.\n",
    "\n",
    "In case #2, Richard has to choose the 1x2 block, but no matter where Gabriel puts it, he will be left with a single 1x1 hole that he cannot fill using only 2-ominoes. So Richard wins.\n",
    "\n",
    "In case #3, one winning strategy for Richard is to choose the 2x2 square 4-omino. There is no way for Gabriel to fit that square into the 4x1 grid such that it is completely contained within the grid, so Richard wins.\n",
    "\n",
    "In case #4, Richard can either pick the straight 3-omino or the L-shaped 3-omino. In either case, Gabriel can fit it into the grid and then use another copy of the same 3-omino to fill in the remaining hole."
   ]
  },
  {
   "cell_type": "code",
   "execution_count": null,
   "metadata": {
    "collapsed": false
   },
   "outputs": [],
   "source": [
    "%%writefile D_solver.py\n",
    "\n",
    "import sys\n",
    "n = int(sys.stdin.readline())\n",
    "\n",
    "for case_i in range(n):\n",
    "    \n",
    "    X, R, C= map(int, sys.stdin.readline().split())\n",
    "    ans = [\"RICHARD\", \"GABRIEL\"]\n",
    "    solution = ans[0]\n",
    "    \n",
    "    if X ==1:\n",
    "        solution = ans[1]\n",
    "    elif X ==2:\n",
    "        if R*C % 2 == 0:\n",
    "            solution = ans[1]\n",
    "        else:\n",
    "            solution = ans[0]\n",
    "    elif X ==3:\n",
    "        if R*C <=3 or R*C % 3 !=0:\n",
    "            solution = ans[0]\n",
    "        else:\n",
    "            solution = ans[1]\n",
    "    else:\n",
    "        if R<=3 and C<=3:\n",
    "            solution = ans[0]\n",
    "        elif R*C in [12, 16]:\n",
    "            solution = ans[1]\n",
    "    \n",
    "    \n",
    "    print \"Case #{0}: {1}\".format(case_i+1, solution )"
   ]
  },
  {
   "cell_type": "code",
   "execution_count": null,
   "metadata": {
    "collapsed": false
   },
   "outputs": [],
   "source": [
    "%%writefile D_test.txt\n",
    "8\n",
    "2 2 2\n",
    "2 1 3\n",
    "4 4 1\n",
    "3 2 3\n",
    "1 1 1\n",
    "4 2 3\n",
    "4 3 4\n",
    "4 4 4"
   ]
  },
  {
   "cell_type": "code",
   "execution_count": null,
   "metadata": {
    "collapsed": false,
    "scrolled": true
   },
   "outputs": [],
   "source": [
    "cat D_test.txt | python D_solver.py"
   ]
  },
  {
   "cell_type": "code",
   "execution_count": null,
   "metadata": {
    "collapsed": true
   },
   "outputs": [],
   "source": [
    "cat D-small-attempt0.in | python D_solver.py > D_small_output.txt"
   ]
  },
  {
   "cell_type": "code",
   "execution_count": null,
   "metadata": {
    "collapsed": true
   },
   "outputs": [],
   "source": [
    "def omino(X, R, C):\n",
    "    ans = [\"RICHARD\", \"GABRIEL\"]\n",
    "    solution = ans[0]\n",
    "\n",
    "    if X ==1:\n",
    "        solution = ans[1]\n",
    "    elif X ==2:\n",
    "        if R*C % 2 == 0:\n",
    "            solution = ans[1]\n",
    "        else:\n",
    "            solution = ans[0]\n",
    "    elif X ==3:\n",
    "        if R*C <=3 or R*C % 3 !=0:\n",
    "            solution = ans[0]\n",
    "        else:\n",
    "            solution = ans[1]\n",
    "    else:\n",
    "        if R<=3 and C<=3:\n",
    "            solution = ans[0]\n",
    "        elif R*C in [12, 16]:\n",
    "            solution = ans[1]\n",
    "            \n",
    "    return solution\n"
   ]
  },
  {
   "cell_type": "code",
   "execution_count": null,
   "metadata": {
    "collapsed": false
   },
   "outputs": [],
   "source": [
    "testing_cases = []\n",
    "with open(\"D-small-attempt0.in\", \"r\") as f:\n",
    "    n = int(f.readline().strip())\n",
    "    for i in range(n):\n",
    "        X, R, C = map(int, f.readline().split())\n",
    "        print X, R, C , omino(X,R,C)\n",
    "        testing_cases.append([X, R, C , omino(X,R,C)])"
   ]
  },
  {
   "cell_type": "code",
   "execution_count": null,
   "metadata": {
    "collapsed": true
   },
   "outputs": [],
   "source": [
    "def omino_big(X, R, C):\n",
    "    ans = [\"RICHARD\", \"GABRIEL\"]\n",
    "    solution = ans[0]\n",
    "    \n",
    "    #R, C = min(R, C), max(R, C)\n",
    "\n",
    "    if (X>= R*C and X>2) or R*C % x !=0 or X>=7:\n",
    "        solution = ans[1]\n",
    "    else:\n",
    "        if X ==1:\n",
    "            solution = ans[1]\n",
    "        elif X ==2:\n",
    "            if R*C % 2 == 0:\n",
    "                solution = ans[1]\n",
    "            else:\n",
    "                solution = ans[0]\n",
    "        elif X==4:\n",
    "            if R<=3 and C<=3:\n",
    "                solution = ans[0]\n",
    "            elif (R % 4 and C >2) or (R>2 and C %4) :\n",
    "                solution = ans[1]\n",
    "            \n",
    "    return solution\n"
   ]
  }
 ],
 "metadata": {
  "kernelspec": {
   "display_name": "Python 2",
   "language": "python",
   "name": "python2"
  },
  "language_info": {
   "codemirror_mode": {
    "name": "ipython",
    "version": 2
   },
   "file_extension": ".py",
   "mimetype": "text/x-python",
   "name": "python",
   "nbconvert_exporter": "python",
   "pygments_lexer": "ipython2",
   "version": "2.7.6"
  }
 },
 "nbformat": 4,
 "nbformat_minor": 0
}
