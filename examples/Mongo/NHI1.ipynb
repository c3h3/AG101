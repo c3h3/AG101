{
 "cells": [
  {
   "cell_type": "code",
   "execution_count": 1,
   "metadata": {
    "collapsed": false
   },
   "outputs": [],
   "source": [
    "from pymongo import MongoClient"
   ]
  },
  {
   "cell_type": "code",
   "execution_count": 2,
   "metadata": {
    "collapsed": true
   },
   "outputs": [],
   "source": [
    "connection=MongoClient(\"mongodb://localhost:27017\")"
   ]
  },
  {
   "cell_type": "code",
   "execution_count": 3,
   "metadata": {
    "collapsed": true
   },
   "outputs": [],
   "source": [
    "db=connection.nhi"
   ]
  },
  {
   "cell_type": "code",
   "execution_count": 4,
   "metadata": {
    "collapsed": true
   },
   "outputs": [],
   "source": [
    "nhidata=db.nhidata"
   ]
  },
  {
   "cell_type": "code",
   "execution_count": 5,
   "metadata": {
    "collapsed": true
   },
   "outputs": [],
   "source": [
    "#nhidata.drop()"
   ]
  },
  {
   "cell_type": "code",
   "execution_count": 6,
   "metadata": {
    "collapsed": true
   },
   "outputs": [],
   "source": [
    "import pandas as pd"
   ]
  },
  {
   "cell_type": "code",
   "execution_count": 7,
   "metadata": {
    "collapsed": true
   },
   "outputs": [],
   "source": [
    "dfs=pd.read_excel('table1.xls')"
   ]
  },
  {
   "cell_type": "code",
   "execution_count": 8,
   "metadata": {
    "collapsed": false
   },
   "outputs": [],
   "source": [
    "#dfs.columns"
   ]
  },
  {
   "cell_type": "code",
   "execution_count": 59,
   "metadata": {
    "collapsed": false
   },
   "outputs": [],
   "source": [
    "#dfs"
   ]
  },
  {
   "cell_type": "code",
   "execution_count": 10,
   "metadata": {
    "collapsed": false
   },
   "outputs": [],
   "source": [
    "#len(dfs.index)"
   ]
  },
  {
   "cell_type": "code",
   "execution_count": 8,
   "metadata": {
    "collapsed": true
   },
   "outputs": [],
   "source": [
    "arr = dfs.values"
   ]
  },
  {
   "cell_type": "code",
   "execution_count": 12,
   "metadata": {
    "collapsed": false
   },
   "outputs": [],
   "source": [
    "#arr"
   ]
  },
  {
   "cell_type": "code",
   "execution_count": 13,
   "metadata": {
    "collapsed": false
   },
   "outputs": [],
   "source": [
    "#len(arr.tolist())"
   ]
  },
  {
   "cell_type": "code",
   "execution_count": 14,
   "metadata": {
    "collapsed": false
   },
   "outputs": [],
   "source": [
    "#type(arr)"
   ]
  },
  {
   "cell_type": "code",
   "execution_count": 15,
   "metadata": {
    "collapsed": false
   },
   "outputs": [],
   "source": [
    "#print (arr.tolist()[-1][0])"
   ]
  },
  {
   "cell_type": "code",
   "execution_count": 16,
   "metadata": {
    "collapsed": false
   },
   "outputs": [],
   "source": [
    "#type(arr.tolist()[-1][0])"
   ]
  },
  {
   "cell_type": "code",
   "execution_count": 17,
   "metadata": {
    "collapsed": false
   },
   "outputs": [],
   "source": [
    "#type(arr.tolist()[-5][0])"
   ]
  },
  {
   "cell_type": "code",
   "execution_count": 18,
   "metadata": {
    "collapsed": false
   },
   "outputs": [],
   "source": [
    "#print(arr.tolist()[-5][0])"
   ]
  },
  {
   "cell_type": "code",
   "execution_count": 9,
   "metadata": {
    "collapsed": true
   },
   "outputs": [],
   "source": [
    "data = [row for row in arr.tolist() if isinstance(row[0],int)]"
   ]
  },
  {
   "cell_type": "code",
   "execution_count": 10,
   "metadata": {
    "collapsed": false
   },
   "outputs": [],
   "source": [
    "data=pd.DataFrame(data)"
   ]
  },
  {
   "cell_type": "code",
   "execution_count": 11,
   "metadata": {
    "collapsed": false
   },
   "outputs": [
    {
     "data": {
      "text/html": [
       "<div style=\"max-height:1000px;max-width:1500px;overflow:auto;\">\n",
       "<table border=\"1\" class=\"dataframe\">\n",
       "  <thead>\n",
       "    <tr style=\"text-align: right;\">\n",
       "      <th></th>\n",
       "      <th>0</th>\n",
       "      <th>1</th>\n",
       "      <th>2</th>\n",
       "      <th>3</th>\n",
       "      <th>4</th>\n",
       "      <th>5</th>\n",
       "      <th>6</th>\n",
       "    </tr>\n",
       "  </thead>\n",
       "  <tbody>\n",
       "    <tr>\n",
       "      <th>0</th>\n",
       "      <td>19047</td>\n",
       "      <td>281</td>\n",
       "      <td>562</td>\n",
       "      <td>843</td>\n",
       "      <td>1124</td>\n",
       "      <td>954</td>\n",
       "      <td>159</td>\n",
       "    </tr>\n",
       "    <tr>\n",
       "      <th>1</th>\n",
       "      <td>19200</td>\n",
       "      <td>283</td>\n",
       "      <td>566</td>\n",
       "      <td>849</td>\n",
       "      <td>1132</td>\n",
       "      <td>962</td>\n",
       "      <td>160</td>\n",
       "    </tr>\n",
       "    <tr>\n",
       "      <th>2</th>\n",
       "      <td>20100</td>\n",
       "      <td>296</td>\n",
       "      <td>592</td>\n",
       "      <td>888</td>\n",
       "      <td>1184</td>\n",
       "      <td>1007</td>\n",
       "      <td>168</td>\n",
       "    </tr>\n",
       "    <tr>\n",
       "      <th>3</th>\n",
       "      <td>21000</td>\n",
       "      <td>309</td>\n",
       "      <td>618</td>\n",
       "      <td>927</td>\n",
       "      <td>1236</td>\n",
       "      <td>1052</td>\n",
       "      <td>175</td>\n",
       "    </tr>\n",
       "    <tr>\n",
       "      <th>4</th>\n",
       "      <td>21900</td>\n",
       "      <td>323</td>\n",
       "      <td>646</td>\n",
       "      <td>969</td>\n",
       "      <td>1292</td>\n",
       "      <td>1097</td>\n",
       "      <td>183</td>\n",
       "    </tr>\n",
       "  </tbody>\n",
       "</table>\n",
       "</div>"
      ],
      "text/plain": [
       "       0    1    2    3     4     5    6\n",
       "0  19047  281  562  843  1124   954  159\n",
       "1  19200  283  566  849  1132   962  160\n",
       "2  20100  296  592  888  1184  1007  168\n",
       "3  21000  309  618  927  1236  1052  175\n",
       "4  21900  323  646  969  1292  1097  183"
      ]
     },
     "execution_count": 11,
     "metadata": {},
     "output_type": "execute_result"
    }
   ],
   "source": [
    "data.head()"
   ]
  },
  {
   "cell_type": "code",
   "execution_count": 12,
   "metadata": {
    "collapsed": false
   },
   "outputs": [],
   "source": [
    "values = data[[1,2,3,4]].values"
   ]
  },
  {
   "cell_type": "code",
   "execution_count": 23,
   "metadata": {
    "collapsed": false
   },
   "outputs": [],
   "source": [
    "#values"
   ]
  },
  {
   "cell_type": "code",
   "execution_count": 24,
   "metadata": {
    "collapsed": false
   },
   "outputs": [],
   "source": [
    "#values.shape"
   ]
  },
  {
   "cell_type": "code",
   "execution_count": 25,
   "metadata": {
    "collapsed": false
   },
   "outputs": [],
   "source": [
    "#53*4"
   ]
  },
  {
   "cell_type": "code",
   "execution_count": 13,
   "metadata": {
    "collapsed": true
   },
   "outputs": [],
   "source": [
    "value=values.flatten()"
   ]
  },
  {
   "cell_type": "code",
   "execution_count": 27,
   "metadata": {
    "collapsed": false
   },
   "outputs": [],
   "source": [
    "#value"
   ]
  },
  {
   "cell_type": "code",
   "execution_count": 14,
   "metadata": {
    "collapsed": true
   },
   "outputs": [],
   "source": [
    "mylst = list(data[0])*4"
   ]
  },
  {
   "cell_type": "code",
   "execution_count": 15,
   "metadata": {
    "collapsed": false
   },
   "outputs": [],
   "source": [
    "mylst.sort()"
   ]
  },
  {
   "cell_type": "code",
   "execution_count": 30,
   "metadata": {
    "collapsed": false
   },
   "outputs": [],
   "source": [
    "#mylst"
   ]
  },
  {
   "cell_type": "code",
   "execution_count": 16,
   "metadata": {
    "collapsed": true
   },
   "outputs": [],
   "source": [
    "sec=list(data[5])*4"
   ]
  },
  {
   "cell_type": "code",
   "execution_count": 31,
   "metadata": {
    "collapsed": true
   },
   "outputs": [],
   "source": [
    "third=list(data[6])*4"
   ]
  },
  {
   "cell_type": "code",
   "execution_count": 18,
   "metadata": {
    "collapsed": true
   },
   "outputs": [],
   "source": [
    "sec.sort()"
   ]
  },
  {
   "cell_type": "code",
   "execution_count": 32,
   "metadata": {
    "collapsed": true
   },
   "outputs": [],
   "source": [
    "third.sort()"
   ]
  },
  {
   "cell_type": "code",
   "execution_count": 20,
   "metadata": {
    "collapsed": true
   },
   "outputs": [],
   "source": [
    "d5=pd.DataFrame(sec)"
   ]
  },
  {
   "cell_type": "code",
   "execution_count": 33,
   "metadata": {
    "collapsed": true
   },
   "outputs": [],
   "source": [
    "d6=pd.DataFrame(third)"
   ]
  },
  {
   "cell_type": "code",
   "execution_count": 22,
   "metadata": {
    "collapsed": false
   },
   "outputs": [],
   "source": [
    "rss=(range(4)*53)\n",
    "#rss"
   ]
  },
  {
   "cell_type": "code",
   "execution_count": 23,
   "metadata": {
    "collapsed": true
   },
   "outputs": [],
   "source": [
    "d1=pd.DataFrame(mylst)"
   ]
  },
  {
   "cell_type": "code",
   "execution_count": 24,
   "metadata": {
    "collapsed": true
   },
   "outputs": [],
   "source": [
    "d2=pd.DataFrame(rss)"
   ]
  },
  {
   "cell_type": "code",
   "execution_count": 25,
   "metadata": {
    "collapsed": true
   },
   "outputs": [],
   "source": [
    "d3=pd.DataFrame(value)"
   ]
  },
  {
   "cell_type": "code",
   "execution_count": 26,
   "metadata": {
    "collapsed": true
   },
   "outputs": [],
   "source": [
    "lv=(range(1,54)*4)"
   ]
  },
  {
   "cell_type": "code",
   "execution_count": 27,
   "metadata": {
    "collapsed": true
   },
   "outputs": [],
   "source": [
    "lv.sort()"
   ]
  },
  {
   "cell_type": "code",
   "execution_count": 41,
   "metadata": {
    "collapsed": false
   },
   "outputs": [],
   "source": [
    "#lv"
   ]
  },
  {
   "cell_type": "code",
   "execution_count": 28,
   "metadata": {
    "collapsed": true
   },
   "outputs": [],
   "source": [
    "d4=pd.DataFrame(lv)"
   ]
  },
  {
   "cell_type": "code",
   "execution_count": 34,
   "metadata": {
    "collapsed": true
   },
   "outputs": [],
   "source": [
    "dff=pd.concat([d4,d1,d2,d3,d5,d6], axis=1)"
   ]
  },
  {
   "cell_type": "code",
   "execution_count": 35,
   "metadata": {
    "collapsed": false
   },
   "outputs": [
    {
     "data": {
      "text/html": [
       "<div style=\"max-height:1000px;max-width:1500px;overflow:auto;\">\n",
       "<table border=\"1\" class=\"dataframe\">\n",
       "  <thead>\n",
       "    <tr style=\"text-align: right;\">\n",
       "      <th></th>\n",
       "      <th>0</th>\n",
       "      <th>0</th>\n",
       "      <th>0</th>\n",
       "      <th>0</th>\n",
       "      <th>0</th>\n",
       "      <th>0</th>\n",
       "    </tr>\n",
       "  </thead>\n",
       "  <tbody>\n",
       "    <tr>\n",
       "      <th>0</th>\n",
       "      <td>1</td>\n",
       "      <td>19047</td>\n",
       "      <td>0</td>\n",
       "      <td>281</td>\n",
       "      <td>954</td>\n",
       "      <td>159</td>\n",
       "    </tr>\n",
       "    <tr>\n",
       "      <th>1</th>\n",
       "      <td>1</td>\n",
       "      <td>19047</td>\n",
       "      <td>1</td>\n",
       "      <td>562</td>\n",
       "      <td>954</td>\n",
       "      <td>159</td>\n",
       "    </tr>\n",
       "    <tr>\n",
       "      <th>2</th>\n",
       "      <td>1</td>\n",
       "      <td>19047</td>\n",
       "      <td>2</td>\n",
       "      <td>843</td>\n",
       "      <td>954</td>\n",
       "      <td>159</td>\n",
       "    </tr>\n",
       "    <tr>\n",
       "      <th>3</th>\n",
       "      <td>1</td>\n",
       "      <td>19047</td>\n",
       "      <td>3</td>\n",
       "      <td>1124</td>\n",
       "      <td>954</td>\n",
       "      <td>159</td>\n",
       "    </tr>\n",
       "    <tr>\n",
       "      <th>4</th>\n",
       "      <td>2</td>\n",
       "      <td>19200</td>\n",
       "      <td>0</td>\n",
       "      <td>283</td>\n",
       "      <td>962</td>\n",
       "      <td>160</td>\n",
       "    </tr>\n",
       "    <tr>\n",
       "      <th>5</th>\n",
       "      <td>2</td>\n",
       "      <td>19200</td>\n",
       "      <td>1</td>\n",
       "      <td>566</td>\n",
       "      <td>962</td>\n",
       "      <td>160</td>\n",
       "    </tr>\n",
       "    <tr>\n",
       "      <th>6</th>\n",
       "      <td>2</td>\n",
       "      <td>19200</td>\n",
       "      <td>2</td>\n",
       "      <td>849</td>\n",
       "      <td>962</td>\n",
       "      <td>160</td>\n",
       "    </tr>\n",
       "    <tr>\n",
       "      <th>7</th>\n",
       "      <td>2</td>\n",
       "      <td>19200</td>\n",
       "      <td>3</td>\n",
       "      <td>1132</td>\n",
       "      <td>962</td>\n",
       "      <td>160</td>\n",
       "    </tr>\n",
       "    <tr>\n",
       "      <th>8</th>\n",
       "      <td>3</td>\n",
       "      <td>20100</td>\n",
       "      <td>0</td>\n",
       "      <td>296</td>\n",
       "      <td>1007</td>\n",
       "      <td>168</td>\n",
       "    </tr>\n",
       "    <tr>\n",
       "      <th>9</th>\n",
       "      <td>3</td>\n",
       "      <td>20100</td>\n",
       "      <td>1</td>\n",
       "      <td>592</td>\n",
       "      <td>1007</td>\n",
       "      <td>168</td>\n",
       "    </tr>\n",
       "    <tr>\n",
       "      <th>10</th>\n",
       "      <td>3</td>\n",
       "      <td>20100</td>\n",
       "      <td>2</td>\n",
       "      <td>888</td>\n",
       "      <td>1007</td>\n",
       "      <td>168</td>\n",
       "    </tr>\n",
       "    <tr>\n",
       "      <th>11</th>\n",
       "      <td>3</td>\n",
       "      <td>20100</td>\n",
       "      <td>3</td>\n",
       "      <td>1184</td>\n",
       "      <td>1007</td>\n",
       "      <td>168</td>\n",
       "    </tr>\n",
       "    <tr>\n",
       "      <th>12</th>\n",
       "      <td>4</td>\n",
       "      <td>21000</td>\n",
       "      <td>0</td>\n",
       "      <td>309</td>\n",
       "      <td>1052</td>\n",
       "      <td>175</td>\n",
       "    </tr>\n",
       "    <tr>\n",
       "      <th>13</th>\n",
       "      <td>4</td>\n",
       "      <td>21000</td>\n",
       "      <td>1</td>\n",
       "      <td>618</td>\n",
       "      <td>1052</td>\n",
       "      <td>175</td>\n",
       "    </tr>\n",
       "    <tr>\n",
       "      <th>14</th>\n",
       "      <td>4</td>\n",
       "      <td>21000</td>\n",
       "      <td>2</td>\n",
       "      <td>927</td>\n",
       "      <td>1052</td>\n",
       "      <td>175</td>\n",
       "    </tr>\n",
       "    <tr>\n",
       "      <th>15</th>\n",
       "      <td>4</td>\n",
       "      <td>21000</td>\n",
       "      <td>3</td>\n",
       "      <td>1236</td>\n",
       "      <td>1052</td>\n",
       "      <td>175</td>\n",
       "    </tr>\n",
       "    <tr>\n",
       "      <th>16</th>\n",
       "      <td>5</td>\n",
       "      <td>21900</td>\n",
       "      <td>0</td>\n",
       "      <td>323</td>\n",
       "      <td>1097</td>\n",
       "      <td>183</td>\n",
       "    </tr>\n",
       "    <tr>\n",
       "      <th>17</th>\n",
       "      <td>5</td>\n",
       "      <td>21900</td>\n",
       "      <td>1</td>\n",
       "      <td>646</td>\n",
       "      <td>1097</td>\n",
       "      <td>183</td>\n",
       "    </tr>\n",
       "    <tr>\n",
       "      <th>18</th>\n",
       "      <td>5</td>\n",
       "      <td>21900</td>\n",
       "      <td>2</td>\n",
       "      <td>969</td>\n",
       "      <td>1097</td>\n",
       "      <td>183</td>\n",
       "    </tr>\n",
       "    <tr>\n",
       "      <th>19</th>\n",
       "      <td>5</td>\n",
       "      <td>21900</td>\n",
       "      <td>3</td>\n",
       "      <td>1292</td>\n",
       "      <td>1097</td>\n",
       "      <td>183</td>\n",
       "    </tr>\n",
       "    <tr>\n",
       "      <th>20</th>\n",
       "      <td>6</td>\n",
       "      <td>22800</td>\n",
       "      <td>0</td>\n",
       "      <td>336</td>\n",
       "      <td>1142</td>\n",
       "      <td>190</td>\n",
       "    </tr>\n",
       "    <tr>\n",
       "      <th>21</th>\n",
       "      <td>6</td>\n",
       "      <td>22800</td>\n",
       "      <td>1</td>\n",
       "      <td>672</td>\n",
       "      <td>1142</td>\n",
       "      <td>190</td>\n",
       "    </tr>\n",
       "    <tr>\n",
       "      <th>22</th>\n",
       "      <td>6</td>\n",
       "      <td>22800</td>\n",
       "      <td>2</td>\n",
       "      <td>1008</td>\n",
       "      <td>1142</td>\n",
       "      <td>190</td>\n",
       "    </tr>\n",
       "    <tr>\n",
       "      <th>23</th>\n",
       "      <td>6</td>\n",
       "      <td>22800</td>\n",
       "      <td>3</td>\n",
       "      <td>1344</td>\n",
       "      <td>1142</td>\n",
       "      <td>190</td>\n",
       "    </tr>\n",
       "    <tr>\n",
       "      <th>24</th>\n",
       "      <td>7</td>\n",
       "      <td>24000</td>\n",
       "      <td>0</td>\n",
       "      <td>354</td>\n",
       "      <td>1202</td>\n",
       "      <td>200</td>\n",
       "    </tr>\n",
       "    <tr>\n",
       "      <th>25</th>\n",
       "      <td>7</td>\n",
       "      <td>24000</td>\n",
       "      <td>1</td>\n",
       "      <td>708</td>\n",
       "      <td>1202</td>\n",
       "      <td>200</td>\n",
       "    </tr>\n",
       "    <tr>\n",
       "      <th>26</th>\n",
       "      <td>7</td>\n",
       "      <td>24000</td>\n",
       "      <td>2</td>\n",
       "      <td>1062</td>\n",
       "      <td>1202</td>\n",
       "      <td>200</td>\n",
       "    </tr>\n",
       "    <tr>\n",
       "      <th>27</th>\n",
       "      <td>7</td>\n",
       "      <td>24000</td>\n",
       "      <td>3</td>\n",
       "      <td>1416</td>\n",
       "      <td>1202</td>\n",
       "      <td>200</td>\n",
       "    </tr>\n",
       "    <tr>\n",
       "      <th>28</th>\n",
       "      <td>8</td>\n",
       "      <td>25200</td>\n",
       "      <td>0</td>\n",
       "      <td>371</td>\n",
       "      <td>1262</td>\n",
       "      <td>210</td>\n",
       "    </tr>\n",
       "    <tr>\n",
       "      <th>29</th>\n",
       "      <td>8</td>\n",
       "      <td>25200</td>\n",
       "      <td>1</td>\n",
       "      <td>742</td>\n",
       "      <td>1262</td>\n",
       "      <td>210</td>\n",
       "    </tr>\n",
       "    <tr>\n",
       "      <th>...</th>\n",
       "      <td>...</td>\n",
       "      <td>...</td>\n",
       "      <td>...</td>\n",
       "      <td>...</td>\n",
       "      <td>...</td>\n",
       "      <td>...</td>\n",
       "    </tr>\n",
       "    <tr>\n",
       "      <th>182</th>\n",
       "      <td>46</td>\n",
       "      <td>142500</td>\n",
       "      <td>2</td>\n",
       "      <td>6297</td>\n",
       "      <td>7137</td>\n",
       "      <td>1189</td>\n",
       "    </tr>\n",
       "    <tr>\n",
       "      <th>183</th>\n",
       "      <td>46</td>\n",
       "      <td>142500</td>\n",
       "      <td>3</td>\n",
       "      <td>8396</td>\n",
       "      <td>7137</td>\n",
       "      <td>1189</td>\n",
       "    </tr>\n",
       "    <tr>\n",
       "      <th>184</th>\n",
       "      <td>47</td>\n",
       "      <td>147900</td>\n",
       "      <td>0</td>\n",
       "      <td>2179</td>\n",
       "      <td>7407</td>\n",
       "      <td>1235</td>\n",
       "    </tr>\n",
       "    <tr>\n",
       "      <th>185</th>\n",
       "      <td>47</td>\n",
       "      <td>147900</td>\n",
       "      <td>1</td>\n",
       "      <td>4358</td>\n",
       "      <td>7407</td>\n",
       "      <td>1235</td>\n",
       "    </tr>\n",
       "    <tr>\n",
       "      <th>186</th>\n",
       "      <td>47</td>\n",
       "      <td>147900</td>\n",
       "      <td>2</td>\n",
       "      <td>6537</td>\n",
       "      <td>7407</td>\n",
       "      <td>1235</td>\n",
       "    </tr>\n",
       "    <tr>\n",
       "      <th>187</th>\n",
       "      <td>47</td>\n",
       "      <td>147900</td>\n",
       "      <td>3</td>\n",
       "      <td>8716</td>\n",
       "      <td>7407</td>\n",
       "      <td>1235</td>\n",
       "    </tr>\n",
       "    <tr>\n",
       "      <th>188</th>\n",
       "      <td>48</td>\n",
       "      <td>150000</td>\n",
       "      <td>0</td>\n",
       "      <td>2210</td>\n",
       "      <td>7512</td>\n",
       "      <td>1252</td>\n",
       "    </tr>\n",
       "    <tr>\n",
       "      <th>189</th>\n",
       "      <td>48</td>\n",
       "      <td>150000</td>\n",
       "      <td>1</td>\n",
       "      <td>4420</td>\n",
       "      <td>7512</td>\n",
       "      <td>1252</td>\n",
       "    </tr>\n",
       "    <tr>\n",
       "      <th>190</th>\n",
       "      <td>48</td>\n",
       "      <td>150000</td>\n",
       "      <td>2</td>\n",
       "      <td>6630</td>\n",
       "      <td>7512</td>\n",
       "      <td>1252</td>\n",
       "    </tr>\n",
       "    <tr>\n",
       "      <th>191</th>\n",
       "      <td>48</td>\n",
       "      <td>150000</td>\n",
       "      <td>3</td>\n",
       "      <td>8840</td>\n",
       "      <td>7512</td>\n",
       "      <td>1252</td>\n",
       "    </tr>\n",
       "    <tr>\n",
       "      <th>192</th>\n",
       "      <td>49</td>\n",
       "      <td>156400</td>\n",
       "      <td>0</td>\n",
       "      <td>2304</td>\n",
       "      <td>7833</td>\n",
       "      <td>1305</td>\n",
       "    </tr>\n",
       "    <tr>\n",
       "      <th>193</th>\n",
       "      <td>49</td>\n",
       "      <td>156400</td>\n",
       "      <td>1</td>\n",
       "      <td>4608</td>\n",
       "      <td>7833</td>\n",
       "      <td>1305</td>\n",
       "    </tr>\n",
       "    <tr>\n",
       "      <th>194</th>\n",
       "      <td>49</td>\n",
       "      <td>156400</td>\n",
       "      <td>2</td>\n",
       "      <td>6912</td>\n",
       "      <td>7833</td>\n",
       "      <td>1305</td>\n",
       "    </tr>\n",
       "    <tr>\n",
       "      <th>195</th>\n",
       "      <td>49</td>\n",
       "      <td>156400</td>\n",
       "      <td>3</td>\n",
       "      <td>9216</td>\n",
       "      <td>7833</td>\n",
       "      <td>1305</td>\n",
       "    </tr>\n",
       "    <tr>\n",
       "      <th>196</th>\n",
       "      <td>50</td>\n",
       "      <td>162800</td>\n",
       "      <td>0</td>\n",
       "      <td>2398</td>\n",
       "      <td>8153</td>\n",
       "      <td>1359</td>\n",
       "    </tr>\n",
       "    <tr>\n",
       "      <th>197</th>\n",
       "      <td>50</td>\n",
       "      <td>162800</td>\n",
       "      <td>1</td>\n",
       "      <td>4796</td>\n",
       "      <td>8153</td>\n",
       "      <td>1359</td>\n",
       "    </tr>\n",
       "    <tr>\n",
       "      <th>198</th>\n",
       "      <td>50</td>\n",
       "      <td>162800</td>\n",
       "      <td>2</td>\n",
       "      <td>7194</td>\n",
       "      <td>8153</td>\n",
       "      <td>1359</td>\n",
       "    </tr>\n",
       "    <tr>\n",
       "      <th>199</th>\n",
       "      <td>50</td>\n",
       "      <td>162800</td>\n",
       "      <td>3</td>\n",
       "      <td>9592</td>\n",
       "      <td>8153</td>\n",
       "      <td>1359</td>\n",
       "    </tr>\n",
       "    <tr>\n",
       "      <th>200</th>\n",
       "      <td>51</td>\n",
       "      <td>169200</td>\n",
       "      <td>0</td>\n",
       "      <td>2492</td>\n",
       "      <td>8474</td>\n",
       "      <td>1412</td>\n",
       "    </tr>\n",
       "    <tr>\n",
       "      <th>201</th>\n",
       "      <td>51</td>\n",
       "      <td>169200</td>\n",
       "      <td>1</td>\n",
       "      <td>4984</td>\n",
       "      <td>8474</td>\n",
       "      <td>1412</td>\n",
       "    </tr>\n",
       "    <tr>\n",
       "      <th>202</th>\n",
       "      <td>51</td>\n",
       "      <td>169200</td>\n",
       "      <td>2</td>\n",
       "      <td>7476</td>\n",
       "      <td>8474</td>\n",
       "      <td>1412</td>\n",
       "    </tr>\n",
       "    <tr>\n",
       "      <th>203</th>\n",
       "      <td>51</td>\n",
       "      <td>169200</td>\n",
       "      <td>3</td>\n",
       "      <td>9968</td>\n",
       "      <td>8474</td>\n",
       "      <td>1412</td>\n",
       "    </tr>\n",
       "    <tr>\n",
       "      <th>204</th>\n",
       "      <td>52</td>\n",
       "      <td>175600</td>\n",
       "      <td>0</td>\n",
       "      <td>2587</td>\n",
       "      <td>8794</td>\n",
       "      <td>1466</td>\n",
       "    </tr>\n",
       "    <tr>\n",
       "      <th>205</th>\n",
       "      <td>52</td>\n",
       "      <td>175600</td>\n",
       "      <td>1</td>\n",
       "      <td>5174</td>\n",
       "      <td>8794</td>\n",
       "      <td>1466</td>\n",
       "    </tr>\n",
       "    <tr>\n",
       "      <th>206</th>\n",
       "      <td>52</td>\n",
       "      <td>175600</td>\n",
       "      <td>2</td>\n",
       "      <td>7761</td>\n",
       "      <td>8794</td>\n",
       "      <td>1466</td>\n",
       "    </tr>\n",
       "    <tr>\n",
       "      <th>207</th>\n",
       "      <td>52</td>\n",
       "      <td>175600</td>\n",
       "      <td>3</td>\n",
       "      <td>10348</td>\n",
       "      <td>8794</td>\n",
       "      <td>1466</td>\n",
       "    </tr>\n",
       "    <tr>\n",
       "      <th>208</th>\n",
       "      <td>53</td>\n",
       "      <td>182000</td>\n",
       "      <td>0</td>\n",
       "      <td>2681</td>\n",
       "      <td>9115</td>\n",
       "      <td>1519</td>\n",
       "    </tr>\n",
       "    <tr>\n",
       "      <th>209</th>\n",
       "      <td>53</td>\n",
       "      <td>182000</td>\n",
       "      <td>1</td>\n",
       "      <td>5362</td>\n",
       "      <td>9115</td>\n",
       "      <td>1519</td>\n",
       "    </tr>\n",
       "    <tr>\n",
       "      <th>210</th>\n",
       "      <td>53</td>\n",
       "      <td>182000</td>\n",
       "      <td>2</td>\n",
       "      <td>8043</td>\n",
       "      <td>9115</td>\n",
       "      <td>1519</td>\n",
       "    </tr>\n",
       "    <tr>\n",
       "      <th>211</th>\n",
       "      <td>53</td>\n",
       "      <td>182000</td>\n",
       "      <td>3</td>\n",
       "      <td>10724</td>\n",
       "      <td>9115</td>\n",
       "      <td>1519</td>\n",
       "    </tr>\n",
       "  </tbody>\n",
       "</table>\n",
       "<p>212 rows × 6 columns</p>\n",
       "</div>"
      ],
      "text/plain": [
       "      0       0  0      0     0     0\n",
       "0     1   19047  0    281   954   159\n",
       "1     1   19047  1    562   954   159\n",
       "2     1   19047  2    843   954   159\n",
       "3     1   19047  3   1124   954   159\n",
       "4     2   19200  0    283   962   160\n",
       "5     2   19200  1    566   962   160\n",
       "6     2   19200  2    849   962   160\n",
       "7     2   19200  3   1132   962   160\n",
       "8     3   20100  0    296  1007   168\n",
       "9     3   20100  1    592  1007   168\n",
       "10    3   20100  2    888  1007   168\n",
       "11    3   20100  3   1184  1007   168\n",
       "12    4   21000  0    309  1052   175\n",
       "13    4   21000  1    618  1052   175\n",
       "14    4   21000  2    927  1052   175\n",
       "15    4   21000  3   1236  1052   175\n",
       "16    5   21900  0    323  1097   183\n",
       "17    5   21900  1    646  1097   183\n",
       "18    5   21900  2    969  1097   183\n",
       "19    5   21900  3   1292  1097   183\n",
       "20    6   22800  0    336  1142   190\n",
       "21    6   22800  1    672  1142   190\n",
       "22    6   22800  2   1008  1142   190\n",
       "23    6   22800  3   1344  1142   190\n",
       "24    7   24000  0    354  1202   200\n",
       "25    7   24000  1    708  1202   200\n",
       "26    7   24000  2   1062  1202   200\n",
       "27    7   24000  3   1416  1202   200\n",
       "28    8   25200  0    371  1262   210\n",
       "29    8   25200  1    742  1262   210\n",
       "..   ..     ... ..    ...   ...   ...\n",
       "182  46  142500  2   6297  7137  1189\n",
       "183  46  142500  3   8396  7137  1189\n",
       "184  47  147900  0   2179  7407  1235\n",
       "185  47  147900  1   4358  7407  1235\n",
       "186  47  147900  2   6537  7407  1235\n",
       "187  47  147900  3   8716  7407  1235\n",
       "188  48  150000  0   2210  7512  1252\n",
       "189  48  150000  1   4420  7512  1252\n",
       "190  48  150000  2   6630  7512  1252\n",
       "191  48  150000  3   8840  7512  1252\n",
       "192  49  156400  0   2304  7833  1305\n",
       "193  49  156400  1   4608  7833  1305\n",
       "194  49  156400  2   6912  7833  1305\n",
       "195  49  156400  3   9216  7833  1305\n",
       "196  50  162800  0   2398  8153  1359\n",
       "197  50  162800  1   4796  8153  1359\n",
       "198  50  162800  2   7194  8153  1359\n",
       "199  50  162800  3   9592  8153  1359\n",
       "200  51  169200  0   2492  8474  1412\n",
       "201  51  169200  1   4984  8474  1412\n",
       "202  51  169200  2   7476  8474  1412\n",
       "203  51  169200  3   9968  8474  1412\n",
       "204  52  175600  0   2587  8794  1466\n",
       "205  52  175600  1   5174  8794  1466\n",
       "206  52  175600  2   7761  8794  1466\n",
       "207  52  175600  3  10348  8794  1466\n",
       "208  53  182000  0   2681  9115  1519\n",
       "209  53  182000  1   5362  9115  1519\n",
       "210  53  182000  2   8043  9115  1519\n",
       "211  53  182000  3  10724  9115  1519\n",
       "\n",
       "[212 rows x 6 columns]"
      ]
     },
     "execution_count": 35,
     "metadata": {},
     "output_type": "execute_result"
    }
   ],
   "source": [
    "dff"
   ]
  },
  {
   "cell_type": "code",
   "execution_count": 37,
   "metadata": {
    "collapsed": false
   },
   "outputs": [],
   "source": [
    "dff.columns=['level','insurance','family','pay_p','pay_cpn','pay_gov']"
   ]
  },
  {
   "cell_type": "code",
   "execution_count": 39,
   "metadata": {
    "collapsed": false
   },
   "outputs": [
    {
     "data": {
      "text/html": [
       "<div style=\"max-height:1000px;max-width:1500px;overflow:auto;\">\n",
       "<table border=\"1\" class=\"dataframe\">\n",
       "  <thead>\n",
       "    <tr style=\"text-align: right;\">\n",
       "      <th></th>\n",
       "      <th>level</th>\n",
       "      <th>insurance</th>\n",
       "      <th>family</th>\n",
       "      <th>pay_p</th>\n",
       "      <th>pay_cpn</th>\n",
       "      <th>pay_gov</th>\n",
       "    </tr>\n",
       "  </thead>\n",
       "  <tbody>\n",
       "    <tr>\n",
       "      <th>0</th>\n",
       "      <td>1</td>\n",
       "      <td>19047</td>\n",
       "      <td>0</td>\n",
       "      <td>281</td>\n",
       "      <td>954</td>\n",
       "      <td>159</td>\n",
       "    </tr>\n",
       "    <tr>\n",
       "      <th>1</th>\n",
       "      <td>1</td>\n",
       "      <td>19047</td>\n",
       "      <td>1</td>\n",
       "      <td>562</td>\n",
       "      <td>954</td>\n",
       "      <td>159</td>\n",
       "    </tr>\n",
       "    <tr>\n",
       "      <th>2</th>\n",
       "      <td>1</td>\n",
       "      <td>19047</td>\n",
       "      <td>2</td>\n",
       "      <td>843</td>\n",
       "      <td>954</td>\n",
       "      <td>159</td>\n",
       "    </tr>\n",
       "    <tr>\n",
       "      <th>3</th>\n",
       "      <td>1</td>\n",
       "      <td>19047</td>\n",
       "      <td>3</td>\n",
       "      <td>1124</td>\n",
       "      <td>954</td>\n",
       "      <td>159</td>\n",
       "    </tr>\n",
       "    <tr>\n",
       "      <th>4</th>\n",
       "      <td>2</td>\n",
       "      <td>19200</td>\n",
       "      <td>0</td>\n",
       "      <td>283</td>\n",
       "      <td>962</td>\n",
       "      <td>160</td>\n",
       "    </tr>\n",
       "  </tbody>\n",
       "</table>\n",
       "</div>"
      ],
      "text/plain": [
       "   level  insurance  family  pay_p  pay_cpn  pay_gov\n",
       "0      1      19047       0    281      954      159\n",
       "1      1      19047       1    562      954      159\n",
       "2      1      19047       2    843      954      159\n",
       "3      1      19047       3   1124      954      159\n",
       "4      2      19200       0    283      962      160"
      ]
     },
     "execution_count": 39,
     "metadata": {},
     "output_type": "execute_result"
    }
   ],
   "source": [
    "dff.head()"
   ]
  },
  {
   "cell_type": "code",
   "execution_count": 40,
   "metadata": {
    "collapsed": true
   },
   "outputs": [],
   "source": [
    "data=dff.to_dict(orient=\"records\")"
   ]
  },
  {
   "cell_type": "code",
   "execution_count": 41,
   "metadata": {
    "collapsed": false
   },
   "outputs": [
    {
     "data": {
      "text/plain": [
       "[ObjectId('552e17a101460665e8c53669'),\n",
       " ObjectId('552e17a101460665e8c5366a'),\n",
       " ObjectId('552e17a101460665e8c5366b'),\n",
       " ObjectId('552e17a101460665e8c5366c'),\n",
       " ObjectId('552e17a101460665e8c5366d'),\n",
       " ObjectId('552e17a101460665e8c5366e'),\n",
       " ObjectId('552e17a101460665e8c5366f'),\n",
       " ObjectId('552e17a101460665e8c53670'),\n",
       " ObjectId('552e17a101460665e8c53671'),\n",
       " ObjectId('552e17a101460665e8c53672'),\n",
       " ObjectId('552e17a101460665e8c53673'),\n",
       " ObjectId('552e17a101460665e8c53674'),\n",
       " ObjectId('552e17a101460665e8c53675'),\n",
       " ObjectId('552e17a101460665e8c53676'),\n",
       " ObjectId('552e17a101460665e8c53677'),\n",
       " ObjectId('552e17a101460665e8c53678'),\n",
       " ObjectId('552e17a101460665e8c53679'),\n",
       " ObjectId('552e17a101460665e8c5367a'),\n",
       " ObjectId('552e17a101460665e8c5367b'),\n",
       " ObjectId('552e17a101460665e8c5367c'),\n",
       " ObjectId('552e17a101460665e8c5367d'),\n",
       " ObjectId('552e17a101460665e8c5367e'),\n",
       " ObjectId('552e17a101460665e8c5367f'),\n",
       " ObjectId('552e17a101460665e8c53680'),\n",
       " ObjectId('552e17a101460665e8c53681'),\n",
       " ObjectId('552e17a101460665e8c53682'),\n",
       " ObjectId('552e17a101460665e8c53683'),\n",
       " ObjectId('552e17a101460665e8c53684'),\n",
       " ObjectId('552e17a101460665e8c53685'),\n",
       " ObjectId('552e17a101460665e8c53686'),\n",
       " ObjectId('552e17a101460665e8c53687'),\n",
       " ObjectId('552e17a101460665e8c53688'),\n",
       " ObjectId('552e17a101460665e8c53689'),\n",
       " ObjectId('552e17a101460665e8c5368a'),\n",
       " ObjectId('552e17a101460665e8c5368b'),\n",
       " ObjectId('552e17a101460665e8c5368c'),\n",
       " ObjectId('552e17a101460665e8c5368d'),\n",
       " ObjectId('552e17a101460665e8c5368e'),\n",
       " ObjectId('552e17a101460665e8c5368f'),\n",
       " ObjectId('552e17a101460665e8c53690'),\n",
       " ObjectId('552e17a101460665e8c53691'),\n",
       " ObjectId('552e17a101460665e8c53692'),\n",
       " ObjectId('552e17a101460665e8c53693'),\n",
       " ObjectId('552e17a101460665e8c53694'),\n",
       " ObjectId('552e17a101460665e8c53695'),\n",
       " ObjectId('552e17a101460665e8c53696'),\n",
       " ObjectId('552e17a101460665e8c53697'),\n",
       " ObjectId('552e17a101460665e8c53698'),\n",
       " ObjectId('552e17a101460665e8c53699'),\n",
       " ObjectId('552e17a101460665e8c5369a'),\n",
       " ObjectId('552e17a101460665e8c5369b'),\n",
       " ObjectId('552e17a101460665e8c5369c'),\n",
       " ObjectId('552e17a101460665e8c5369d'),\n",
       " ObjectId('552e17a101460665e8c5369e'),\n",
       " ObjectId('552e17a101460665e8c5369f'),\n",
       " ObjectId('552e17a101460665e8c536a0'),\n",
       " ObjectId('552e17a101460665e8c536a1'),\n",
       " ObjectId('552e17a101460665e8c536a2'),\n",
       " ObjectId('552e17a101460665e8c536a3'),\n",
       " ObjectId('552e17a101460665e8c536a4'),\n",
       " ObjectId('552e17a101460665e8c536a5'),\n",
       " ObjectId('552e17a101460665e8c536a6'),\n",
       " ObjectId('552e17a101460665e8c536a7'),\n",
       " ObjectId('552e17a101460665e8c536a8'),\n",
       " ObjectId('552e17a101460665e8c536a9'),\n",
       " ObjectId('552e17a101460665e8c536aa'),\n",
       " ObjectId('552e17a101460665e8c536ab'),\n",
       " ObjectId('552e17a101460665e8c536ac'),\n",
       " ObjectId('552e17a101460665e8c536ad'),\n",
       " ObjectId('552e17a101460665e8c536ae'),\n",
       " ObjectId('552e17a101460665e8c536af'),\n",
       " ObjectId('552e17a101460665e8c536b0'),\n",
       " ObjectId('552e17a101460665e8c536b1'),\n",
       " ObjectId('552e17a101460665e8c536b2'),\n",
       " ObjectId('552e17a101460665e8c536b3'),\n",
       " ObjectId('552e17a101460665e8c536b4'),\n",
       " ObjectId('552e17a101460665e8c536b5'),\n",
       " ObjectId('552e17a101460665e8c536b6'),\n",
       " ObjectId('552e17a101460665e8c536b7'),\n",
       " ObjectId('552e17a101460665e8c536b8'),\n",
       " ObjectId('552e17a101460665e8c536b9'),\n",
       " ObjectId('552e17a101460665e8c536ba'),\n",
       " ObjectId('552e17a101460665e8c536bb'),\n",
       " ObjectId('552e17a101460665e8c536bc'),\n",
       " ObjectId('552e17a101460665e8c536bd'),\n",
       " ObjectId('552e17a101460665e8c536be'),\n",
       " ObjectId('552e17a101460665e8c536bf'),\n",
       " ObjectId('552e17a101460665e8c536c0'),\n",
       " ObjectId('552e17a101460665e8c536c1'),\n",
       " ObjectId('552e17a101460665e8c536c2'),\n",
       " ObjectId('552e17a101460665e8c536c3'),\n",
       " ObjectId('552e17a101460665e8c536c4'),\n",
       " ObjectId('552e17a101460665e8c536c5'),\n",
       " ObjectId('552e17a101460665e8c536c6'),\n",
       " ObjectId('552e17a101460665e8c536c7'),\n",
       " ObjectId('552e17a101460665e8c536c8'),\n",
       " ObjectId('552e17a101460665e8c536c9'),\n",
       " ObjectId('552e17a101460665e8c536ca'),\n",
       " ObjectId('552e17a101460665e8c536cb'),\n",
       " ObjectId('552e17a101460665e8c536cc'),\n",
       " ObjectId('552e17a101460665e8c536cd'),\n",
       " ObjectId('552e17a101460665e8c536ce'),\n",
       " ObjectId('552e17a101460665e8c536cf'),\n",
       " ObjectId('552e17a101460665e8c536d0'),\n",
       " ObjectId('552e17a101460665e8c536d1'),\n",
       " ObjectId('552e17a101460665e8c536d2'),\n",
       " ObjectId('552e17a101460665e8c536d3'),\n",
       " ObjectId('552e17a101460665e8c536d4'),\n",
       " ObjectId('552e17a101460665e8c536d5'),\n",
       " ObjectId('552e17a101460665e8c536d6'),\n",
       " ObjectId('552e17a101460665e8c536d7'),\n",
       " ObjectId('552e17a101460665e8c536d8'),\n",
       " ObjectId('552e17a101460665e8c536d9'),\n",
       " ObjectId('552e17a101460665e8c536da'),\n",
       " ObjectId('552e17a101460665e8c536db'),\n",
       " ObjectId('552e17a101460665e8c536dc'),\n",
       " ObjectId('552e17a101460665e8c536dd'),\n",
       " ObjectId('552e17a101460665e8c536de'),\n",
       " ObjectId('552e17a101460665e8c536df'),\n",
       " ObjectId('552e17a101460665e8c536e0'),\n",
       " ObjectId('552e17a101460665e8c536e1'),\n",
       " ObjectId('552e17a101460665e8c536e2'),\n",
       " ObjectId('552e17a101460665e8c536e3'),\n",
       " ObjectId('552e17a101460665e8c536e4'),\n",
       " ObjectId('552e17a101460665e8c536e5'),\n",
       " ObjectId('552e17a101460665e8c536e6'),\n",
       " ObjectId('552e17a101460665e8c536e7'),\n",
       " ObjectId('552e17a101460665e8c536e8'),\n",
       " ObjectId('552e17a101460665e8c536e9'),\n",
       " ObjectId('552e17a101460665e8c536ea'),\n",
       " ObjectId('552e17a101460665e8c536eb'),\n",
       " ObjectId('552e17a101460665e8c536ec'),\n",
       " ObjectId('552e17a101460665e8c536ed'),\n",
       " ObjectId('552e17a101460665e8c536ee'),\n",
       " ObjectId('552e17a101460665e8c536ef'),\n",
       " ObjectId('552e17a101460665e8c536f0'),\n",
       " ObjectId('552e17a101460665e8c536f1'),\n",
       " ObjectId('552e17a101460665e8c536f2'),\n",
       " ObjectId('552e17a101460665e8c536f3'),\n",
       " ObjectId('552e17a101460665e8c536f4'),\n",
       " ObjectId('552e17a101460665e8c536f5'),\n",
       " ObjectId('552e17a101460665e8c536f6'),\n",
       " ObjectId('552e17a101460665e8c536f7'),\n",
       " ObjectId('552e17a101460665e8c536f8'),\n",
       " ObjectId('552e17a101460665e8c536f9'),\n",
       " ObjectId('552e17a101460665e8c536fa'),\n",
       " ObjectId('552e17a101460665e8c536fb'),\n",
       " ObjectId('552e17a101460665e8c536fc'),\n",
       " ObjectId('552e17a101460665e8c536fd'),\n",
       " ObjectId('552e17a101460665e8c536fe'),\n",
       " ObjectId('552e17a101460665e8c536ff'),\n",
       " ObjectId('552e17a101460665e8c53700'),\n",
       " ObjectId('552e17a101460665e8c53701'),\n",
       " ObjectId('552e17a101460665e8c53702'),\n",
       " ObjectId('552e17a101460665e8c53703'),\n",
       " ObjectId('552e17a101460665e8c53704'),\n",
       " ObjectId('552e17a101460665e8c53705'),\n",
       " ObjectId('552e17a101460665e8c53706'),\n",
       " ObjectId('552e17a101460665e8c53707'),\n",
       " ObjectId('552e17a101460665e8c53708'),\n",
       " ObjectId('552e17a101460665e8c53709'),\n",
       " ObjectId('552e17a101460665e8c5370a'),\n",
       " ObjectId('552e17a101460665e8c5370b'),\n",
       " ObjectId('552e17a101460665e8c5370c'),\n",
       " ObjectId('552e17a101460665e8c5370d'),\n",
       " ObjectId('552e17a101460665e8c5370e'),\n",
       " ObjectId('552e17a101460665e8c5370f'),\n",
       " ObjectId('552e17a101460665e8c53710'),\n",
       " ObjectId('552e17a101460665e8c53711'),\n",
       " ObjectId('552e17a101460665e8c53712'),\n",
       " ObjectId('552e17a101460665e8c53713'),\n",
       " ObjectId('552e17a101460665e8c53714'),\n",
       " ObjectId('552e17a101460665e8c53715'),\n",
       " ObjectId('552e17a101460665e8c53716'),\n",
       " ObjectId('552e17a101460665e8c53717'),\n",
       " ObjectId('552e17a101460665e8c53718'),\n",
       " ObjectId('552e17a101460665e8c53719'),\n",
       " ObjectId('552e17a101460665e8c5371a'),\n",
       " ObjectId('552e17a101460665e8c5371b'),\n",
       " ObjectId('552e17a101460665e8c5371c'),\n",
       " ObjectId('552e17a101460665e8c5371d'),\n",
       " ObjectId('552e17a101460665e8c5371e'),\n",
       " ObjectId('552e17a101460665e8c5371f'),\n",
       " ObjectId('552e17a101460665e8c53720'),\n",
       " ObjectId('552e17a101460665e8c53721'),\n",
       " ObjectId('552e17a101460665e8c53722'),\n",
       " ObjectId('552e17a101460665e8c53723'),\n",
       " ObjectId('552e17a101460665e8c53724'),\n",
       " ObjectId('552e17a101460665e8c53725'),\n",
       " ObjectId('552e17a101460665e8c53726'),\n",
       " ObjectId('552e17a101460665e8c53727'),\n",
       " ObjectId('552e17a101460665e8c53728'),\n",
       " ObjectId('552e17a101460665e8c53729'),\n",
       " ObjectId('552e17a101460665e8c5372a'),\n",
       " ObjectId('552e17a101460665e8c5372b'),\n",
       " ObjectId('552e17a101460665e8c5372c'),\n",
       " ObjectId('552e17a101460665e8c5372d'),\n",
       " ObjectId('552e17a101460665e8c5372e'),\n",
       " ObjectId('552e17a101460665e8c5372f'),\n",
       " ObjectId('552e17a101460665e8c53730'),\n",
       " ObjectId('552e17a101460665e8c53731'),\n",
       " ObjectId('552e17a101460665e8c53732'),\n",
       " ObjectId('552e17a101460665e8c53733'),\n",
       " ObjectId('552e17a101460665e8c53734'),\n",
       " ObjectId('552e17a101460665e8c53735'),\n",
       " ObjectId('552e17a101460665e8c53736'),\n",
       " ObjectId('552e17a101460665e8c53737'),\n",
       " ObjectId('552e17a101460665e8c53738'),\n",
       " ObjectId('552e17a101460665e8c53739'),\n",
       " ObjectId('552e17a101460665e8c5373a'),\n",
       " ObjectId('552e17a101460665e8c5373b'),\n",
       " ObjectId('552e17a101460665e8c5373c')]"
      ]
     },
     "execution_count": 41,
     "metadata": {},
     "output_type": "execute_result"
    }
   ],
   "source": [
    "nhidata.insert(data)"
   ]
  },
  {
   "cell_type": "code",
   "execution_count": 42,
   "metadata": {
    "collapsed": true
   },
   "outputs": [],
   "source": [
    "#dff.to_csv('nhl1.csv',encoding='utf8',index=False)"
   ]
  },
  {
   "cell_type": "markdown",
   "metadata": {},
   "source": [
    "---"
   ]
  },
  {
   "cell_type": "code",
   "execution_count": 52,
   "metadata": {
    "collapsed": true
   },
   "outputs": [],
   "source": [
    "Test=nhidata.find()"
   ]
  },
  {
   "cell_type": "code",
   "execution_count": 51,
   "metadata": {
    "collapsed": false
   },
   "outputs": [
    {
     "data": {
      "text/plain": [
       "{u'_id': ObjectId('552e17a101460665e8c5366f'),\n",
       " u'family': 2,\n",
       " u'insurance': 19200,\n",
       " u'level': 2,\n",
       " u'pay_cpn': 962,\n",
       " u'pay_gov': 160,\n",
       " u'pay_p': 849}"
      ]
     },
     "execution_count": 51,
     "metadata": {},
     "output_type": "execute_result"
    }
   ],
   "source": [
    "Test.next()"
   ]
  },
  {
   "cell_type": "code",
   "execution_count": 57,
   "metadata": {
    "collapsed": false
   },
   "outputs": [
    {
     "data": {
      "text/plain": [
       "{u'_id': ObjectId('552e17a101460665e8c536ce'),\n",
       " u'family': 1,\n",
       " u'insurance': 57800,\n",
       " u'level': 26,\n",
       " u'pay_cpn': 2895,\n",
       " u'pay_gov': 482,\n",
       " u'pay_p': 1702}"
      ]
     },
     "execution_count": 57,
     "metadata": {},
     "output_type": "execute_result"
    }
   ],
   "source": [
    "nhidata.find_one({'insurance':57800,'family':1})"
   ]
  },
  {
   "cell_type": "code",
   "execution_count": null,
   "metadata": {
    "collapsed": true
   },
   "outputs": [],
   "source": []
  }
 ],
 "metadata": {
  "kernelspec": {
   "display_name": "Python 2",
   "language": "python",
   "name": "python2"
  },
  "language_info": {
   "codemirror_mode": {
    "name": "ipython",
    "version": 2
   },
   "file_extension": ".py",
   "mimetype": "text/x-python",
   "name": "python",
   "nbconvert_exporter": "python",
   "pygments_lexer": "ipython2",
   "version": "2.7.9"
  }
 },
 "nbformat": 4,
 "nbformat_minor": 0
}
