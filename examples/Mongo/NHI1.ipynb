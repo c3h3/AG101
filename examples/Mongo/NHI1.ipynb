{
 "cells": [
  {
   "cell_type": "code",
   "execution_count": 1,
   "metadata": {
    "collapsed": false
   },
   "outputs": [],
   "source": [
    "from pymongo import MongoClient"
   ]
  },
  {
   "cell_type": "code",
   "execution_count": 2,
   "metadata": {
    "collapsed": true
   },
   "outputs": [],
   "source": [
    "connection=MongoClient(\"mongodb://localhost:27017\")"
   ]
  },
  {
   "cell_type": "code",
   "execution_count": 3,
   "metadata": {
    "collapsed": true
   },
   "outputs": [],
   "source": [
    "db=connection.nhi"
   ]
  },
  {
   "cell_type": "code",
   "execution_count": 4,
   "metadata": {
    "collapsed": true
   },
   "outputs": [],
   "source": [
    "nhidata=db.nhidata"
   ]
  },
  {
   "cell_type": "code",
   "execution_count": 5,
   "metadata": {
    "collapsed": true
   },
   "outputs": [],
   "source": [
    "#nhidata.drop()"
   ]
  },
  {
   "cell_type": "code",
   "execution_count": 6,
   "metadata": {
    "collapsed": true
   },
   "outputs": [],
   "source": [
    "import pandas as pd"
   ]
  },
  {
   "cell_type": "code",
   "execution_count": 7,
   "metadata": {
    "collapsed": true
   },
   "outputs": [],
   "source": [
    "dfs=pd.read_excel('table1.xls')"
   ]
  },
  {
   "cell_type": "code",
   "execution_count": 8,
   "metadata": {
    "collapsed": false
   },
   "outputs": [],
   "source": [
    "#dfs.columns"
   ]
  },
  {
   "cell_type": "code",
   "execution_count": 9,
   "metadata": {
    "collapsed": false
   },
   "outputs": [],
   "source": [
    "#dfs"
   ]
  },
  {
   "cell_type": "code",
   "execution_count": 10,
   "metadata": {
    "collapsed": false
   },
   "outputs": [],
   "source": [
    "#len(dfs.index)"
   ]
  },
  {
   "cell_type": "code",
   "execution_count": 11,
   "metadata": {
    "collapsed": true
   },
   "outputs": [],
   "source": [
    "arr = dfs.values"
   ]
  },
  {
   "cell_type": "code",
   "execution_count": 12,
   "metadata": {
    "collapsed": false
   },
   "outputs": [],
   "source": [
    "#arr"
   ]
  },
  {
   "cell_type": "code",
   "execution_count": 13,
   "metadata": {
    "collapsed": false
   },
   "outputs": [],
   "source": [
    "#len(arr.tolist())"
   ]
  },
  {
   "cell_type": "code",
   "execution_count": 14,
   "metadata": {
    "collapsed": false
   },
   "outputs": [],
   "source": [
    "#type(arr)"
   ]
  },
  {
   "cell_type": "code",
   "execution_count": 15,
   "metadata": {
    "collapsed": false
   },
   "outputs": [],
   "source": [
    "#print (arr.tolist()[-1][0])"
   ]
  },
  {
   "cell_type": "code",
   "execution_count": 16,
   "metadata": {
    "collapsed": false
   },
   "outputs": [],
   "source": [
    "#type(arr.tolist()[-1][0])"
   ]
  },
  {
   "cell_type": "code",
   "execution_count": 17,
   "metadata": {
    "collapsed": false
   },
   "outputs": [],
   "source": [
    "#type(arr.tolist()[-5][0])"
   ]
  },
  {
   "cell_type": "code",
   "execution_count": 18,
   "metadata": {
    "collapsed": false
   },
   "outputs": [],
   "source": [
    "#print(arr.tolist()[-5][0])"
   ]
  },
  {
   "cell_type": "code",
   "execution_count": 19,
   "metadata": {
    "collapsed": true
   },
   "outputs": [],
   "source": [
    "data = [row for row in arr.tolist() if isinstance(row[0],int)]"
   ]
  },
  {
   "cell_type": "code",
   "execution_count": 20,
   "metadata": {
    "collapsed": false
   },
   "outputs": [],
   "source": [
    "data=pd.DataFrame(data)"
   ]
  },
  {
   "cell_type": "code",
   "execution_count": 21,
   "metadata": {
    "collapsed": false
   },
   "outputs": [],
   "source": [
    "#data.head()"
   ]
  },
  {
   "cell_type": "code",
   "execution_count": 22,
   "metadata": {
    "collapsed": false
   },
   "outputs": [],
   "source": [
    "values = data[[1,2,3,4]].values"
   ]
  },
  {
   "cell_type": "code",
   "execution_count": 23,
   "metadata": {
    "collapsed": false
   },
   "outputs": [],
   "source": [
    "#values"
   ]
  },
  {
   "cell_type": "code",
   "execution_count": 24,
   "metadata": {
    "collapsed": false
   },
   "outputs": [],
   "source": [
    "#values.shape"
   ]
  },
  {
   "cell_type": "code",
   "execution_count": 25,
   "metadata": {
    "collapsed": false
   },
   "outputs": [],
   "source": [
    "#53*4"
   ]
  },
  {
   "cell_type": "code",
   "execution_count": 26,
   "metadata": {
    "collapsed": true
   },
   "outputs": [],
   "source": [
    "value=values.flatten()"
   ]
  },
  {
   "cell_type": "code",
   "execution_count": 27,
   "metadata": {
    "collapsed": false
   },
   "outputs": [],
   "source": [
    "#value"
   ]
  },
  {
   "cell_type": "code",
   "execution_count": 28,
   "metadata": {
    "collapsed": true
   },
   "outputs": [],
   "source": [
    "mylst = list(data[0])*4"
   ]
  },
  {
   "cell_type": "code",
   "execution_count": 29,
   "metadata": {
    "collapsed": false
   },
   "outputs": [],
   "source": [
    "mylst.sort()"
   ]
  },
  {
   "cell_type": "code",
   "execution_count": 30,
   "metadata": {
    "collapsed": false
   },
   "outputs": [],
   "source": [
    "#mylst"
   ]
  },
  {
   "cell_type": "code",
   "execution_count": 31,
   "metadata": {
    "collapsed": true
   },
   "outputs": [],
   "source": [
    "sec=list(data[5])*4"
   ]
  },
  {
   "cell_type": "code",
   "execution_count": 32,
   "metadata": {
    "collapsed": true
   },
   "outputs": [],
   "source": [
    "sec.sort()"
   ]
  },
  {
   "cell_type": "code",
   "execution_count": 33,
   "metadata": {
    "collapsed": true
   },
   "outputs": [],
   "source": [
    "d5=pd.DataFrame(sec)"
   ]
  },
  {
   "cell_type": "code",
   "execution_count": 35,
   "metadata": {
    "collapsed": false
   },
   "outputs": [],
   "source": [
    "rss=(range(4)*53)\n",
    "#rss"
   ]
  },
  {
   "cell_type": "code",
   "execution_count": 36,
   "metadata": {
    "collapsed": true
   },
   "outputs": [],
   "source": [
    "d1=pd.DataFrame(mylst)"
   ]
  },
  {
   "cell_type": "code",
   "execution_count": 37,
   "metadata": {
    "collapsed": true
   },
   "outputs": [],
   "source": [
    "d2=pd.DataFrame(rss)"
   ]
  },
  {
   "cell_type": "code",
   "execution_count": 38,
   "metadata": {
    "collapsed": true
   },
   "outputs": [],
   "source": [
    "d3=pd.DataFrame(value)"
   ]
  },
  {
   "cell_type": "code",
   "execution_count": 39,
   "metadata": {
    "collapsed": true
   },
   "outputs": [],
   "source": [
    "lv=(range(1,54)*4)"
   ]
  },
  {
   "cell_type": "code",
   "execution_count": 40,
   "metadata": {
    "collapsed": true
   },
   "outputs": [],
   "source": [
    "lv.sort()"
   ]
  },
  {
   "cell_type": "code",
   "execution_count": 41,
   "metadata": {
    "collapsed": false
   },
   "outputs": [],
   "source": [
    "#lv"
   ]
  },
  {
   "cell_type": "code",
   "execution_count": 42,
   "metadata": {
    "collapsed": true
   },
   "outputs": [],
   "source": [
    "d4=pd.DataFrame(lv)"
   ]
  },
  {
   "cell_type": "code",
   "execution_count": 43,
   "metadata": {
    "collapsed": true
   },
   "outputs": [],
   "source": [
    "dff=pd.concat([d4,d1,d2,d3,d5], axis=1)"
   ]
  },
  {
   "cell_type": "code",
   "execution_count": 44,
   "metadata": {
    "collapsed": false
   },
   "outputs": [],
   "source": [
    "#dff"
   ]
  },
  {
   "cell_type": "code",
   "execution_count": 45,
   "metadata": {
    "collapsed": true
   },
   "outputs": [],
   "source": [
    "dff.columns=['level','insurance','family','pay_p','pay_cpn']"
   ]
  },
  {
   "cell_type": "code",
   "execution_count": 46,
   "metadata": {
    "collapsed": false
   },
   "outputs": [],
   "source": [
    "#dff.head()"
   ]
  },
  {
   "cell_type": "code",
   "execution_count": 47,
   "metadata": {
    "collapsed": true
   },
   "outputs": [],
   "source": [
    "data=dff.to_dict(orient=\"records\")"
   ]
  },
  {
   "cell_type": "code",
   "execution_count": 48,
   "metadata": {
    "collapsed": false
   },
   "outputs": [
    {
     "data": {
      "text/plain": [
       "[ObjectId('552ce6fa0146062d38b4ae5e'),\n",
       " ObjectId('552ce6fa0146062d38b4ae5f'),\n",
       " ObjectId('552ce6fa0146062d38b4ae60'),\n",
       " ObjectId('552ce6fa0146062d38b4ae61'),\n",
       " ObjectId('552ce6fa0146062d38b4ae62'),\n",
       " ObjectId('552ce6fa0146062d38b4ae63'),\n",
       " ObjectId('552ce6fa0146062d38b4ae64'),\n",
       " ObjectId('552ce6fa0146062d38b4ae65'),\n",
       " ObjectId('552ce6fa0146062d38b4ae66'),\n",
       " ObjectId('552ce6fa0146062d38b4ae67'),\n",
       " ObjectId('552ce6fa0146062d38b4ae68'),\n",
       " ObjectId('552ce6fa0146062d38b4ae69'),\n",
       " ObjectId('552ce6fa0146062d38b4ae6a'),\n",
       " ObjectId('552ce6fa0146062d38b4ae6b'),\n",
       " ObjectId('552ce6fa0146062d38b4ae6c'),\n",
       " ObjectId('552ce6fa0146062d38b4ae6d'),\n",
       " ObjectId('552ce6fa0146062d38b4ae6e'),\n",
       " ObjectId('552ce6fa0146062d38b4ae6f'),\n",
       " ObjectId('552ce6fa0146062d38b4ae70'),\n",
       " ObjectId('552ce6fa0146062d38b4ae71'),\n",
       " ObjectId('552ce6fa0146062d38b4ae72'),\n",
       " ObjectId('552ce6fa0146062d38b4ae73'),\n",
       " ObjectId('552ce6fa0146062d38b4ae74'),\n",
       " ObjectId('552ce6fa0146062d38b4ae75'),\n",
       " ObjectId('552ce6fa0146062d38b4ae76'),\n",
       " ObjectId('552ce6fa0146062d38b4ae77'),\n",
       " ObjectId('552ce6fa0146062d38b4ae78'),\n",
       " ObjectId('552ce6fa0146062d38b4ae79'),\n",
       " ObjectId('552ce6fa0146062d38b4ae7a'),\n",
       " ObjectId('552ce6fa0146062d38b4ae7b'),\n",
       " ObjectId('552ce6fa0146062d38b4ae7c'),\n",
       " ObjectId('552ce6fa0146062d38b4ae7d'),\n",
       " ObjectId('552ce6fa0146062d38b4ae7e'),\n",
       " ObjectId('552ce6fa0146062d38b4ae7f'),\n",
       " ObjectId('552ce6fa0146062d38b4ae80'),\n",
       " ObjectId('552ce6fa0146062d38b4ae81'),\n",
       " ObjectId('552ce6fa0146062d38b4ae82'),\n",
       " ObjectId('552ce6fa0146062d38b4ae83'),\n",
       " ObjectId('552ce6fa0146062d38b4ae84'),\n",
       " ObjectId('552ce6fa0146062d38b4ae85'),\n",
       " ObjectId('552ce6fa0146062d38b4ae86'),\n",
       " ObjectId('552ce6fa0146062d38b4ae87'),\n",
       " ObjectId('552ce6fa0146062d38b4ae88'),\n",
       " ObjectId('552ce6fa0146062d38b4ae89'),\n",
       " ObjectId('552ce6fa0146062d38b4ae8a'),\n",
       " ObjectId('552ce6fa0146062d38b4ae8b'),\n",
       " ObjectId('552ce6fa0146062d38b4ae8c'),\n",
       " ObjectId('552ce6fa0146062d38b4ae8d'),\n",
       " ObjectId('552ce6fa0146062d38b4ae8e'),\n",
       " ObjectId('552ce6fa0146062d38b4ae8f'),\n",
       " ObjectId('552ce6fa0146062d38b4ae90'),\n",
       " ObjectId('552ce6fa0146062d38b4ae91'),\n",
       " ObjectId('552ce6fa0146062d38b4ae92'),\n",
       " ObjectId('552ce6fa0146062d38b4ae93'),\n",
       " ObjectId('552ce6fa0146062d38b4ae94'),\n",
       " ObjectId('552ce6fa0146062d38b4ae95'),\n",
       " ObjectId('552ce6fa0146062d38b4ae96'),\n",
       " ObjectId('552ce6fa0146062d38b4ae97'),\n",
       " ObjectId('552ce6fa0146062d38b4ae98'),\n",
       " ObjectId('552ce6fa0146062d38b4ae99'),\n",
       " ObjectId('552ce6fa0146062d38b4ae9a'),\n",
       " ObjectId('552ce6fa0146062d38b4ae9b'),\n",
       " ObjectId('552ce6fa0146062d38b4ae9c'),\n",
       " ObjectId('552ce6fa0146062d38b4ae9d'),\n",
       " ObjectId('552ce6fa0146062d38b4ae9e'),\n",
       " ObjectId('552ce6fa0146062d38b4ae9f'),\n",
       " ObjectId('552ce6fa0146062d38b4aea0'),\n",
       " ObjectId('552ce6fa0146062d38b4aea1'),\n",
       " ObjectId('552ce6fa0146062d38b4aea2'),\n",
       " ObjectId('552ce6fa0146062d38b4aea3'),\n",
       " ObjectId('552ce6fa0146062d38b4aea4'),\n",
       " ObjectId('552ce6fa0146062d38b4aea5'),\n",
       " ObjectId('552ce6fa0146062d38b4aea6'),\n",
       " ObjectId('552ce6fa0146062d38b4aea7'),\n",
       " ObjectId('552ce6fa0146062d38b4aea8'),\n",
       " ObjectId('552ce6fa0146062d38b4aea9'),\n",
       " ObjectId('552ce6fa0146062d38b4aeaa'),\n",
       " ObjectId('552ce6fa0146062d38b4aeab'),\n",
       " ObjectId('552ce6fa0146062d38b4aeac'),\n",
       " ObjectId('552ce6fa0146062d38b4aead'),\n",
       " ObjectId('552ce6fa0146062d38b4aeae'),\n",
       " ObjectId('552ce6fa0146062d38b4aeaf'),\n",
       " ObjectId('552ce6fa0146062d38b4aeb0'),\n",
       " ObjectId('552ce6fa0146062d38b4aeb1'),\n",
       " ObjectId('552ce6fa0146062d38b4aeb2'),\n",
       " ObjectId('552ce6fa0146062d38b4aeb3'),\n",
       " ObjectId('552ce6fa0146062d38b4aeb4'),\n",
       " ObjectId('552ce6fa0146062d38b4aeb5'),\n",
       " ObjectId('552ce6fa0146062d38b4aeb6'),\n",
       " ObjectId('552ce6fa0146062d38b4aeb7'),\n",
       " ObjectId('552ce6fa0146062d38b4aeb8'),\n",
       " ObjectId('552ce6fa0146062d38b4aeb9'),\n",
       " ObjectId('552ce6fa0146062d38b4aeba'),\n",
       " ObjectId('552ce6fa0146062d38b4aebb'),\n",
       " ObjectId('552ce6fa0146062d38b4aebc'),\n",
       " ObjectId('552ce6fa0146062d38b4aebd'),\n",
       " ObjectId('552ce6fa0146062d38b4aebe'),\n",
       " ObjectId('552ce6fa0146062d38b4aebf'),\n",
       " ObjectId('552ce6fa0146062d38b4aec0'),\n",
       " ObjectId('552ce6fa0146062d38b4aec1'),\n",
       " ObjectId('552ce6fa0146062d38b4aec2'),\n",
       " ObjectId('552ce6fa0146062d38b4aec3'),\n",
       " ObjectId('552ce6fa0146062d38b4aec4'),\n",
       " ObjectId('552ce6fa0146062d38b4aec5'),\n",
       " ObjectId('552ce6fa0146062d38b4aec6'),\n",
       " ObjectId('552ce6fa0146062d38b4aec7'),\n",
       " ObjectId('552ce6fa0146062d38b4aec8'),\n",
       " ObjectId('552ce6fa0146062d38b4aec9'),\n",
       " ObjectId('552ce6fa0146062d38b4aeca'),\n",
       " ObjectId('552ce6fa0146062d38b4aecb'),\n",
       " ObjectId('552ce6fa0146062d38b4aecc'),\n",
       " ObjectId('552ce6fa0146062d38b4aecd'),\n",
       " ObjectId('552ce6fa0146062d38b4aece'),\n",
       " ObjectId('552ce6fa0146062d38b4aecf'),\n",
       " ObjectId('552ce6fa0146062d38b4aed0'),\n",
       " ObjectId('552ce6fa0146062d38b4aed1'),\n",
       " ObjectId('552ce6fa0146062d38b4aed2'),\n",
       " ObjectId('552ce6fa0146062d38b4aed3'),\n",
       " ObjectId('552ce6fa0146062d38b4aed4'),\n",
       " ObjectId('552ce6fa0146062d38b4aed5'),\n",
       " ObjectId('552ce6fa0146062d38b4aed6'),\n",
       " ObjectId('552ce6fa0146062d38b4aed7'),\n",
       " ObjectId('552ce6fa0146062d38b4aed8'),\n",
       " ObjectId('552ce6fa0146062d38b4aed9'),\n",
       " ObjectId('552ce6fa0146062d38b4aeda'),\n",
       " ObjectId('552ce6fa0146062d38b4aedb'),\n",
       " ObjectId('552ce6fa0146062d38b4aedc'),\n",
       " ObjectId('552ce6fa0146062d38b4aedd'),\n",
       " ObjectId('552ce6fa0146062d38b4aede'),\n",
       " ObjectId('552ce6fa0146062d38b4aedf'),\n",
       " ObjectId('552ce6fa0146062d38b4aee0'),\n",
       " ObjectId('552ce6fa0146062d38b4aee1'),\n",
       " ObjectId('552ce6fa0146062d38b4aee2'),\n",
       " ObjectId('552ce6fa0146062d38b4aee3'),\n",
       " ObjectId('552ce6fa0146062d38b4aee4'),\n",
       " ObjectId('552ce6fa0146062d38b4aee5'),\n",
       " ObjectId('552ce6fa0146062d38b4aee6'),\n",
       " ObjectId('552ce6fa0146062d38b4aee7'),\n",
       " ObjectId('552ce6fa0146062d38b4aee8'),\n",
       " ObjectId('552ce6fa0146062d38b4aee9'),\n",
       " ObjectId('552ce6fa0146062d38b4aeea'),\n",
       " ObjectId('552ce6fa0146062d38b4aeeb'),\n",
       " ObjectId('552ce6fa0146062d38b4aeec'),\n",
       " ObjectId('552ce6fa0146062d38b4aeed'),\n",
       " ObjectId('552ce6fa0146062d38b4aeee'),\n",
       " ObjectId('552ce6fa0146062d38b4aeef'),\n",
       " ObjectId('552ce6fa0146062d38b4aef0'),\n",
       " ObjectId('552ce6fa0146062d38b4aef1'),\n",
       " ObjectId('552ce6fa0146062d38b4aef2'),\n",
       " ObjectId('552ce6fa0146062d38b4aef3'),\n",
       " ObjectId('552ce6fa0146062d38b4aef4'),\n",
       " ObjectId('552ce6fa0146062d38b4aef5'),\n",
       " ObjectId('552ce6fa0146062d38b4aef6'),\n",
       " ObjectId('552ce6fa0146062d38b4aef7'),\n",
       " ObjectId('552ce6fa0146062d38b4aef8'),\n",
       " ObjectId('552ce6fa0146062d38b4aef9'),\n",
       " ObjectId('552ce6fa0146062d38b4aefa'),\n",
       " ObjectId('552ce6fa0146062d38b4aefb'),\n",
       " ObjectId('552ce6fa0146062d38b4aefc'),\n",
       " ObjectId('552ce6fa0146062d38b4aefd'),\n",
       " ObjectId('552ce6fa0146062d38b4aefe'),\n",
       " ObjectId('552ce6fa0146062d38b4aeff'),\n",
       " ObjectId('552ce6fa0146062d38b4af00'),\n",
       " ObjectId('552ce6fa0146062d38b4af01'),\n",
       " ObjectId('552ce6fa0146062d38b4af02'),\n",
       " ObjectId('552ce6fa0146062d38b4af03'),\n",
       " ObjectId('552ce6fa0146062d38b4af04'),\n",
       " ObjectId('552ce6fa0146062d38b4af05'),\n",
       " ObjectId('552ce6fa0146062d38b4af06'),\n",
       " ObjectId('552ce6fa0146062d38b4af07'),\n",
       " ObjectId('552ce6fa0146062d38b4af08'),\n",
       " ObjectId('552ce6fa0146062d38b4af09'),\n",
       " ObjectId('552ce6fa0146062d38b4af0a'),\n",
       " ObjectId('552ce6fa0146062d38b4af0b'),\n",
       " ObjectId('552ce6fa0146062d38b4af0c'),\n",
       " ObjectId('552ce6fa0146062d38b4af0d'),\n",
       " ObjectId('552ce6fa0146062d38b4af0e'),\n",
       " ObjectId('552ce6fa0146062d38b4af0f'),\n",
       " ObjectId('552ce6fa0146062d38b4af10'),\n",
       " ObjectId('552ce6fa0146062d38b4af11'),\n",
       " ObjectId('552ce6fa0146062d38b4af12'),\n",
       " ObjectId('552ce6fa0146062d38b4af13'),\n",
       " ObjectId('552ce6fa0146062d38b4af14'),\n",
       " ObjectId('552ce6fa0146062d38b4af15'),\n",
       " ObjectId('552ce6fa0146062d38b4af16'),\n",
       " ObjectId('552ce6fa0146062d38b4af17'),\n",
       " ObjectId('552ce6fa0146062d38b4af18'),\n",
       " ObjectId('552ce6fa0146062d38b4af19'),\n",
       " ObjectId('552ce6fa0146062d38b4af1a'),\n",
       " ObjectId('552ce6fa0146062d38b4af1b'),\n",
       " ObjectId('552ce6fa0146062d38b4af1c'),\n",
       " ObjectId('552ce6fa0146062d38b4af1d'),\n",
       " ObjectId('552ce6fa0146062d38b4af1e'),\n",
       " ObjectId('552ce6fa0146062d38b4af1f'),\n",
       " ObjectId('552ce6fa0146062d38b4af20'),\n",
       " ObjectId('552ce6fa0146062d38b4af21'),\n",
       " ObjectId('552ce6fa0146062d38b4af22'),\n",
       " ObjectId('552ce6fa0146062d38b4af23'),\n",
       " ObjectId('552ce6fa0146062d38b4af24'),\n",
       " ObjectId('552ce6fa0146062d38b4af25'),\n",
       " ObjectId('552ce6fa0146062d38b4af26'),\n",
       " ObjectId('552ce6fa0146062d38b4af27'),\n",
       " ObjectId('552ce6fa0146062d38b4af28'),\n",
       " ObjectId('552ce6fa0146062d38b4af29'),\n",
       " ObjectId('552ce6fa0146062d38b4af2a'),\n",
       " ObjectId('552ce6fa0146062d38b4af2b'),\n",
       " ObjectId('552ce6fa0146062d38b4af2c'),\n",
       " ObjectId('552ce6fa0146062d38b4af2d'),\n",
       " ObjectId('552ce6fa0146062d38b4af2e'),\n",
       " ObjectId('552ce6fa0146062d38b4af2f'),\n",
       " ObjectId('552ce6fa0146062d38b4af30'),\n",
       " ObjectId('552ce6fa0146062d38b4af31')]"
      ]
     },
     "execution_count": 48,
     "metadata": {},
     "output_type": "execute_result"
    }
   ],
   "source": [
    "nhidata.insert(data)"
   ]
  },
  {
   "cell_type": "code",
   "execution_count": 49,
   "metadata": {
    "collapsed": true
   },
   "outputs": [],
   "source": [
    "#dff.to_csv('nhl1.csv',encoding='utf8',index=False)"
   ]
  },
  {
   "cell_type": "code",
   "execution_count": null,
   "metadata": {
    "collapsed": true
   },
   "outputs": [],
   "source": []
  }
 ],
 "metadata": {
  "kernelspec": {
   "display_name": "Python 2",
   "language": "python",
   "name": "python2"
  },
  "language_info": {
   "codemirror_mode": {
    "name": "ipython",
    "version": 2
   },
   "file_extension": ".py",
   "mimetype": "text/x-python",
   "name": "python",
   "nbconvert_exporter": "python",
   "pygments_lexer": "ipython2",
   "version": "2.7.9"
  }
 },
 "nbformat": 4,
 "nbformat_minor": 0
}
