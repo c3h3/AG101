{
 "cells": [
  {
   "cell_type": "code",
   "execution_count": 1,
   "metadata": {
    "collapsed": true
   },
   "outputs": [],
   "source": [
    "from pycrawlers.examples.youtube import crawlers\n",
    "import pandas as pd \n",
    "from pymongo import MongoClient\n",
    "import os"
   ]
  },
  {
   "cell_type": "code",
   "execution_count": 2,
   "metadata": {
    "collapsed": true
   },
   "outputs": [],
   "source": [
    "YT_CHANNEL_ID = os.environ.get(\"YT_CHANNEL_ID\", \"TWuseRGroup\")\n",
    "MONGO_URI = os.environ.get(\"MONGO_URI\",\"mongodb://localhost:27017/agilearning\")\n",
    "DB_NAME = os.environ.get(\"DB_NAME\",\"agilearning\")\n",
    "LEARNING_RESOURCE_COLLECTION_NAME = os.environ.get(\"LEARNING_RESOURCE_COLLECTION_NAME\",\"learningResources\")\n",
    "\n",
    "mongo_cli = MongoClient(MONGO_URI)\n",
    "learning_resources_collection = mongo_cli[DB_NAME][LEARNING_RESOURCE_COLLECTION_NAME]"
   ]
  },
  {
   "cell_type": "markdown",
   "metadata": {},
   "source": [
    "---"
   ]
  },
  {
   "cell_type": "code",
   "execution_count": 3,
   "metadata": {
    "collapsed": true
   },
   "outputs": [],
   "source": [
    "learning_resources_collection.drop()"
   ]
  },
  {
   "cell_type": "markdown",
   "metadata": {},
   "source": [
    "---"
   ]
  },
  {
   "cell_type": "code",
   "execution_count": 4,
   "metadata": {
    "collapsed": false
   },
   "outputs": [
    {
     "name": "stdout",
     "output_type": "stream",
     "text": [
      "next_page_list =  ['https://gdata.youtube.com/feeds/users/TWuseRGroup/uploads/']\n",
      "next_page_list =  [u'https://gdata.youtube.com/feeds/users/TWuseRGroup/uploads?alt=json&start-index=26&max-results=25']\n",
      "next_page_list =  [u'https://gdata.youtube.com/feeds/users/TWuseRGroup/uploads?alt=json&start-index=51&max-results=25']\n",
      "next_page_list =  [u'https://gdata.youtube.com/feeds/users/TWuseRGroup/uploads?alt=json&start-index=76&max-results=25']\n",
      "next_page_list =  [u'https://gdata.youtube.com/feeds/users/TWuseRGroup/uploads?alt=json&start-index=101&max-results=25']\n",
      "next_page_list =  [u'https://gdata.youtube.com/feeds/users/TWuseRGroup/uploads?alt=json&start-index=126&max-results=25']\n",
      "next_page_list =  [u'https://gdata.youtube.com/feeds/users/TWuseRGroup/uploads?alt=json&start-index=151&max-results=25']\n",
      "next_page_list =  [u'https://gdata.youtube.com/feeds/users/TWuseRGroup/uploads?alt=json&start-index=176&max-results=25']\n",
      "next_page_list =  [u'https://gdata.youtube.com/feeds/users/TWuseRGroup/uploads?alt=json&start-index=201&max-results=25']\n",
      "next_page_list =  [u'https://gdata.youtube.com/feeds/users/TWuseRGroup/uploads?alt=json&start-index=226&max-results=25']\n",
      "next_page_list =  [u'https://gdata.youtube.com/feeds/users/TWuseRGroup/uploads?alt=json&start-index=251&max-results=25']\n",
      "next_page_list =  [u'https://gdata.youtube.com/feeds/users/TWuseRGroup/uploads?alt=json&start-index=276&max-results=25']\n",
      "next_page_list =  []\n"
     ]
    }
   ],
   "source": [
    "video_data = crawlers.crawl_channel_uploads(YT_CHANNEL_ID)\n",
    "video_data_df = pd.DataFrame(video_data)\n",
    "\n",
    "video_data_df = video_data_df[[\"title\",\"description\",\"ytid\"]]\n",
    "video_data_df.columns = [u'ytTitle', u'ytDescription', u'ytid']\n",
    "video_data_df[\"youtubeVideoId\"] = video_data_df[\"ytid\"]\n",
    "video_data_df = video_data_df.drop(\"ytid\",1)\n",
    "video_data_df[\"_id\"] = video_data_df[\"youtubeVideoId\"].map(lambda xx:\"YTV_\"+xx)\n",
    "video_data_df[\"type\"] = \"youtube\""
   ]
  },
  {
   "cell_type": "markdown",
   "metadata": {},
   "source": [
    " ------\n",
    " "
   ]
  },
  {
   "cell_type": "code",
   "execution_count": 5,
   "metadata": {
    "collapsed": true
   },
   "outputs": [],
   "source": [
    "odb=[post for post in learning_resources_collection.find()]\n",
    "ndt=[post for post in video_data_df.to_dict(orient=\"records\")]\n",
    "ddt=filter(lambda x: x not in odb,ndt)\n",
    "if ddt !=[]:learning_resources_collection.insert(ddt)"
   ]
  },
  {
   "cell_type": "code",
   "execution_count": 31,
   "metadata": {
    "collapsed": false
   },
   "outputs": [
    {
     "name": "stdout",
     "output_type": "stream",
     "text": [
      "CPU times: user 3 µs, sys: 1 µs, total: 4 µs\n",
      "Wall time: 5.96 µs\n",
      "next_page_list =  ['https://gdata.youtube.com/feeds/users/TWuseRGroup/uploads/']\n",
      "next_page_list =  [u'https://gdata.youtube.com/feeds/users/TWuseRGroup/uploads?alt=json&start-index=26&max-results=25']\n",
      "next_page_list =  [u'https://gdata.youtube.com/feeds/users/TWuseRGroup/uploads?alt=json&start-index=51&max-results=25']\n",
      "next_page_list =  [u'https://gdata.youtube.com/feeds/users/TWuseRGroup/uploads?alt=json&start-index=76&max-results=25']\n",
      "next_page_list =  [u'https://gdata.youtube.com/feeds/users/TWuseRGroup/uploads?alt=json&start-index=101&max-results=25']\n",
      "next_page_list =  [u'https://gdata.youtube.com/feeds/users/TWuseRGroup/uploads?alt=json&start-index=126&max-results=25']\n",
      "next_page_list =  [u'https://gdata.youtube.com/feeds/users/TWuseRGroup/uploads?alt=json&start-index=151&max-results=25']\n",
      "next_page_list =  [u'https://gdata.youtube.com/feeds/users/TWuseRGroup/uploads?alt=json&start-index=176&max-results=25']\n",
      "next_page_list =  [u'https://gdata.youtube.com/feeds/users/TWuseRGroup/uploads?alt=json&start-index=201&max-results=25']\n",
      "next_page_list =  [u'https://gdata.youtube.com/feeds/users/TWuseRGroup/uploads?alt=json&start-index=226&max-results=25']\n",
      "next_page_list =  [u'https://gdata.youtube.com/feeds/users/TWuseRGroup/uploads?alt=json&start-index=251&max-results=25']\n",
      "next_page_list =  [u'https://gdata.youtube.com/feeds/users/TWuseRGroup/uploads?alt=json&start-index=276&max-results=25']\n",
      "next_page_list =  []\n"
     ]
    }
   ],
   "source": [
    "%time\n",
    "%run youtube_crawler.py"
   ]
  },
  {
   "cell_type": "code",
   "execution_count": 24,
   "metadata": {
    "collapsed": false
   },
   "outputs": [
    {
     "name": "stdout",
     "output_type": "stream",
     "text": [
      "CPU times: user 2 µs, sys: 0 ns, total: 2 µs\n",
      "Wall time: 5.01 µs\n",
      "next_page_list =  ['https://gdata.youtube.com/feeds/users/TWuseRGroup/uploads/']\n",
      "next_page_list =  [u'https://gdata.youtube.com/feeds/users/TWuseRGroup/uploads?alt=json&start-index=26&max-results=25']\n",
      "next_page_list =  [u'https://gdata.youtube.com/feeds/users/TWuseRGroup/uploads?alt=json&start-index=51&max-results=25']\n",
      "next_page_list =  [u'https://gdata.youtube.com/feeds/users/TWuseRGroup/uploads?alt=json&start-index=76&max-results=25']\n",
      "next_page_list =  [u'https://gdata.youtube.com/feeds/users/TWuseRGroup/uploads?alt=json&start-index=101&max-results=25']\n",
      "next_page_list =  [u'https://gdata.youtube.com/feeds/users/TWuseRGroup/uploads?alt=json&start-index=126&max-results=25']\n",
      "next_page_list =  [u'https://gdata.youtube.com/feeds/users/TWuseRGroup/uploads?alt=json&start-index=151&max-results=25']\n",
      "next_page_list =  [u'https://gdata.youtube.com/feeds/users/TWuseRGroup/uploads?alt=json&start-index=176&max-results=25']\n",
      "next_page_list =  [u'https://gdata.youtube.com/feeds/users/TWuseRGroup/uploads?alt=json&start-index=201&max-results=25']\n",
      "next_page_list =  [u'https://gdata.youtube.com/feeds/users/TWuseRGroup/uploads?alt=json&start-index=226&max-results=25']\n",
      "next_page_list =  [u'https://gdata.youtube.com/feeds/users/TWuseRGroup/uploads?alt=json&start-index=251&max-results=25']\n",
      "next_page_list =  [u'https://gdata.youtube.com/feeds/users/TWuseRGroup/uploads?alt=json&start-index=276&max-results=25']\n",
      "next_page_list =  []\n"
     ]
    }
   ],
   "source": [
    "%time#每次時間長短差兩倍\n",
    "%run youtube_crawler_try.py"
   ]
  },
  {
   "cell_type": "code",
   "execution_count": null,
   "metadata": {
    "collapsed": true
   },
   "outputs": [],
   "source": []
  },
  {
   "cell_type": "code",
   "execution_count": null,
   "metadata": {
    "collapsed": true
   },
   "outputs": [],
   "source": []
  }
 ],
 "metadata": {
  "kernelspec": {
   "display_name": "Python 2",
   "language": "python",
   "name": "python2"
  },
  "language_info": {
   "codemirror_mode": {
    "name": "ipython",
    "version": 2
   },
   "file_extension": ".py",
   "mimetype": "text/x-python",
   "name": "python",
   "nbconvert_exporter": "python",
   "pygments_lexer": "ipython2",
   "version": "2.7.9"
  }
 },
 "nbformat": 4,
 "nbformat_minor": 0
}
