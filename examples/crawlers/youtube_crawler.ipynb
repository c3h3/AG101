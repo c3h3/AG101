{
 "cells": [
  {
   "cell_type": "code",
   "execution_count": 1,
   "metadata": {
    "collapsed": true
   },
   "outputs": [],
   "source": [
    "from pycrawlers.examples.youtube import crawlers\n",
    "import pandas as pd \n",
    "from pymongo import MongoClient\n",
    "import os"
   ]
  },
  {
   "cell_type": "code",
   "execution_count": 2,
   "metadata": {
    "collapsed": true
   },
   "outputs": [],
   "source": [
    "YT_CHANNEL_ID = os.environ.get(\"YT_CHANNEL_ID\", \"TWuseRGroup\")\n",
    "MONGO_URI = os.environ.get(\"MONGO_URI\",\"mongodb://localhost:27017/agilearning\")\n",
    "DB_NAME = os.environ.get(\"DB_NAME\",\"agilearning\")\n",
    "LEARNING_RESOURCE_COLLECTION_NAME = os.environ.get(\"LEARNING_RESOURCE_COLLECTION_NAME\",\"learningResources\")\n",
    "\n",
    "mongo_cli = MongoClient(MONGO_URI)\n",
    "learning_resources_collection = mongo_cli[DB_NAME][LEARNING_RESOURCE_COLLECTION_NAME]"
   ]
  },
  {
   "cell_type": "markdown",
   "metadata": {},
   "source": [
    "---"
   ]
  },
  {
   "cell_type": "code",
   "execution_count": 3,
   "metadata": {
    "collapsed": true
   },
   "outputs": [],
   "source": [
    "learning_resources_collection.drop()"
   ]
  },
  {
   "cell_type": "markdown",
   "metadata": {},
   "source": [
    "---"
   ]
  },
  {
   "cell_type": "code",
   "execution_count": 4,
   "metadata": {
    "collapsed": false
   },
   "outputs": [
    {
     "name": "stdout",
     "output_type": "stream",
     "text": [
      "next_page_list =  ['https://gdata.youtube.com/feeds/users/TWuseRGroup/uploads/']\n",
      "next_page_list =  [u'https://gdata.youtube.com/feeds/users/TWuseRGroup/uploads?alt=json&start-index=26&max-results=25']\n",
      "next_page_list =  [u'https://gdata.youtube.com/feeds/users/TWuseRGroup/uploads?alt=json&start-index=51&max-results=25']\n",
      "next_page_list =  [u'https://gdata.youtube.com/feeds/users/TWuseRGroup/uploads?alt=json&start-index=76&max-results=25']\n",
      "next_page_list =  [u'https://gdata.youtube.com/feeds/users/TWuseRGroup/uploads?alt=json&start-index=101&max-results=25']\n",
      "next_page_list =  [u'https://gdata.youtube.com/feeds/users/TWuseRGroup/uploads?alt=json&start-index=126&max-results=25']\n",
      "next_page_list =  [u'https://gdata.youtube.com/feeds/users/TWuseRGroup/uploads?alt=json&start-index=151&max-results=25']\n",
      "next_page_list =  [u'https://gdata.youtube.com/feeds/users/TWuseRGroup/uploads?alt=json&start-index=176&max-results=25']\n",
      "next_page_list =  [u'https://gdata.youtube.com/feeds/users/TWuseRGroup/uploads?alt=json&start-index=201&max-results=25']\n",
      "next_page_list =  [u'https://gdata.youtube.com/feeds/users/TWuseRGroup/uploads?alt=json&start-index=226&max-results=25']\n",
      "next_page_list =  [u'https://gdata.youtube.com/feeds/users/TWuseRGroup/uploads?alt=json&start-index=251&max-results=25']\n",
      "next_page_list =  [u'https://gdata.youtube.com/feeds/users/TWuseRGroup/uploads?alt=json&start-index=276&max-results=25']\n",
      "next_page_list =  []\n"
     ]
    }
   ],
   "source": [
    "video_data = crawlers.crawl_channel_uploads(YT_CHANNEL_ID)\n",
    "video_data_df = pd.DataFrame(video_data)\n",
    "\n",
    "video_data_df = video_data_df[[\"title\",\"description\",\"ytid\"]]\n",
    "video_data_df.columns = [u'ytTitle', u'ytDescription', u'ytid']\n",
    "video_data_df[\"youtubeVideoId\"] = video_data_df[\"ytid\"]\n",
    "video_data_df = video_data_df.drop(\"ytid\",1)\n",
    "video_data_df[\"_id\"] = video_data_df[\"youtubeVideoId\"].map(lambda xx:\"YTV_\"+xx)\n",
    "video_data_df[\"type\"] = \"youtube\""
   ]
  },
  {
   "cell_type": "markdown",
   "metadata": {},
   "source": [
    " ------\n",
    " "
   ]
  },
  {
   "cell_type": "code",
   "execution_count": 5,
   "metadata": {
    "collapsed": false
   },
   "outputs": [],
   "source": [
    "db_ids=[post['_id'] for post in learning_resources_collection.find()]\n",
    "new_ids=video_data_df[\"_id\"].tolist()\n",
    "insert_ids=filter(lambda x:x not in db_ids,new_ids)\n",
    "new=video_data_df[video_data_df[\"_id\"].isin(insert_ids)]#只有dataframe\n",
    "if new.to_dict(orient=\"records\")!=[]:learning_resources_collection.insert(new.to_dict(orient=\"records\")) "
   ]
  },
  {
   "cell_type": "markdown",
   "metadata": {},
   "source": [
    "```\n",
    "odb=[post for post in learning_resources_collection.find()]\n",
    "ndt=[post for post in video_data_df.to_dict(orient=\"records\")]\n",
    "ddt=filter(lambda x: x not in odb,ndt)\n",
    "if ddt !=[]:learning_resources_collection.insert(ddt)\n",
    "```"
   ]
  },
  {
   "cell_type": "code",
   "execution_count": 6,
   "metadata": {
    "collapsed": false
   },
   "outputs": [],
   "source": [
    "cur=learning_resources_collection.find()"
   ]
  },
  {
   "cell_type": "code",
   "execution_count": 8,
   "metadata": {
    "collapsed": false
   },
   "outputs": [
    {
     "data": {
      "text/plain": [
       "{u'_id': u'YTV_vriBje-D2yU',\n",
       " u'type': u'youtube',\n",
       " u'youtubeVideoId': u'vriBje-D2yU',\n",
       " u'ytDescription': u'\\u8b1b\\u984c\\uff1aTITLE\\n\\u8b1b\\u8005\\uff1aSPEAKER\\n\\nAbstract\\n\\n[Abstract or Description]\\n\\nAbout the Speaker\\n\\n[About the Speaker]',\n",
       " u'ytTitle': u'20150302 MLDM Monday x \\u85cf\\u982d\\u8a69\\u7522\\u751f\\u5668 part3'}"
      ]
     },
     "execution_count": 8,
     "metadata": {},
     "output_type": "execute_result"
    }
   ],
   "source": [
    "cur.next()"
   ]
  },
  {
   "cell_type": "code",
   "execution_count": 11,
   "metadata": {
    "collapsed": false
   },
   "outputs": [
    {
     "data": {
      "text/plain": [
       "{u'n': 3, u'ok': 1}"
      ]
     },
     "execution_count": 11,
     "metadata": {},
     "output_type": "execute_result"
    }
   ],
   "source": [
    "learning_resources_collection.remove({u'_id':{\"$in\":[u'YTV_qUEB1EVsDes',u'YTV_yCMFT8WAs68', u'YTV_1XEb2hMDFMs']}})"
   ]
  },
  {
   "cell_type": "code",
   "execution_count": 10,
   "metadata": {
    "collapsed": false
   },
   "outputs": [
    {
     "data": {
      "text/plain": [
       "285"
      ]
     },
     "execution_count": 10,
     "metadata": {},
     "output_type": "execute_result"
    }
   ],
   "source": [
    "learning_resources_collection.count()"
   ]
  },
  {
   "cell_type": "markdown",
   "metadata": {},
   "source": [
    "---"
   ]
  },
  {
   "cell_type": "code",
   "execution_count": 12,
   "metadata": {
    "collapsed": false
   },
   "outputs": [
    {
     "name": "stdout",
     "output_type": "stream",
     "text": [
      "CPU times: user 5 µs, sys: 1 µs, total: 6 µs\n",
      "Wall time: 10 µs\n",
      "next_page_list =  ['https://gdata.youtube.com/feeds/users/TWuseRGroup/uploads/']\n",
      "next_page_list =  [u'https://gdata.youtube.com/feeds/users/TWuseRGroup/uploads?alt=json&start-index=26&max-results=25']\n",
      "next_page_list =  [u'https://gdata.youtube.com/feeds/users/TWuseRGroup/uploads?alt=json&start-index=51&max-results=25']\n",
      "next_page_list =  [u'https://gdata.youtube.com/feeds/users/TWuseRGroup/uploads?alt=json&start-index=76&max-results=25']\n",
      "next_page_list =  [u'https://gdata.youtube.com/feeds/users/TWuseRGroup/uploads?alt=json&start-index=101&max-results=25']\n",
      "next_page_list =  [u'https://gdata.youtube.com/feeds/users/TWuseRGroup/uploads?alt=json&start-index=126&max-results=25']\n",
      "next_page_list =  [u'https://gdata.youtube.com/feeds/users/TWuseRGroup/uploads?alt=json&start-index=151&max-results=25']\n",
      "next_page_list =  [u'https://gdata.youtube.com/feeds/users/TWuseRGroup/uploads?alt=json&start-index=176&max-results=25']\n",
      "next_page_list =  [u'https://gdata.youtube.com/feeds/users/TWuseRGroup/uploads?alt=json&start-index=201&max-results=25']\n",
      "next_page_list =  [u'https://gdata.youtube.com/feeds/users/TWuseRGroup/uploads?alt=json&start-index=226&max-results=25']\n",
      "next_page_list =  [u'https://gdata.youtube.com/feeds/users/TWuseRGroup/uploads?alt=json&start-index=251&max-results=25']\n",
      "next_page_list =  [u'https://gdata.youtube.com/feeds/users/TWuseRGroup/uploads?alt=json&start-index=276&max-results=25']\n",
      "next_page_list =  []\n"
     ]
    }
   ],
   "source": [
    "%time\n",
    "%run youtube_crawler.py"
   ]
  },
  {
   "cell_type": "code",
   "execution_count": 13,
   "metadata": {
    "collapsed": false
   },
   "outputs": [
    {
     "name": "stdout",
     "output_type": "stream",
     "text": [
      "CPU times: user 4 µs, sys: 3 µs, total: 7 µs\n",
      "Wall time: 12.2 µs\n",
      "next_page_list =  ['https://gdata.youtube.com/feeds/users/TWuseRGroup/uploads/']\n",
      "next_page_list =  [u'https://gdata.youtube.com/feeds/users/TWuseRGroup/uploads?alt=json&start-index=26&max-results=25']\n",
      "next_page_list =  [u'https://gdata.youtube.com/feeds/users/TWuseRGroup/uploads?alt=json&start-index=51&max-results=25']\n",
      "next_page_list =  [u'https://gdata.youtube.com/feeds/users/TWuseRGroup/uploads?alt=json&start-index=76&max-results=25']\n",
      "next_page_list =  [u'https://gdata.youtube.com/feeds/users/TWuseRGroup/uploads?alt=json&start-index=101&max-results=25']\n",
      "next_page_list =  [u'https://gdata.youtube.com/feeds/users/TWuseRGroup/uploads?alt=json&start-index=126&max-results=25']\n",
      "next_page_list =  [u'https://gdata.youtube.com/feeds/users/TWuseRGroup/uploads?alt=json&start-index=151&max-results=25']\n",
      "next_page_list =  [u'https://gdata.youtube.com/feeds/users/TWuseRGroup/uploads?alt=json&start-index=176&max-results=25']\n",
      "next_page_list =  [u'https://gdata.youtube.com/feeds/users/TWuseRGroup/uploads?alt=json&start-index=201&max-results=25']\n",
      "next_page_list =  [u'https://gdata.youtube.com/feeds/users/TWuseRGroup/uploads?alt=json&start-index=226&max-results=25']\n",
      "next_page_list =  [u'https://gdata.youtube.com/feeds/users/TWuseRGroup/uploads?alt=json&start-index=251&max-results=25']\n",
      "next_page_list =  [u'https://gdata.youtube.com/feeds/users/TWuseRGroup/uploads?alt=json&start-index=276&max-results=25']\n",
      "next_page_list =  []\n"
     ]
    }
   ],
   "source": [
    "%time\n",
    "%run youtube_crawler_try.py"
   ]
  },
  {
   "cell_type": "code",
   "execution_count": null,
   "metadata": {
    "collapsed": true
   },
   "outputs": [],
   "source": []
  },
  {
   "cell_type": "code",
   "execution_count": null,
   "metadata": {
    "collapsed": true
   },
   "outputs": [],
   "source": []
  }
 ],
 "metadata": {
  "kernelspec": {
   "display_name": "Python 2",
   "language": "python",
   "name": "python2"
  },
  "language_info": {
   "codemirror_mode": {
    "name": "ipython",
    "version": 2
   },
   "file_extension": ".py",
   "mimetype": "text/x-python",
   "name": "python",
   "nbconvert_exporter": "python",
   "pygments_lexer": "ipython2",
   "version": "2.7.9"
  }
 },
 "nbformat": 4,
 "nbformat_minor": 0
}
