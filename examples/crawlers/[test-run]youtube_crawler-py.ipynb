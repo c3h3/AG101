{
 "cells": [
  {
   "cell_type": "markdown",
   "metadata": {},
   "source": [
    "##目標:爬新的進來，舊的保留\n",
    "(原本的重複讀取(舊的)會有問題 youtube_crawler.py)\n",
    "\n",
    "###預計作法\n",
    "* 找到爬進來的id位置\n",
    "* 下if else指令，讓id重複的不讀取\n",
    "\n",
    "``` python \n",
    "#run指令這樣下\n",
    "    YT_CHANNEL_ID=\"iyenlung\" MONGO_URI=\"mongodb://localhost:27017/dockerdata\" python youtube_crawler.py\n",
    "```"
   ]
  },
  {
   "cell_type": "code",
   "execution_count": 1,
   "metadata": {
    "collapsed": false
   },
   "outputs": [],
   "source": [
    "from pycrawlers.examples.youtube import crawlers #爬youtube的套件,py3要用需修改"
   ]
  },
  {
   "cell_type": "code",
   "execution_count": 2,
   "metadata": {
    "collapsed": true
   },
   "outputs": [],
   "source": [
    "import pandas as pd "
   ]
  },
  {
   "cell_type": "code",
   "execution_count": 3,
   "metadata": {
    "collapsed": true
   },
   "outputs": [],
   "source": [
    "from pymongo import MongoClient#mongo用在python所需的套件"
   ]
  },
  {
   "cell_type": "code",
   "execution_count": 4,
   "metadata": {
    "collapsed": true
   },
   "outputs": [],
   "source": [
    "import os#有關系統指令進來"
   ]
  },
  {
   "cell_type": "code",
   "execution_count": 5,
   "metadata": {
    "collapsed": false
   },
   "outputs": [],
   "source": [
    "#人家輸入YT_CHANNEL_ID=\"iyenlung\" MONGO_URI=\"mongodb://localhost:27017/dockerdata\" python youtube_crawler.py\n",
    "YT_CHANNEL_ID = os.environ.get(\"YT_CHANNEL_ID\", \"iyenlung\")#\"TWuseRGroup\"這位置是什麼？台灣使用群？\n",
    "MONGO_URI = os.environ.get(\"MONGO_URI\",\"mongodb://localhost:27017/agilearning\")#specify the host and port explicitly\n",
    "\n",
    "DB_NAME = os.environ.get(\"DB_NAME\",\"agilearning\")\n",
    "LEARNING_RESOURCE_COLLECTION_NAME = os.environ.get(\"LEARNING_RESOURCE_COLLECTION_NAME\",\"learningResources\")\n"
   ]
  },
  {
   "cell_type": "code",
   "execution_count": 6,
   "metadata": {
    "collapsed": false
   },
   "outputs": [
    {
     "name": "stdout",
     "output_type": "stream",
     "text": [
      "(database,collection)=('agilearning', 'learningResources')\n"
     ]
    }
   ],
   "source": [
    "print (\"(database,collection)=\"+str((DB_NAME,LEARNING_RESOURCE_COLLECTION_NAME)))"
   ]
  },
  {
   "cell_type": "code",
   "execution_count": 7,
   "metadata": {
    "collapsed": true
   },
   "outputs": [],
   "source": [
    "mongo_cli = MongoClient(MONGO_URI)#pymongo.mongo_client.MongoClient下的class\n",
    "learning_resources_collection = mongo_cli[DB_NAME][LEARNING_RESOURCE_COLLECTION_NAME]\n"
   ]
  },
  {
   "cell_type": "code",
   "execution_count": 8,
   "metadata": {
    "collapsed": false
   },
   "outputs": [
    {
     "data": {
      "text/plain": [
       "Collection(Database(MongoClient('localhost', 27017), u'agilearning'), u'learningResources')"
      ]
     },
     "execution_count": 8,
     "metadata": {},
     "output_type": "execute_result"
    }
   ],
   "source": [
    "learning_resources_collection #擺放位置"
   ]
  },
  {
   "cell_type": "code",
   "execution_count": 9,
   "metadata": {
    "collapsed": false
   },
   "outputs": [
    {
     "name": "stdout",
     "output_type": "stream",
     "text": [
      "next_page_list =  ['https://gdata.youtube.com/feeds/users/iyenlung/uploads/']\n",
      "next_page_list =  [u'https://gdata.youtube.com/feeds/users/iyenlung/uploads?alt=json&start-index=26&max-results=25']\n",
      "next_page_list =  []\n"
     ]
    }
   ],
   "source": [
    "video_data = crawlers.crawl_channel_uploads(YT_CHANNEL_ID)#爬哪一個頻道"
   ]
  },
  {
   "cell_type": "code",
   "execution_count": 10,
   "metadata": {
    "collapsed": false
   },
   "outputs": [
    {
     "data": {
      "text/plain": [
       "[{'author': u'Yen-Lung Tsai',\n",
       "  'categories': [{u'scheme': u'http://schemas.google.com/g/2005#kind',\n",
       "    u'term': u'http://gdata.youtube.com/schemas/2007#video'},\n",
       "   {u'label': u'Science & Technology',\n",
       "    u'scheme': u'http://gdata.youtube.com/schemas/2007/categories.cat',\n",
       "    u'term': u'Tech'}],\n",
       "  'description': u'Python \\u8b80\\u5165\\u5957\\u4ef6\\u7684\\u65b9\\u6cd5\\u3002',\n",
       "  'title': u'3-2 pylab inline \\u505a\\u4e86\\u4ec0\\u9ebc',\n",
       "  'ytid': u'_oXvbxFP2oI'},\n",
       " {'author': u'Yen-Lung Tsai',\n",
       "  'categories': [{u'scheme': u'http://schemas.google.com/g/2005#kind',\n",
       "    u'term': u'http://gdata.youtube.com/schemas/2007#video'},\n",
       "   {u'label': u'Science & Technology',\n",
       "    u'scheme': u'http://gdata.youtube.com/schemas/2007/categories.cat',\n",
       "    u'term': u'Tech'}],\n",
       "  'description': u'\\u958b\\u59cb\\u6578\\u64da\\u5206\\u6790\\u91cd\\u8981\\u7684 array \\u8cc7\\u6599\\u578b\\u614b\\u3002',\n",
       "  'title': u'3-1 Array \\u771f\\u7684\\u70ab',\n",
       "  'ytid': u'ayFu8KKJR2A'},\n",
       " {'author': u'Yen-Lung Tsai',\n",
       "  'categories': [{u'scheme': u'http://schemas.google.com/g/2005#kind',\n",
       "    u'term': u'http://gdata.youtube.com/schemas/2007#video'},\n",
       "   {u'label': u'Science & Technology',\n",
       "    u'scheme': u'http://gdata.youtube.com/schemas/2007/categories.cat',\n",
       "    u'term': u'Tech'}],\n",
       "  'description': u'\\u6211\\u5011\\u4ecb\\u7d39\\u5169\\u500b\\u6982\\u5ff5:\\n\\n1. while \\u8ff4\\u5708\\n2. \\u8b80\\u5165\\u4e00\\u500b\\u5957\\u4ef6',\n",
       "  'title': u'2-5 While \\u548c\\u731c\\u6578\\u5b57\\u904a\\u6232',\n",
       "  'ytid': u'7K3FR9ykha4'},\n",
       " {'author': u'Yen-Lung Tsai',\n",
       "  'categories': [{u'scheme': u'http://schemas.google.com/g/2005#kind',\n",
       "    u'term': u'http://gdata.youtube.com/schemas/2007#video'},\n",
       "   {u'label': u'Science & Technology',\n",
       "    u'scheme': u'http://gdata.youtube.com/schemas/2007/categories.cat',\n",
       "    u'term': u'Tech'}],\n",
       "  'description': u'\\u7a0b\\u5f0f\\u4e2d\\u53e6\\u4e00\\u500b\\u91cd\\u8981\\u6982\\u5ff5, \\u689d\\u4ef6\\u5224\\u65b7\\u3002\\u6211\\u5011\\u5b78\\u6703\\u4e86\\u9019\\u500b, \\u5927\\u6982\\u7a0b\\u5f0f\\u7684\\u6982\\u5ff5\\u5c31\\u6709\\u4e86, \\u53ef\\u4ee5\\u5beb\\u4e0d\\u5c11\\u6709\\u8da3\\u7684\\u7a0b\\u5f0f\\u3002',\n",
       "  'title': u'2-4 \\u689d\\u4ef6\\u5224\\u65b7',\n",
       "  'ytid': u'CweOErLahkE'},\n",
       " {'author': u'Yen-Lung Tsai',\n",
       "  'categories': [{u'scheme': u'http://schemas.google.com/g/2005#kind',\n",
       "    u'term': u'http://gdata.youtube.com/schemas/2007#video'},\n",
       "   {u'label': u'Science & Technology',\n",
       "    u'scheme': u'http://gdata.youtube.com/schemas/2007/categories.cat',\n",
       "    u'term': u'Tech'}],\n",
       "  'description': u'\\u6211\\u5011\\u5beb\\u500b\\u300c\\u591a\\u8b8a\\u6578\\u300d\\u7684\\u51fd\\u6578, \\u5728 IPython \\u4e2d\\u5b58\\u6a94\\u3002\\u5916\\u52a0\\u5b78\\u6703\\u600e\\u9ebc\\u505a\\u66f4\\u68d2\\u7684\\u986f\\u793a\\u63a7\\u5236\\u3002',\n",
       "  'title': u'2-3 \\u7a0b\\u5f0f\\u7684\\u5b58\\u6a94',\n",
       "  'ytid': u'D8qec8PVAFQ'},\n",
       " {'author': u'Yen-Lung Tsai',\n",
       "  'categories': [{u'scheme': u'http://schemas.google.com/g/2005#kind',\n",
       "    u'term': u'http://gdata.youtube.com/schemas/2007#video'},\n",
       "   {u'label': u'Science & Technology',\n",
       "    u'scheme': u'http://gdata.youtube.com/schemas/2007/categories.cat',\n",
       "    u'term': u'Tech'}],\n",
       "  'description': u'',\n",
       "  'title': u'2-2 Python \\u51fd\\u6578\\u9019\\u6a23\\u5beb',\n",
       "  'ytid': u'3ltvKycVRFs'},\n",
       " {'author': u'Yen-Lung Tsai',\n",
       "  'categories': [{u'scheme': u'http://schemas.google.com/g/2005#kind',\n",
       "    u'term': u'http://gdata.youtube.com/schemas/2007#video'},\n",
       "   {u'label': u'Science & Technology',\n",
       "    u'scheme': u'http://gdata.youtube.com/schemas/2007/categories.cat',\n",
       "    u'term': u'Tech'}],\n",
       "  'description': u'Python \\u7684 hello world \\u7a0b\\u5f0f\\u9084\\u6709\\u5b57\\u4e32\\u7684\\u6982\\u5ff5\\u3002',\n",
       "  'title': u'2-1 Hello, World (Python)',\n",
       "  'ytid': u'MAd9kiPJ4nA'},\n",
       " {'author': u'Yen-Lung Tsai',\n",
       "  'categories': [{u'scheme': u'http://schemas.google.com/g/2005#kind',\n",
       "    u'term': u'http://gdata.youtube.com/schemas/2007#video'},\n",
       "   {u'label': u'Entertainment',\n",
       "    u'scheme': u'http://gdata.youtube.com/schemas/2007/categories.cat',\n",
       "    u'term': u'Entertainment'}],\n",
       "  'description': u'2015 \\u5e74 3 \\u6708 3 \\u65e5\\u5728\\u82b1\\u84ee.py \\u4ecb\\u7d39\\u7528 IPython Notebook \\u73a9\\u6578\\u64da\\u5206\\u6790\\u3002',\n",
       "  'title': u'\\u82b1\\u84ee.py \\u7528 IPython \\u73a9\\u6578\\u64da\\u5206\\u6790',\n",
       "  'ytid': u'620807cPZMY'},\n",
       " {'author': u'Yen-Lung Tsai',\n",
       "  'categories': [{u'scheme': u'http://schemas.google.com/g/2005#kind',\n",
       "    u'term': u'http://gdata.youtube.com/schemas/2007#video'},\n",
       "   {u'label': u'Science & Technology',\n",
       "    u'scheme': u'http://gdata.youtube.com/schemas/2007/categories.cat',\n",
       "    u'term': u'Tech'}],\n",
       "  'description': u'Python \\u7684\\u5b57\\u4e32\\u3002',\n",
       "  'title': u'2-1 \\u5b57\\u4e32\\u662f\\u53e6\\u4e00\\u500b\\u4e3b\\u89d2',\n",
       "  'ytid': u'lKp_rMBWbZU'},\n",
       " {'author': u'Yen-Lung Tsai',\n",
       "  'categories': [{u'scheme': u'http://schemas.google.com/g/2005#kind',\n",
       "    u'term': u'http://gdata.youtube.com/schemas/2007#video'},\n",
       "   {u'label': u'Science & Technology',\n",
       "    u'scheme': u'http://gdata.youtube.com/schemas/2007/categories.cat',\n",
       "    u'term': u'Tech'}],\n",
       "  'description': u'\\u4f86\\u7b97\\u4e00\\u52a0\\u5230\\u4e00\\u767e, \\u4e26\\u4e14\\u4ecb\\u7d39\\u65b9\\u4fbf\\u7684\\n\\nPython Tutor \\u7db2\\u7ad9\\nhttp://www.pythontutor.com/',\n",
       "  'title': u'1-5 \\u4f86\\u7b97\\u7b97\\u4e00\\u52a0\\u5230\\u4e00\\u767e',\n",
       "  'ytid': u'2OdLclmO_0Q'},\n",
       " {'author': u'Yen-Lung Tsai',\n",
       "  'categories': [{u'scheme': u'http://schemas.google.com/g/2005#kind',\n",
       "    u'term': u'http://gdata.youtube.com/schemas/2007#video'},\n",
       "   {u'label': u'Science & Technology',\n",
       "    u'scheme': u'http://gdata.youtube.com/schemas/2007/categories.cat',\n",
       "    u'term': u'Tech'}],\n",
       "  'description': u'Python for \\u8ff4\\u5708\\u7684\\u4ecb\\u7d39\\u3002',\n",
       "  'title': u'1-4 Python \\u7684\\u8ff4\\u5708',\n",
       "  'ytid': u'v4sk2MSKK3M'},\n",
       " {'author': u'Yen-Lung Tsai',\n",
       "  'categories': [{u'scheme': u'http://schemas.google.com/g/2005#kind',\n",
       "    u'term': u'http://gdata.youtube.com/schemas/2007#video'},\n",
       "   {u'label': u'Science & Technology',\n",
       "    u'scheme': u'http://gdata.youtube.com/schemas/2007/categories.cat',\n",
       "    u'term': u'Tech'}],\n",
       "  'description': u'\\u6211\\u5011\\u8981\\u5206\\u6790\\u7684\\u6771\\u897f, \\u901a\\u5e38\\u5c31\\u662f\\u7528 list \\u5b58\\u8d77\\u4f86!',\n",
       "  'title': u'1-3 List \\u662f\\u57fa\\u672c\\u7684\\u8cc7\\u6599\\u7d50\\u69cb',\n",
       "  'ytid': u'K0PxXOk_deo'},\n",
       " {'author': u'Yen-Lung Tsai',\n",
       "  'categories': [{u'scheme': u'http://schemas.google.com/g/2005#kind',\n",
       "    u'term': u'http://gdata.youtube.com/schemas/2007#video'},\n",
       "   {u'label': u'Science & Technology',\n",
       "    u'scheme': u'http://gdata.youtube.com/schemas/2007/categories.cat',\n",
       "    u'term': u'Tech'}],\n",
       "  'description': u'\\u7528 Python \\u4f86\\u7576\\u8a08\\u7b97\\u6a5f, \\u7576\\u7136\\u53c8\\u7c21\\u55ae\\u53c8\\u5bb9\\u6613, \\u4f46\\u975e\\u5e38\\u5be6\\u7528\\u3002',\n",
       "  'title': u'1-1 \\u6211\\u5bb6\\u7684 Python \\u662f\\u8a08\\u7b97\\u6a5f',\n",
       "  'ytid': u'uSHtQUXlpk4'},\n",
       " {'author': u'Yen-Lung Tsai',\n",
       "  'categories': [{u'scheme': u'http://schemas.google.com/g/2005#kind',\n",
       "    u'term': u'http://gdata.youtube.com/schemas/2007#video'},\n",
       "   {u'label': u'Education',\n",
       "    u'scheme': u'http://gdata.youtube.com/schemas/2007/categories.cat',\n",
       "    u'term': u'Education'}],\n",
       "  'description': u'Vim \\u7684\\u62f7\\u8c9d\\u662f\\u4e00\\u500b\\u5f88\\u7279\\u5225\\u7684\\u5b57\\u53eb yank\\u3002\\u6211\\u5011\\u53ef\\u4ee5\\u6309\\n\\nyy \\u62f7\\u8c9d\\u4e00\\u884c\\n\\n\\u4e5f\\u53ef\\u4ee5\\u52d5\\u7528\\u300e\\u9023\\u4f5c\\u6280\\u300f y$, y^, yw \\u7b49\\u7b49\\u3002\\n\\n\\u300e\\u6578\\u5b57\\u5927\\u6cd5\\u300f\\u5982 2yy \\u4e5f\\u53ef\\u4ee5\\u901a\\u7684\\u3002\\n\\n\\u8981\\u8cbc\\u4e0a\\u5c31\\u662f p, \\u6700\\u5f8c\\u5c31\\u662f\\u4e4b\\u524d\\u7684 d \\u5176\\u5be6\\u6bd4\\u8f03\\u50cf\\u6211\\u5011\\u73fe\\u4ee3\\u7684 cut!',\n",
       "  'title': u'Vim \\u6559\\u5b78 03: \\u62f7\\u8c9d (yank) \\u548c\\u8cbc\\u4e0a',\n",
       "  'ytid': u'tbpqDQzX_gg'},\n",
       " {'author': u'Yen-Lung Tsai',\n",
       "  'categories': [{u'scheme': u'http://schemas.google.com/g/2005#kind',\n",
       "    u'term': u'http://gdata.youtube.com/schemas/2007#video'},\n",
       "   {u'label': u'Education',\n",
       "    u'scheme': u'http://gdata.youtube.com/schemas/2007/categories.cat',\n",
       "    u'term': u'Education'}],\n",
       "  'description': u'2014 \\u5e74 11 \\u6708 20 \\u65e5\\u5373\\u5c07\\u958b\\u8ab2\\u7684\\u5fae\\u7a4d\\u5206 MOOCs \\u7dda\\u4e0a\\u8ab2\\u7a0b, \\u4e0a\\u8ab2\\u65b9\\u5f0f\\u3001\\u898f\\u5b9a\\u7b49\\u7b49\\u8aaa\\u660e\\u3002\\u73fe\\u5728\\u5c31\\u53ef\\u4ee5\\u5831\\u540d\\u4e86\\u54e6!\\n\\n\\u8ab2\\u7a0b\\u7db2\\u5740:\\nhttp://www.ewant.org/admin/tool/mooccourse/mnetcourseinfo.php?hostid=4&id=17',\n",
       "  'title': u'\\u653f\\u5927MOOCs \\u5fae\\u7a4d\\u5206\\u8ab2\\u7a0b\\u8aaa\\u660e',\n",
       "  'ytid': u'3hPo-Gk4IXQ'},\n",
       " {'author': u'Yen-Lung Tsai',\n",
       "  'categories': [{u'scheme': u'http://schemas.google.com/g/2005#kind',\n",
       "    u'term': u'http://gdata.youtube.com/schemas/2007#video'},\n",
       "   {u'label': u'Education',\n",
       "    u'scheme': u'http://gdata.youtube.com/schemas/2007/categories.cat',\n",
       "    u'term': u'Education'}],\n",
       "  'description': u'',\n",
       "  'title': u'Vim \\u6559\\u5b78 02: \\u79fb\\u52d5\\u548c\\u522a\\u9664',\n",
       "  'ytid': u'OHnrY3i6BM8'},\n",
       " {'author': u'Yen-Lung Tsai',\n",
       "  'categories': [{u'scheme': u'http://schemas.google.com/g/2005#kind',\n",
       "    u'term': u'http://gdata.youtube.com/schemas/2007#video'},\n",
       "   {u'label': u'Education',\n",
       "    u'scheme': u'http://gdata.youtube.com/schemas/2007/categories.cat',\n",
       "    u'term': u'Education'}],\n",
       "  'description': u'Vim \\u6587\\u5b57\\u7de8\\u8f2f\\u5668\\u6700\\u57fa\\u672c\\u7684\\u4f7f\\u7528, \\u770b\\u5b8c\\u5c31\\u53ef\\u4ee5\\u958b\\u59cb\\u7de8\\u8f2f\\u7c21\\u55ae\\u6587\\u4ef6\\u3002',\n",
       "  'title': u'Vim \\u6559\\u5b78 01: Vim \\u6975\\u901f\\u5165\\u9580',\n",
       "  'ytid': u'd0gb7448xIA'},\n",
       " {'author': u'Yen-Lung Tsai',\n",
       "  'categories': [{u'scheme': u'http://schemas.google.com/g/2005#kind',\n",
       "    u'term': u'http://gdata.youtube.com/schemas/2007#video'},\n",
       "   {u'label': u'Education',\n",
       "    u'scheme': u'http://gdata.youtube.com/schemas/2007/categories.cat',\n",
       "    u'term': u'Education'}],\n",
       "  'description': u'\\u9019\\u88e1\\u4ecb\\u7d39\\u600e\\u9ebc\\u751f\\u51fa\\u4e0d\\u662f\\u57fa\\u672c\\u5f62\\u72c0\\u7684\\u7269\\u4ef6, \\u9019\\u6703\\u662f\\u5c07\\u4f86\\u8b93 inkscape \\u597d\\u7528\\u7684\\u91cd\\u5927\\u57fa\\u790e\\u3002',\n",
       "  'title': u'[Inkscape 02] \\u751f\\u51fa\\u7279\\u5225\\u5f62\\u72c0\\u7684\\u7269\\u4ef6',\n",
       "  'ytid': u'mKBcgmzjNiE'},\n",
       " {'author': u'Yen-Lung Tsai',\n",
       "  'categories': [{u'scheme': u'http://schemas.google.com/g/2005#kind',\n",
       "    u'term': u'http://gdata.youtube.com/schemas/2007#video'},\n",
       "   {u'label': u'Education',\n",
       "    u'scheme': u'http://gdata.youtube.com/schemas/2007/categories.cat',\n",
       "    u'term': u'Education'}],\n",
       "  'description': u'Inkscape \\u662f\\u514d\\u8cbb\\u7684\\u5411\\u91cf\\u756b\\u5716\\u8edf\\u9ad4, \\u975e\\u5e38\\u597d\\u73a9! \\u9019\\u88e1\\u4ee5\\u756b\\u7acb\\u9ad4\\u7403\\u4f86\\u5b78 Inkscape \\u57fa\\u672c\\u64cd\\u4f5c\\u3002',\n",
       "  'title': u'[Inkscape 01] \\u5f9e 3D \\u756b\\u5716\\u4f86\\u5b78 Inkscape',\n",
       "  'ytid': u'ZqU0KGxcNn0'},\n",
       " {'author': u'Yen-Lung Tsai',\n",
       "  'categories': [{u'scheme': u'http://schemas.google.com/g/2005#kind',\n",
       "    u'term': u'http://gdata.youtube.com/schemas/2007#video'},\n",
       "   {u'label': u'Education',\n",
       "    u'scheme': u'http://gdata.youtube.com/schemas/2007/categories.cat',\n",
       "    u'term': u'Education'}],\n",
       "  'description': u'\\u5411\\u91cf\\u7a7a\\u9593\\u6700\\u91cd\\u8981\\u7684\\u4e94\\u500b\\u4f8b\\u5b50!',\n",
       "  'title': u'[\\u7dda\\u6027\\u4ee3\\u657802] \\u4e94\\u5927\\u5411\\u91cf\\u7a7a\\u9593',\n",
       "  'ytid': u'xB7cC1MfFXE'},\n",
       " {'author': u'Yen-Lung Tsai',\n",
       "  'categories': [{u'scheme': u'http://schemas.google.com/g/2005#kind',\n",
       "    u'term': u'http://gdata.youtube.com/schemas/2007#video'},\n",
       "   {u'label': u'Education',\n",
       "    u'scheme': u'http://gdata.youtube.com/schemas/2007/categories.cat',\n",
       "    u'term': u'Education'}],\n",
       "  'description': u'\\u5411\\u91cf\\u7a7a\\u9593\\u9019\\u516b\\u689d\\u5b9a\\u7fa9, \\u9ebb\\u7169\\u8981\\u62fc\\u6b7b\\u62fc\\u6d3b\\u8a18\\u8d77\\u4f86\\u3002\\u4e0d\\u9700\\u8981\\u6b7b\\u80cc, \\u5c31\\u60f3\\u60f3\\u5982\\u679c\\u662f\\u4f60\\u8981\\u63a8\\u5ee3\\u6211\\u5011\\u719f\\u6089\\u53ef\\u611b\\u7684\\u5411\\u91cf\\u7a7a\\u9593, \\u8981\\u7b26\\u5408\\u54ea\\u4e9b\\u6027\\u8cea\\u3002',\n",
       "  'title': u'[\\u7dda\\u6027\\u4ee3\\u657801] \\u5411\\u91cf\\u7a7a\\u9593\\u7684\\u5b9a\\u7fa9',\n",
       "  'ytid': u'7RTR8thNx18'},\n",
       " {'author': u'Yen-Lung Tsai',\n",
       "  'categories': [{u'scheme': u'http://schemas.google.com/g/2005#kind',\n",
       "    u'term': u'http://gdata.youtube.com/schemas/2007#video'},\n",
       "   {u'label': u'Education',\n",
       "    u'scheme': u'http://gdata.youtube.com/schemas/2007/categories.cat',\n",
       "    u'term': u'Education'}],\n",
       "  'description': u'\\u7528 Anaconda \\u5e6b\\u4f60\\u88dd\\u597d\\u8a31\\u591a (\\u5c24\\u5176\\u662f\\u8cc7\\u6599\\u5206\\u6790\\u3001\\u79d1\\u5b78\\u8a08\\u7b97) \\u7684 Python \\u5957\\u4ef6, \\u5305\\u62ec\\u5f88\\u597d\\u7528\\u7684 IPython Notebook \\u754c\\u9762\\u3002\\n\\nhttp://continuum.io/downloads\\n\\nLinux, Mac, Windows \\u90fd\\u6709, \\u975e\\u5e38\\u65b9\\u4fbf\\u3002\\n\\n\\u9019\\u88e1\\u4ecb\\u7d39\\u5b89\\u88dd\\u65b9\\u5f0f\\u53ca IPython \\u57fa\\u672c\\u4f7f\\u7528\\u3001\\u6307\\u5b9a\\u8def\\u5f91\\u7684\\u65b9\\u5f0f\\u3002',\n",
       "  'title': u'0-0 IPython \\u5b89\\u88dd\\u8207\\u57f7\\u884c (\\u4f7f\\u7528 Anaconda)',\n",
       "  'ytid': u'WB8hg6UZeY0'},\n",
       " {'author': u'Yen-Lung Tsai',\n",
       "  'categories': [{u'scheme': u'http://schemas.google.com/g/2005#kind',\n",
       "    u'term': u'http://gdata.youtube.com/schemas/2007#video'},\n",
       "   {u'label': u'Education',\n",
       "    u'scheme': u'http://gdata.youtube.com/schemas/2007/categories.cat',\n",
       "    u'term': u'Education'}],\n",
       "  'description': u'IPython \\u7528\\u9b54\\u8853\\u51fd\\u6578 %pylab inline \\u756b\\u5716\\u3002\\n\\n\\u4e8b\\u5be6\\u4e0a\\u662f\\u5728\\u8a66 iPad + Mac \\u7528 Doceri \\u9304\\u6559\\u5b78\\u5f71\\u7247\\u3002\\n\\nThis video screencast was created with Doceri on an iPad. Doceri is free in the iTunes app store. Learn more at http://www.doceri.com',\n",
       "  'title': u'1-2 IPython \\u57fa\\u672c\\u756b\\u5716 %pylab inline',\n",
       "  'ytid': u'WbCN3rKJCz4'},\n",
       " {'author': u'Yen-Lung Tsai',\n",
       "  'categories': [{u'scheme': u'http://schemas.google.com/g/2005#kind',\n",
       "    u'term': u'http://gdata.youtube.com/schemas/2007#video'},\n",
       "   {u'label': u'Entertainment',\n",
       "    u'scheme': u'http://gdata.youtube.com/schemas/2007/categories.cat',\n",
       "    u'term': u'Entertainment'}],\n",
       "  'description': u'2014 \\u5e74\\u6210\\u5927\\u6578\\u5b78\\u3001\\u653f\\u5927\\u61c9\\u6578\\u806f\\u5408 \"Nano Data Anlysis with Python\", 9 \\u6708 4 \\u65e5\\u653f\\u5927\\u7b2c\\u56db\\u5834\\u76f4\\u64ad\\u5f71\\u7247\\u3002\\u4ecb\\u7d39 HTML \\u53ca GUI (Tkinter) \\u5165\\u9580\\u3002',\n",
       "  'title': u'2014 Nano Data Anlysis with Python \\u653f\\u5927\\u5834 4',\n",
       "  'ytid': u'GlK2wlW2ih0'},\n",
       " {'author': u'Yen-Lung Tsai',\n",
       "  'categories': [{u'scheme': u'http://schemas.google.com/g/2005#kind',\n",
       "    u'term': u'http://gdata.youtube.com/schemas/2007#video'},\n",
       "   {u'label': u'Entertainment',\n",
       "    u'scheme': u'http://gdata.youtube.com/schemas/2007/categories.cat',\n",
       "    u'term': u'Entertainment'}],\n",
       "  'description': u'2014 \\u5e74\\u6210\\u5927\\u6578\\u5b78\\u3001\\u653f\\u5927\\u61c9\\u6578\\u806f\\u5408 \"Nano Data Anlysis with Python\", 9 \\u6708 3 \\u65e5\\u653f\\u5927\\u7b2c\\u4e09\\u5834\\u76f4\\u64ad\\u5f71\\u7247\\u3002\\n\\n\\u9019\\u6b21\\u4e3b\\u8981\\u4ecb\\u7d39\\u8cc7\\u6599\\u5206\\u6790\\u5f88\\u7d05\\u7684 Pandas \\u5957\\u4ef6! \\u6700\\u5f8c\\u9644\\u4e0a\\u89e3\\u91cb Matplotlib \\u8981\\u653e\\u5165\\u4e2d\\u6587\\u7684\\u65b9\\u6cd5\\u3002',\n",
       "  'title': u'2014 Nano Data Anlysis with Python \\u653f\\u5927\\u5834 3',\n",
       "  'ytid': u'Lksm2NceLz0'},\n",
       " {'author': u'Yen-Lung Tsai',\n",
       "  'categories': [{u'scheme': u'http://schemas.google.com/g/2005#kind',\n",
       "    u'term': u'http://gdata.youtube.com/schemas/2007#video'},\n",
       "   {u'label': u'Entertainment',\n",
       "    u'scheme': u'http://gdata.youtube.com/schemas/2007/categories.cat',\n",
       "    u'term': u'Entertainment'}],\n",
       "  'description': u'2014 \\u5e74\\u6210\\u5927\\u6578\\u5b78\\u3001\\u653f\\u5927\\u61c9\\u6578\\u806f\\u5408 \"Nano Data Anlysis with Python\", 9 \\u6708 2 \\u65e5\\u653f\\u5927\\u7b2c\\u4e00\\u5834\\u76f4\\u64ad\\u5f71\\u7247\\u3002\\u9019\\u6b21\\u6709\\u4ecb\\u7d39\\u5f88\\u65b9\\u4fbf\\u6709\\u8da3\\u7684 IPython 2.0 \\u65b0\\u7684 interact \\u529f\\u80fd\\u3002',\n",
       "  'title': u'2014 Nano Data Anlysis with Python \\u653f\\u5927\\u5834 2',\n",
       "  'ytid': u'3MG9CHCCqDs'},\n",
       " {'author': u'Yen-Lung Tsai',\n",
       "  'categories': [{u'scheme': u'http://schemas.google.com/g/2005#kind',\n",
       "    u'term': u'http://gdata.youtube.com/schemas/2007#video'},\n",
       "   {u'label': u'Science & Technology',\n",
       "    u'scheme': u'http://gdata.youtube.com/schemas/2007/categories.cat',\n",
       "    u'term': u'Tech'}],\n",
       "  'description': u'2014 \\u5e74\\u6210\\u5927\\u6578\\u5b78\\u3001\\u653f\\u5927\\u61c9\\u6578\\u806f\\u5408 \"Nano Data Anlysis with Python\", 9 \\u6708 1 \\u65e5\\u653f\\u5927\\u7b2c\\u4e00\\u5834\\u76f4\\u64ad\\u5f71\\u7247\\u3002\\u4ecb\\u7d39 IPython \\u57fa\\u672c\\u4f7f\\u7528, \\u53ca Python \\u57fa\\u672c\\u5165\\u9580\\u3002\\n\\n1. \\u6bd4\\u8a08\\u7b97\\u6a5f\\u597d\\u7528\\u7684 Python\\n2. \\u4e32\\u5217\\u662f\\u57fa\\u672c\\u7684\\u8cc7\\u6599\\u7d50\\u69cb\\n3. \\u5feb\\u901f\\u628a\\u8cc7\\u6599\\u5716\\u5f62\\u5316\\n4. Python \\u5b57\\u4e32\\u5f88\\u53b2\\u5bb3\\n5. (\\u7a0b\\u5f0f\\u8a2d\\u8a08) \\u51fd\\u6578\\u7684\\u6982\\u5ff5\\n6. \\u7528 IPython \\u4e00\\u908a\\u73a9\\u4e00\\u908a\\u628a\\u7a0b\\u5f0f\\u5beb\\u597d\\n7. IPython \\u5de5\\u4f5c\\u74b0\\u5883',\n",
       "  'title': u'2014 Nano Data Anlysis with Python \\u653f\\u5927\\u5834 1',\n",
       "  'ytid': u'bNOYkAh5UXE'},\n",
       " {'author': u'Yen-Lung Tsai',\n",
       "  'categories': [{u'scheme': u'http://schemas.google.com/g/2005#kind',\n",
       "    u'term': u'http://gdata.youtube.com/schemas/2007#video'},\n",
       "   {u'label': u'Education',\n",
       "    u'scheme': u'http://gdata.youtube.com/schemas/2007/categories.cat',\n",
       "    u'term': u'Education'}],\n",
       "  'description': u\"\\u7d66\\u4efb\\u610f\\u76f4\\u7dda L, \\u653e\\u4e00\\u9ede P \\u5728\\u9019\\u76f4\\u7dda\\u4e0a\\u3002\\u627e\\u4e00\\u500b\\u4e8c\\u6b21\\u591a\\u9805\\u5f0f\\u51fd\\u6578, \\u904e P \\u9ede\\u4e14\\u5728 P \\u9ede\\u7684\\u5207\\u7dda\\u70ba L\\u3002\\n\\n\\u9019\\u88e1\\u6211\\u5011\\u53ea\\u5047\\u8a2d\\u6703\\u6c42\\u5c0e\\u6578 (\\u6703\\u66f4\\u9ad8\\u6280\\u5de7\\u7684\\u7576\\u7136\\u53ef\\u4ee5\\u505a\\u51fa\\u66f4\\u591a\\u6a23\\u7684\\u51fd\\u6578), \\u63d0\\u793a\\u662f\\u53ef\\u4ee5\\u5148\\u8a2d\\n\\nf(x) = ax^2 + bx + c\\n\\n\\u6211\\u5011\\u6703\\u6c42\\u5c0e\\u6578 f'(x), \\u7136\\u5f8c\\u60f3\\u8fa6\\u6cd5\\u6c42 a, b, c\\u3002c \\u5728\\u67d0\\u7a2e\\u7a0b\\u5ea6\\u53ef\\u4ee5\\u8b93\\u6211\\u5011\\u81ea\\u7531\\u8a2d\\u3002\",\n",
       "  'title': u'GeoGebra \\u6311\\u6230 02: \\u6307\\u5b9a\\u5207\\u7dda\\u5207\\u9ede\\u7684\\u4e8c\\u6b21\\u51fd\\u6578',\n",
       "  'ytid': u'4b8oLwtyIX0'},\n",
       " {'author': u'Yen-Lung Tsai',\n",
       "  'categories': [{u'scheme': u'http://schemas.google.com/g/2005#kind',\n",
       "    u'term': u'http://gdata.youtube.com/schemas/2007#video'},\n",
       "   {u'label': u'Education',\n",
       "    u'scheme': u'http://gdata.youtube.com/schemas/2007/categories.cat',\n",
       "    u'term': u'Education'}],\n",
       "  'description': u'\\u5728 GeoGebra \\u88e1\\u53ef\\u4ee5\\u7528 floor(x) \\u756b\\u51fa\\u9ad8\\u65af\\u51fd\\u6578\\u3002\\u6211\\u5011\\u600e\\u9ebc\\u6a23\\u53ef\\u4ee5\\u7528\\u9019\\u500b\\u51fd\\u6578\\u3001\\u642d\\u914d\\u5176\\u4ed6\\u51fd\\u6578, \\u756b\\u51fa\\u66f4\\u6709\\u8da3\\u7684\\u4e0d\\u9023\\u7e8c\\u51fd\\u6578, \\u800c\\u4e14\\u53c8\\u53ef\\u4ee5\\u8abf\\u6574\\u4e00\\u500b\\u6578\\u503c\\u6ed1\\u687f\\u5c31\\u628a\\u5b83\\u63a5\\u56de\\u4f86\\u5462?',\n",
       "  'title': u'GeoGebra \\u6311\\u6230 01: \\u63a5\\u8d77\\u65b7\\u6389\\u7684\\u51fd\\u6578',\n",
       "  'ytid': u'XAJBiEodiSQ'},\n",
       " {'author': u'Yen-Lung Tsai',\n",
       "  'categories': [{u'scheme': u'http://schemas.google.com/g/2005#kind',\n",
       "    u'term': u'http://gdata.youtube.com/schemas/2007#video'},\n",
       "   {u'label': u'Education',\n",
       "    u'scheme': u'http://gdata.youtube.com/schemas/2007/categories.cat',\n",
       "    u'term': u'Education'}],\n",
       "  'description': u'\\u9019\\u88e1\\u4ecb\\u7d39\\u5169\\u7a2e\\u6578\\u503c\\u6ed1\\u687f\\u7684\\u4f5c\\u6cd5, \\u4e26\\u4e14\\u4ecb\\u7d39\\u600e\\u9ebc\\u7528\\u6578\\u503c\\u6ed1\\u687f\\u4f86\\u505a\\u7c21\\u55ae\\u52d5\\u756b\\u3002',\n",
       "  'title': u'GeoGebra \\u7c21\\u4ecb 2: \\u6578\\u503c\\u6ed1\\u687f\\u8207\\u7c21\\u55ae\\u52d5\\u756b',\n",
       "  'ytid': u'6FjpScjBxkg'},\n",
       " {'author': u'Yen-Lung Tsai',\n",
       "  'categories': [{u'scheme': u'http://schemas.google.com/g/2005#kind',\n",
       "    u'term': u'http://gdata.youtube.com/schemas/2007#video'},\n",
       "   {u'label': u'Education',\n",
       "    u'scheme': u'http://gdata.youtube.com/schemas/2007/categories.cat',\n",
       "    u'term': u'Education'}],\n",
       "  'description': u'GeoGebra \\u7c21\\u4ecb, \\u4ecb\\u7d39\\u57fa\\u672c\\u51fd\\u6578\\u7e6a\\u5716\\u3001\\u7c21\\u55ae\\u52d5\\u756b\\u529f\\u80fd\\u3002',\n",
       "  'title': u'GeoGebra \\u7c21\\u4ecb 1: \\u57fa\\u672c\\u51fd\\u6578\\u7e6a\\u5716',\n",
       "  'ytid': u'8MKD-3b5koo'}]"
      ]
     },
     "execution_count": 10,
     "metadata": {},
     "output_type": "execute_result"
    }
   ],
   "source": [
    "video_data#檢視一下爬下來什麼"
   ]
  },
  {
   "cell_type": "markdown",
   "metadata": {
    "collapsed": true
   },
   "source": [
    "###把其中一個拿出來看\n",
    "```python\n",
    "{'author': u'TW use-R',\n",
    " 'categories': [{u'scheme': u'http://schemas.google.com/g/2005#kind',\n",
    "                 u'term': u'http://gdata.youtube.com/schemas/2007#video'},\n",
    "                {u'label': u'Science & Technology',\n",
    "                 u'scheme': u'http://gdata.youtube.com/schemas/2007/categories.cat',\n",
    "                 u'term': u'Tech'}],\n",
    " 'description': u'\\u8b1b\\u984c\\uff1aTITLE\\n\\u8b1b\\u8005\\uff1aSPEAKER\\n\\nAbstract\\n\\n[Abstract or Description]\\n\\nAbout                 the Speaker\\n\\n[About the Speaker]',\n",
    " 'title': u'20150302 MLDM Monday x \\u85cf\\u982d\\u8a69\\u7522\\u751f\\u5668 part4',\n",
    " 'ytid': u'V6r-Z3l4bc8'},\n",
    "```"
   ]
  },
  {
   "cell_type": "markdown",
   "metadata": {
    "collapsed": false
   },
   "source": [
    "##用pandas來協助“存” video_data<--整個頻道內的所有影片\n",
    "```\n",
    "video_data_df = pd.DataFrame(video_data)\n",
    "\n",
    "video_data_df = video_data_df[[\"title\",\"description\",\"ytid\"]]\n",
    "video_data_df.columns = [u'ytTitle', u'ytDescription', u'ytid']\n",
    "```"
   ]
  },
  {
   "cell_type": "markdown",
   "metadata": {},
   "source": [
    "###場外插撥：感人肺腑的一刻\n",
    "```python\n",
    "video_data_df.head()<----本來有出錯\n",
    "```\n",
    "不過，把種種更新後就ok了\n",
    "```\n",
    "conda update conda\n",
    "conda update pandas\n",
    "conda update ipython-notebook\n",
    "```"
   ]
  },
  {
   "cell_type": "code",
   "execution_count": 11,
   "metadata": {
    "collapsed": false
   },
   "outputs": [
    {
     "data": {
      "text/html": [
       "<div style=\"max-height:1000px;max-width:1500px;overflow:auto;\">\n",
       "<table border=\"1\" class=\"dataframe\">\n",
       "  <thead>\n",
       "    <tr style=\"text-align: right;\">\n",
       "      <th></th>\n",
       "      <th>author</th>\n",
       "      <th>categories</th>\n",
       "      <th>description</th>\n",
       "      <th>title</th>\n",
       "      <th>ytid</th>\n",
       "    </tr>\n",
       "  </thead>\n",
       "  <tbody>\n",
       "    <tr>\n",
       "      <th>0</th>\n",
       "      <td>Yen-Lung Tsai</td>\n",
       "      <td>[{u'term': u'http://gdata.youtube.com/schemas/...</td>\n",
       "      <td>Python 讀入套件的方法。</td>\n",
       "      <td>3-2 pylab inline 做了什麼</td>\n",
       "      <td>_oXvbxFP2oI</td>\n",
       "    </tr>\n",
       "    <tr>\n",
       "      <th>1</th>\n",
       "      <td>Yen-Lung Tsai</td>\n",
       "      <td>[{u'term': u'http://gdata.youtube.com/schemas/...</td>\n",
       "      <td>開始數據分析重要的 array 資料型態。</td>\n",
       "      <td>3-1 Array 真的炫</td>\n",
       "      <td>ayFu8KKJR2A</td>\n",
       "    </tr>\n",
       "    <tr>\n",
       "      <th>2</th>\n",
       "      <td>Yen-Lung Tsai</td>\n",
       "      <td>[{u'term': u'http://gdata.youtube.com/schemas/...</td>\n",
       "      <td>我們介紹兩個概念:\\n\\n1. while 迴圈\\n2. 讀入一個套件</td>\n",
       "      <td>2-5 While 和猜數字遊戲</td>\n",
       "      <td>7K3FR9ykha4</td>\n",
       "    </tr>\n",
       "    <tr>\n",
       "      <th>3</th>\n",
       "      <td>Yen-Lung Tsai</td>\n",
       "      <td>[{u'term': u'http://gdata.youtube.com/schemas/...</td>\n",
       "      <td>程式中另一個重要概念, 條件判斷。我們學會了這個, 大概程式的概念就有了, 可以寫不少有趣的程式。</td>\n",
       "      <td>2-4 條件判斷</td>\n",
       "      <td>CweOErLahkE</td>\n",
       "    </tr>\n",
       "    <tr>\n",
       "      <th>4</th>\n",
       "      <td>Yen-Lung Tsai</td>\n",
       "      <td>[{u'term': u'http://gdata.youtube.com/schemas/...</td>\n",
       "      <td>我們寫個「多變數」的函數, 在 IPython 中存檔。外加學會怎麼做更棒的顯示控制。</td>\n",
       "      <td>2-3 程式的存檔</td>\n",
       "      <td>D8qec8PVAFQ</td>\n",
       "    </tr>\n",
       "  </tbody>\n",
       "</table>\n",
       "</div>"
      ],
      "text/plain": [
       "          author                                         categories  \\\n",
       "0  Yen-Lung Tsai  [{u'term': u'http://gdata.youtube.com/schemas/...   \n",
       "1  Yen-Lung Tsai  [{u'term': u'http://gdata.youtube.com/schemas/...   \n",
       "2  Yen-Lung Tsai  [{u'term': u'http://gdata.youtube.com/schemas/...   \n",
       "3  Yen-Lung Tsai  [{u'term': u'http://gdata.youtube.com/schemas/...   \n",
       "4  Yen-Lung Tsai  [{u'term': u'http://gdata.youtube.com/schemas/...   \n",
       "\n",
       "                                         description                  title  \\\n",
       "0                                    Python 讀入套件的方法。  3-2 pylab inline 做了什麼   \n",
       "1                              開始數據分析重要的 array 資料型態。          3-1 Array 真的炫   \n",
       "2                我們介紹兩個概念:\\n\\n1. while 迴圈\\n2. 讀入一個套件       2-5 While 和猜數字遊戲   \n",
       "3  程式中另一個重要概念, 條件判斷。我們學會了這個, 大概程式的概念就有了, 可以寫不少有趣的程式。               2-4 條件判斷   \n",
       "4        我們寫個「多變數」的函數, 在 IPython 中存檔。外加學會怎麼做更棒的顯示控制。              2-3 程式的存檔   \n",
       "\n",
       "          ytid  \n",
       "0  _oXvbxFP2oI  \n",
       "1  ayFu8KKJR2A  \n",
       "2  7K3FR9ykha4  \n",
       "3  CweOErLahkE  \n",
       "4  D8qec8PVAFQ  "
      ]
     },
     "execution_count": 11,
     "metadata": {},
     "output_type": "execute_result"
    }
   ],
   "source": [
    "video_data_df = pd.DataFrame(video_data)\n",
    "video_data_df.head()"
   ]
  },
  {
   "cell_type": "code",
   "execution_count": 12,
   "metadata": {
    "collapsed": false
   },
   "outputs": [],
   "source": [
    "video_data_df = video_data_df[[\"title\",\"description\",\"ytid\"]] "
   ]
  },
  {
   "cell_type": "code",
   "execution_count": 13,
   "metadata": {
    "collapsed": false
   },
   "outputs": [],
   "source": [
    "video_data_df.columns = [u'ytTitle', u'ytDescription', u'ytid']#換個名字，並且用unicode"
   ]
  },
  {
   "cell_type": "code",
   "execution_count": 14,
   "metadata": {
    "collapsed": false
   },
   "outputs": [
    {
     "data": {
      "text/html": [
       "<div style=\"max-height:1000px;max-width:1500px;overflow:auto;\">\n",
       "<table border=\"1\" class=\"dataframe\">\n",
       "  <thead>\n",
       "    <tr style=\"text-align: right;\">\n",
       "      <th></th>\n",
       "      <th>ytTitle</th>\n",
       "      <th>ytDescription</th>\n",
       "      <th>ytid</th>\n",
       "    </tr>\n",
       "  </thead>\n",
       "  <tbody>\n",
       "    <tr>\n",
       "      <th>0</th>\n",
       "      <td>3-2 pylab inline 做了什麼</td>\n",
       "      <td>Python 讀入套件的方法。</td>\n",
       "      <td>_oXvbxFP2oI</td>\n",
       "    </tr>\n",
       "    <tr>\n",
       "      <th>1</th>\n",
       "      <td>3-1 Array 真的炫</td>\n",
       "      <td>開始數據分析重要的 array 資料型態。</td>\n",
       "      <td>ayFu8KKJR2A</td>\n",
       "    </tr>\n",
       "    <tr>\n",
       "      <th>2</th>\n",
       "      <td>2-5 While 和猜數字遊戲</td>\n",
       "      <td>我們介紹兩個概念:\\n\\n1. while 迴圈\\n2. 讀入一個套件</td>\n",
       "      <td>7K3FR9ykha4</td>\n",
       "    </tr>\n",
       "    <tr>\n",
       "      <th>3</th>\n",
       "      <td>2-4 條件判斷</td>\n",
       "      <td>程式中另一個重要概念, 條件判斷。我們學會了這個, 大概程式的概念就有了, 可以寫不少有趣的程式。</td>\n",
       "      <td>CweOErLahkE</td>\n",
       "    </tr>\n",
       "    <tr>\n",
       "      <th>4</th>\n",
       "      <td>2-3 程式的存檔</td>\n",
       "      <td>我們寫個「多變數」的函數, 在 IPython 中存檔。外加學會怎麼做更棒的顯示控制。</td>\n",
       "      <td>D8qec8PVAFQ</td>\n",
       "    </tr>\n",
       "  </tbody>\n",
       "</table>\n",
       "</div>"
      ],
      "text/plain": [
       "                 ytTitle                                      ytDescription  \\\n",
       "0  3-2 pylab inline 做了什麼                                    Python 讀入套件的方法。   \n",
       "1          3-1 Array 真的炫                              開始數據分析重要的 array 資料型態。   \n",
       "2       2-5 While 和猜數字遊戲                我們介紹兩個概念:\\n\\n1. while 迴圈\\n2. 讀入一個套件   \n",
       "3               2-4 條件判斷  程式中另一個重要概念, 條件判斷。我們學會了這個, 大概程式的概念就有了, 可以寫不少有趣的程式。   \n",
       "4              2-3 程式的存檔        我們寫個「多變數」的函數, 在 IPython 中存檔。外加學會怎麼做更棒的顯示控制。   \n",
       "\n",
       "          ytid  \n",
       "0  _oXvbxFP2oI  \n",
       "1  ayFu8KKJR2A  \n",
       "2  7K3FR9ykha4  \n",
       "3  CweOErLahkE  \n",
       "4  D8qec8PVAFQ  "
      ]
     },
     "execution_count": 14,
     "metadata": {},
     "output_type": "execute_result"
    }
   ],
   "source": [
    "video_data_df.head()"
   ]
  },
  {
   "cell_type": "markdown",
   "metadata": {
    "collapsed": true
   },
   "source": [
    "##繼續整理\n",
    "```\n",
    "video_data_df[\"youtubeVideoId\"] = video_data_df[\"ytid\"]\n",
    "video_data_df = video_data_df.drop(\"ytid\",1)\n",
    "video_data_df[\"_id\"] = video_data_df[\"youtubeVideoId\"].map(lambda xx:\"YTV_\"+xx)\n",
    "video_data_df[\"type\"] = \"youtube\"\n",
    "\n",
    "learning_resources_collection.insert(video_data_df.to_dict(orient=\"records\"))\n",
    "```\n"
   ]
  },
  {
   "cell_type": "code",
   "execution_count": 15,
   "metadata": {
    "collapsed": true
   },
   "outputs": [],
   "source": [
    "video_data_df[\"youtubeVideoId\"] = video_data_df[\"ytid\"]"
   ]
  },
  {
   "cell_type": "code",
   "execution_count": 16,
   "metadata": {
    "collapsed": false
   },
   "outputs": [
    {
     "data": {
      "text/html": [
       "<div style=\"max-height:1000px;max-width:1500px;overflow:auto;\">\n",
       "<table border=\"1\" class=\"dataframe\">\n",
       "  <thead>\n",
       "    <tr style=\"text-align: right;\">\n",
       "      <th></th>\n",
       "      <th>ytTitle</th>\n",
       "      <th>ytDescription</th>\n",
       "      <th>ytid</th>\n",
       "      <th>youtubeVideoId</th>\n",
       "    </tr>\n",
       "  </thead>\n",
       "  <tbody>\n",
       "    <tr>\n",
       "      <th>0</th>\n",
       "      <td>3-2 pylab inline 做了什麼</td>\n",
       "      <td>Python 讀入套件的方法。</td>\n",
       "      <td>_oXvbxFP2oI</td>\n",
       "      <td>_oXvbxFP2oI</td>\n",
       "    </tr>\n",
       "    <tr>\n",
       "      <th>1</th>\n",
       "      <td>3-1 Array 真的炫</td>\n",
       "      <td>開始數據分析重要的 array 資料型態。</td>\n",
       "      <td>ayFu8KKJR2A</td>\n",
       "      <td>ayFu8KKJR2A</td>\n",
       "    </tr>\n",
       "    <tr>\n",
       "      <th>2</th>\n",
       "      <td>2-5 While 和猜數字遊戲</td>\n",
       "      <td>我們介紹兩個概念:\\n\\n1. while 迴圈\\n2. 讀入一個套件</td>\n",
       "      <td>7K3FR9ykha4</td>\n",
       "      <td>7K3FR9ykha4</td>\n",
       "    </tr>\n",
       "    <tr>\n",
       "      <th>3</th>\n",
       "      <td>2-4 條件判斷</td>\n",
       "      <td>程式中另一個重要概念, 條件判斷。我們學會了這個, 大概程式的概念就有了, 可以寫不少有趣的程式。</td>\n",
       "      <td>CweOErLahkE</td>\n",
       "      <td>CweOErLahkE</td>\n",
       "    </tr>\n",
       "    <tr>\n",
       "      <th>4</th>\n",
       "      <td>2-3 程式的存檔</td>\n",
       "      <td>我們寫個「多變數」的函數, 在 IPython 中存檔。外加學會怎麼做更棒的顯示控制。</td>\n",
       "      <td>D8qec8PVAFQ</td>\n",
       "      <td>D8qec8PVAFQ</td>\n",
       "    </tr>\n",
       "  </tbody>\n",
       "</table>\n",
       "</div>"
      ],
      "text/plain": [
       "                 ytTitle                                      ytDescription  \\\n",
       "0  3-2 pylab inline 做了什麼                                    Python 讀入套件的方法。   \n",
       "1          3-1 Array 真的炫                              開始數據分析重要的 array 資料型態。   \n",
       "2       2-5 While 和猜數字遊戲                我們介紹兩個概念:\\n\\n1. while 迴圈\\n2. 讀入一個套件   \n",
       "3               2-4 條件判斷  程式中另一個重要概念, 條件判斷。我們學會了這個, 大概程式的概念就有了, 可以寫不少有趣的程式。   \n",
       "4              2-3 程式的存檔        我們寫個「多變數」的函數, 在 IPython 中存檔。外加學會怎麼做更棒的顯示控制。   \n",
       "\n",
       "          ytid youtubeVideoId  \n",
       "0  _oXvbxFP2oI    _oXvbxFP2oI  \n",
       "1  ayFu8KKJR2A    ayFu8KKJR2A  \n",
       "2  7K3FR9ykha4    7K3FR9ykha4  \n",
       "3  CweOErLahkE    CweOErLahkE  \n",
       "4  D8qec8PVAFQ    D8qec8PVAFQ  "
      ]
     },
     "execution_count": 16,
     "metadata": {},
     "output_type": "execute_result"
    }
   ],
   "source": [
    "video_data_df.head()"
   ]
  },
  {
   "cell_type": "code",
   "execution_count": 17,
   "metadata": {
    "collapsed": false
   },
   "outputs": [],
   "source": [
    "video_data_df = video_data_df.drop(\"ytid\",1)#0對index,1對column.把它弄掉用drop"
   ]
  },
  {
   "cell_type": "code",
   "execution_count": 18,
   "metadata": {
    "collapsed": false
   },
   "outputs": [
    {
     "data": {
      "text/html": [
       "<div style=\"max-height:1000px;max-width:1500px;overflow:auto;\">\n",
       "<table border=\"1\" class=\"dataframe\">\n",
       "  <thead>\n",
       "    <tr style=\"text-align: right;\">\n",
       "      <th></th>\n",
       "      <th>ytTitle</th>\n",
       "      <th>ytDescription</th>\n",
       "      <th>youtubeVideoId</th>\n",
       "    </tr>\n",
       "  </thead>\n",
       "  <tbody>\n",
       "    <tr>\n",
       "      <th>0</th>\n",
       "      <td>3-2 pylab inline 做了什麼</td>\n",
       "      <td>Python 讀入套件的方法。</td>\n",
       "      <td>_oXvbxFP2oI</td>\n",
       "    </tr>\n",
       "    <tr>\n",
       "      <th>1</th>\n",
       "      <td>3-1 Array 真的炫</td>\n",
       "      <td>開始數據分析重要的 array 資料型態。</td>\n",
       "      <td>ayFu8KKJR2A</td>\n",
       "    </tr>\n",
       "    <tr>\n",
       "      <th>2</th>\n",
       "      <td>2-5 While 和猜數字遊戲</td>\n",
       "      <td>我們介紹兩個概念:\\n\\n1. while 迴圈\\n2. 讀入一個套件</td>\n",
       "      <td>7K3FR9ykha4</td>\n",
       "    </tr>\n",
       "    <tr>\n",
       "      <th>3</th>\n",
       "      <td>2-4 條件判斷</td>\n",
       "      <td>程式中另一個重要概念, 條件判斷。我們學會了這個, 大概程式的概念就有了, 可以寫不少有趣的程式。</td>\n",
       "      <td>CweOErLahkE</td>\n",
       "    </tr>\n",
       "    <tr>\n",
       "      <th>4</th>\n",
       "      <td>2-3 程式的存檔</td>\n",
       "      <td>我們寫個「多變數」的函數, 在 IPython 中存檔。外加學會怎麼做更棒的顯示控制。</td>\n",
       "      <td>D8qec8PVAFQ</td>\n",
       "    </tr>\n",
       "  </tbody>\n",
       "</table>\n",
       "</div>"
      ],
      "text/plain": [
       "                 ytTitle                                      ytDescription  \\\n",
       "0  3-2 pylab inline 做了什麼                                    Python 讀入套件的方法。   \n",
       "1          3-1 Array 真的炫                              開始數據分析重要的 array 資料型態。   \n",
       "2       2-5 While 和猜數字遊戲                我們介紹兩個概念:\\n\\n1. while 迴圈\\n2. 讀入一個套件   \n",
       "3               2-4 條件判斷  程式中另一個重要概念, 條件判斷。我們學會了這個, 大概程式的概念就有了, 可以寫不少有趣的程式。   \n",
       "4              2-3 程式的存檔        我們寫個「多變數」的函數, 在 IPython 中存檔。外加學會怎麼做更棒的顯示控制。   \n",
       "\n",
       "  youtubeVideoId  \n",
       "0    _oXvbxFP2oI  \n",
       "1    ayFu8KKJR2A  \n",
       "2    7K3FR9ykha4  \n",
       "3    CweOErLahkE  \n",
       "4    D8qec8PVAFQ  "
      ]
     },
     "execution_count": 18,
     "metadata": {},
     "output_type": "execute_result"
    }
   ],
   "source": [
    "video_data_df.head()"
   ]
  },
  {
   "cell_type": "code",
   "execution_count": 19,
   "metadata": {
    "collapsed": true
   },
   "outputs": [],
   "source": [
    "video_data_df[\"_id\"] = video_data_df[\"youtubeVideoId\"].map(lambda xx:\"YTV_\"+xx)"
   ]
  },
  {
   "cell_type": "code",
   "execution_count": 20,
   "metadata": {
    "collapsed": false
   },
   "outputs": [
    {
     "data": {
      "text/html": [
       "<div style=\"max-height:1000px;max-width:1500px;overflow:auto;\">\n",
       "<table border=\"1\" class=\"dataframe\">\n",
       "  <thead>\n",
       "    <tr style=\"text-align: right;\">\n",
       "      <th></th>\n",
       "      <th>ytTitle</th>\n",
       "      <th>ytDescription</th>\n",
       "      <th>youtubeVideoId</th>\n",
       "      <th>_id</th>\n",
       "    </tr>\n",
       "  </thead>\n",
       "  <tbody>\n",
       "    <tr>\n",
       "      <th>0</th>\n",
       "      <td>3-2 pylab inline 做了什麼</td>\n",
       "      <td>Python 讀入套件的方法。</td>\n",
       "      <td>_oXvbxFP2oI</td>\n",
       "      <td>YTV__oXvbxFP2oI</td>\n",
       "    </tr>\n",
       "    <tr>\n",
       "      <th>1</th>\n",
       "      <td>3-1 Array 真的炫</td>\n",
       "      <td>開始數據分析重要的 array 資料型態。</td>\n",
       "      <td>ayFu8KKJR2A</td>\n",
       "      <td>YTV_ayFu8KKJR2A</td>\n",
       "    </tr>\n",
       "    <tr>\n",
       "      <th>2</th>\n",
       "      <td>2-5 While 和猜數字遊戲</td>\n",
       "      <td>我們介紹兩個概念:\\n\\n1. while 迴圈\\n2. 讀入一個套件</td>\n",
       "      <td>7K3FR9ykha4</td>\n",
       "      <td>YTV_7K3FR9ykha4</td>\n",
       "    </tr>\n",
       "    <tr>\n",
       "      <th>3</th>\n",
       "      <td>2-4 條件判斷</td>\n",
       "      <td>程式中另一個重要概念, 條件判斷。我們學會了這個, 大概程式的概念就有了, 可以寫不少有趣的程式。</td>\n",
       "      <td>CweOErLahkE</td>\n",
       "      <td>YTV_CweOErLahkE</td>\n",
       "    </tr>\n",
       "    <tr>\n",
       "      <th>4</th>\n",
       "      <td>2-3 程式的存檔</td>\n",
       "      <td>我們寫個「多變數」的函數, 在 IPython 中存檔。外加學會怎麼做更棒的顯示控制。</td>\n",
       "      <td>D8qec8PVAFQ</td>\n",
       "      <td>YTV_D8qec8PVAFQ</td>\n",
       "    </tr>\n",
       "  </tbody>\n",
       "</table>\n",
       "</div>"
      ],
      "text/plain": [
       "                 ytTitle                                      ytDescription  \\\n",
       "0  3-2 pylab inline 做了什麼                                    Python 讀入套件的方法。   \n",
       "1          3-1 Array 真的炫                              開始數據分析重要的 array 資料型態。   \n",
       "2       2-5 While 和猜數字遊戲                我們介紹兩個概念:\\n\\n1. while 迴圈\\n2. 讀入一個套件   \n",
       "3               2-4 條件判斷  程式中另一個重要概念, 條件判斷。我們學會了這個, 大概程式的概念就有了, 可以寫不少有趣的程式。   \n",
       "4              2-3 程式的存檔        我們寫個「多變數」的函數, 在 IPython 中存檔。外加學會怎麼做更棒的顯示控制。   \n",
       "\n",
       "  youtubeVideoId              _id  \n",
       "0    _oXvbxFP2oI  YTV__oXvbxFP2oI  \n",
       "1    ayFu8KKJR2A  YTV_ayFu8KKJR2A  \n",
       "2    7K3FR9ykha4  YTV_7K3FR9ykha4  \n",
       "3    CweOErLahkE  YTV_CweOErLahkE  \n",
       "4    D8qec8PVAFQ  YTV_D8qec8PVAFQ  "
      ]
     },
     "execution_count": 20,
     "metadata": {},
     "output_type": "execute_result"
    }
   ],
   "source": [
    "video_data_df.head()"
   ]
  },
  {
   "cell_type": "code",
   "execution_count": 21,
   "metadata": {
    "collapsed": false
   },
   "outputs": [
    {
     "data": {
      "text/html": [
       "<div style=\"max-height:1000px;max-width:1500px;overflow:auto;\">\n",
       "<table border=\"1\" class=\"dataframe\">\n",
       "  <thead>\n",
       "    <tr style=\"text-align: right;\">\n",
       "      <th></th>\n",
       "      <th>ytTitle</th>\n",
       "      <th>ytDescription</th>\n",
       "      <th>youtubeVideoId</th>\n",
       "      <th>_id</th>\n",
       "      <th>type</th>\n",
       "    </tr>\n",
       "  </thead>\n",
       "  <tbody>\n",
       "    <tr>\n",
       "      <th>0</th>\n",
       "      <td>3-2 pylab inline 做了什麼</td>\n",
       "      <td>Python 讀入套件的方法。</td>\n",
       "      <td>_oXvbxFP2oI</td>\n",
       "      <td>YTV__oXvbxFP2oI</td>\n",
       "      <td>youtube</td>\n",
       "    </tr>\n",
       "    <tr>\n",
       "      <th>1</th>\n",
       "      <td>3-1 Array 真的炫</td>\n",
       "      <td>開始數據分析重要的 array 資料型態。</td>\n",
       "      <td>ayFu8KKJR2A</td>\n",
       "      <td>YTV_ayFu8KKJR2A</td>\n",
       "      <td>youtube</td>\n",
       "    </tr>\n",
       "    <tr>\n",
       "      <th>2</th>\n",
       "      <td>2-5 While 和猜數字遊戲</td>\n",
       "      <td>我們介紹兩個概念:\\n\\n1. while 迴圈\\n2. 讀入一個套件</td>\n",
       "      <td>7K3FR9ykha4</td>\n",
       "      <td>YTV_7K3FR9ykha4</td>\n",
       "      <td>youtube</td>\n",
       "    </tr>\n",
       "    <tr>\n",
       "      <th>3</th>\n",
       "      <td>2-4 條件判斷</td>\n",
       "      <td>程式中另一個重要概念, 條件判斷。我們學會了這個, 大概程式的概念就有了, 可以寫不少有趣的程式。</td>\n",
       "      <td>CweOErLahkE</td>\n",
       "      <td>YTV_CweOErLahkE</td>\n",
       "      <td>youtube</td>\n",
       "    </tr>\n",
       "    <tr>\n",
       "      <th>4</th>\n",
       "      <td>2-3 程式的存檔</td>\n",
       "      <td>我們寫個「多變數」的函數, 在 IPython 中存檔。外加學會怎麼做更棒的顯示控制。</td>\n",
       "      <td>D8qec8PVAFQ</td>\n",
       "      <td>YTV_D8qec8PVAFQ</td>\n",
       "      <td>youtube</td>\n",
       "    </tr>\n",
       "  </tbody>\n",
       "</table>\n",
       "</div>"
      ],
      "text/plain": [
       "                 ytTitle                                      ytDescription  \\\n",
       "0  3-2 pylab inline 做了什麼                                    Python 讀入套件的方法。   \n",
       "1          3-1 Array 真的炫                              開始數據分析重要的 array 資料型態。   \n",
       "2       2-5 While 和猜數字遊戲                我們介紹兩個概念:\\n\\n1. while 迴圈\\n2. 讀入一個套件   \n",
       "3               2-4 條件判斷  程式中另一個重要概念, 條件判斷。我們學會了這個, 大概程式的概念就有了, 可以寫不少有趣的程式。   \n",
       "4              2-3 程式的存檔        我們寫個「多變數」的函數, 在 IPython 中存檔。外加學會怎麼做更棒的顯示控制。   \n",
       "\n",
       "  youtubeVideoId              _id     type  \n",
       "0    _oXvbxFP2oI  YTV__oXvbxFP2oI  youtube  \n",
       "1    ayFu8KKJR2A  YTV_ayFu8KKJR2A  youtube  \n",
       "2    7K3FR9ykha4  YTV_7K3FR9ykha4  youtube  \n",
       "3    CweOErLahkE  YTV_CweOErLahkE  youtube  \n",
       "4    D8qec8PVAFQ  YTV_D8qec8PVAFQ  youtube  "
      ]
     },
     "execution_count": 21,
     "metadata": {},
     "output_type": "execute_result"
    }
   ],
   "source": [
    "video_data_df[\"type\"] = \"youtube\" #可以一次把那一行通通變成同一文字\n",
    "video_data_df.head()"
   ]
  },
  {
   "cell_type": "code",
   "execution_count": 22,
   "metadata": {
    "collapsed": false
   },
   "outputs": [],
   "source": [
    "orient=\"records\" #這個？"
   ]
  },
  {
   "cell_type": "code",
   "execution_count": 23,
   "metadata": {
    "collapsed": false
   },
   "outputs": [
    {
     "data": {
      "text/plain": [
       "[{'_id': u'YTV__oXvbxFP2oI',\n",
       "  'type': 'youtube',\n",
       "  'youtubeVideoId': u'_oXvbxFP2oI',\n",
       "  u'ytDescription': u'Python \\u8b80\\u5165\\u5957\\u4ef6\\u7684\\u65b9\\u6cd5\\u3002',\n",
       "  u'ytTitle': u'3-2 pylab inline \\u505a\\u4e86\\u4ec0\\u9ebc'},\n",
       " {'_id': u'YTV_ayFu8KKJR2A',\n",
       "  'type': 'youtube',\n",
       "  'youtubeVideoId': u'ayFu8KKJR2A',\n",
       "  u'ytDescription': u'\\u958b\\u59cb\\u6578\\u64da\\u5206\\u6790\\u91cd\\u8981\\u7684 array \\u8cc7\\u6599\\u578b\\u614b\\u3002',\n",
       "  u'ytTitle': u'3-1 Array \\u771f\\u7684\\u70ab'},\n",
       " {'_id': u'YTV_7K3FR9ykha4',\n",
       "  'type': 'youtube',\n",
       "  'youtubeVideoId': u'7K3FR9ykha4',\n",
       "  u'ytDescription': u'\\u6211\\u5011\\u4ecb\\u7d39\\u5169\\u500b\\u6982\\u5ff5:\\n\\n1. while \\u8ff4\\u5708\\n2. \\u8b80\\u5165\\u4e00\\u500b\\u5957\\u4ef6',\n",
       "  u'ytTitle': u'2-5 While \\u548c\\u731c\\u6578\\u5b57\\u904a\\u6232'},\n",
       " {'_id': u'YTV_CweOErLahkE',\n",
       "  'type': 'youtube',\n",
       "  'youtubeVideoId': u'CweOErLahkE',\n",
       "  u'ytDescription': u'\\u7a0b\\u5f0f\\u4e2d\\u53e6\\u4e00\\u500b\\u91cd\\u8981\\u6982\\u5ff5, \\u689d\\u4ef6\\u5224\\u65b7\\u3002\\u6211\\u5011\\u5b78\\u6703\\u4e86\\u9019\\u500b, \\u5927\\u6982\\u7a0b\\u5f0f\\u7684\\u6982\\u5ff5\\u5c31\\u6709\\u4e86, \\u53ef\\u4ee5\\u5beb\\u4e0d\\u5c11\\u6709\\u8da3\\u7684\\u7a0b\\u5f0f\\u3002',\n",
       "  u'ytTitle': u'2-4 \\u689d\\u4ef6\\u5224\\u65b7'},\n",
       " {'_id': u'YTV_D8qec8PVAFQ',\n",
       "  'type': 'youtube',\n",
       "  'youtubeVideoId': u'D8qec8PVAFQ',\n",
       "  u'ytDescription': u'\\u6211\\u5011\\u5beb\\u500b\\u300c\\u591a\\u8b8a\\u6578\\u300d\\u7684\\u51fd\\u6578, \\u5728 IPython \\u4e2d\\u5b58\\u6a94\\u3002\\u5916\\u52a0\\u5b78\\u6703\\u600e\\u9ebc\\u505a\\u66f4\\u68d2\\u7684\\u986f\\u793a\\u63a7\\u5236\\u3002',\n",
       "  u'ytTitle': u'2-3 \\u7a0b\\u5f0f\\u7684\\u5b58\\u6a94'},\n",
       " {'_id': u'YTV_3ltvKycVRFs',\n",
       "  'type': 'youtube',\n",
       "  'youtubeVideoId': u'3ltvKycVRFs',\n",
       "  u'ytDescription': u'',\n",
       "  u'ytTitle': u'2-2 Python \\u51fd\\u6578\\u9019\\u6a23\\u5beb'},\n",
       " {'_id': u'YTV_MAd9kiPJ4nA',\n",
       "  'type': 'youtube',\n",
       "  'youtubeVideoId': u'MAd9kiPJ4nA',\n",
       "  u'ytDescription': u'Python \\u7684 hello world \\u7a0b\\u5f0f\\u9084\\u6709\\u5b57\\u4e32\\u7684\\u6982\\u5ff5\\u3002',\n",
       "  u'ytTitle': u'2-1 Hello, World (Python)'},\n",
       " {'_id': u'YTV_620807cPZMY',\n",
       "  'type': 'youtube',\n",
       "  'youtubeVideoId': u'620807cPZMY',\n",
       "  u'ytDescription': u'2015 \\u5e74 3 \\u6708 3 \\u65e5\\u5728\\u82b1\\u84ee.py \\u4ecb\\u7d39\\u7528 IPython Notebook \\u73a9\\u6578\\u64da\\u5206\\u6790\\u3002',\n",
       "  u'ytTitle': u'\\u82b1\\u84ee.py \\u7528 IPython \\u73a9\\u6578\\u64da\\u5206\\u6790'},\n",
       " {'_id': u'YTV_lKp_rMBWbZU',\n",
       "  'type': 'youtube',\n",
       "  'youtubeVideoId': u'lKp_rMBWbZU',\n",
       "  u'ytDescription': u'Python \\u7684\\u5b57\\u4e32\\u3002',\n",
       "  u'ytTitle': u'2-1 \\u5b57\\u4e32\\u662f\\u53e6\\u4e00\\u500b\\u4e3b\\u89d2'},\n",
       " {'_id': u'YTV_2OdLclmO_0Q',\n",
       "  'type': 'youtube',\n",
       "  'youtubeVideoId': u'2OdLclmO_0Q',\n",
       "  u'ytDescription': u'\\u4f86\\u7b97\\u4e00\\u52a0\\u5230\\u4e00\\u767e, \\u4e26\\u4e14\\u4ecb\\u7d39\\u65b9\\u4fbf\\u7684\\n\\nPython Tutor \\u7db2\\u7ad9\\nhttp://www.pythontutor.com/',\n",
       "  u'ytTitle': u'1-5 \\u4f86\\u7b97\\u7b97\\u4e00\\u52a0\\u5230\\u4e00\\u767e'},\n",
       " {'_id': u'YTV_v4sk2MSKK3M',\n",
       "  'type': 'youtube',\n",
       "  'youtubeVideoId': u'v4sk2MSKK3M',\n",
       "  u'ytDescription': u'Python for \\u8ff4\\u5708\\u7684\\u4ecb\\u7d39\\u3002',\n",
       "  u'ytTitle': u'1-4 Python \\u7684\\u8ff4\\u5708'},\n",
       " {'_id': u'YTV_K0PxXOk_deo',\n",
       "  'type': 'youtube',\n",
       "  'youtubeVideoId': u'K0PxXOk_deo',\n",
       "  u'ytDescription': u'\\u6211\\u5011\\u8981\\u5206\\u6790\\u7684\\u6771\\u897f, \\u901a\\u5e38\\u5c31\\u662f\\u7528 list \\u5b58\\u8d77\\u4f86!',\n",
       "  u'ytTitle': u'1-3 List \\u662f\\u57fa\\u672c\\u7684\\u8cc7\\u6599\\u7d50\\u69cb'},\n",
       " {'_id': u'YTV_uSHtQUXlpk4',\n",
       "  'type': 'youtube',\n",
       "  'youtubeVideoId': u'uSHtQUXlpk4',\n",
       "  u'ytDescription': u'\\u7528 Python \\u4f86\\u7576\\u8a08\\u7b97\\u6a5f, \\u7576\\u7136\\u53c8\\u7c21\\u55ae\\u53c8\\u5bb9\\u6613, \\u4f46\\u975e\\u5e38\\u5be6\\u7528\\u3002',\n",
       "  u'ytTitle': u'1-1 \\u6211\\u5bb6\\u7684 Python \\u662f\\u8a08\\u7b97\\u6a5f'},\n",
       " {'_id': u'YTV_tbpqDQzX_gg',\n",
       "  'type': 'youtube',\n",
       "  'youtubeVideoId': u'tbpqDQzX_gg',\n",
       "  u'ytDescription': u'Vim \\u7684\\u62f7\\u8c9d\\u662f\\u4e00\\u500b\\u5f88\\u7279\\u5225\\u7684\\u5b57\\u53eb yank\\u3002\\u6211\\u5011\\u53ef\\u4ee5\\u6309\\n\\nyy \\u62f7\\u8c9d\\u4e00\\u884c\\n\\n\\u4e5f\\u53ef\\u4ee5\\u52d5\\u7528\\u300e\\u9023\\u4f5c\\u6280\\u300f y$, y^, yw \\u7b49\\u7b49\\u3002\\n\\n\\u300e\\u6578\\u5b57\\u5927\\u6cd5\\u300f\\u5982 2yy \\u4e5f\\u53ef\\u4ee5\\u901a\\u7684\\u3002\\n\\n\\u8981\\u8cbc\\u4e0a\\u5c31\\u662f p, \\u6700\\u5f8c\\u5c31\\u662f\\u4e4b\\u524d\\u7684 d \\u5176\\u5be6\\u6bd4\\u8f03\\u50cf\\u6211\\u5011\\u73fe\\u4ee3\\u7684 cut!',\n",
       "  u'ytTitle': u'Vim \\u6559\\u5b78 03: \\u62f7\\u8c9d (yank) \\u548c\\u8cbc\\u4e0a'},\n",
       " {'_id': u'YTV_3hPo-Gk4IXQ',\n",
       "  'type': 'youtube',\n",
       "  'youtubeVideoId': u'3hPo-Gk4IXQ',\n",
       "  u'ytDescription': u'2014 \\u5e74 11 \\u6708 20 \\u65e5\\u5373\\u5c07\\u958b\\u8ab2\\u7684\\u5fae\\u7a4d\\u5206 MOOCs \\u7dda\\u4e0a\\u8ab2\\u7a0b, \\u4e0a\\u8ab2\\u65b9\\u5f0f\\u3001\\u898f\\u5b9a\\u7b49\\u7b49\\u8aaa\\u660e\\u3002\\u73fe\\u5728\\u5c31\\u53ef\\u4ee5\\u5831\\u540d\\u4e86\\u54e6!\\n\\n\\u8ab2\\u7a0b\\u7db2\\u5740:\\nhttp://www.ewant.org/admin/tool/mooccourse/mnetcourseinfo.php?hostid=4&id=17',\n",
       "  u'ytTitle': u'\\u653f\\u5927MOOCs \\u5fae\\u7a4d\\u5206\\u8ab2\\u7a0b\\u8aaa\\u660e'},\n",
       " {'_id': u'YTV_OHnrY3i6BM8',\n",
       "  'type': 'youtube',\n",
       "  'youtubeVideoId': u'OHnrY3i6BM8',\n",
       "  u'ytDescription': u'',\n",
       "  u'ytTitle': u'Vim \\u6559\\u5b78 02: \\u79fb\\u52d5\\u548c\\u522a\\u9664'},\n",
       " {'_id': u'YTV_d0gb7448xIA',\n",
       "  'type': 'youtube',\n",
       "  'youtubeVideoId': u'd0gb7448xIA',\n",
       "  u'ytDescription': u'Vim \\u6587\\u5b57\\u7de8\\u8f2f\\u5668\\u6700\\u57fa\\u672c\\u7684\\u4f7f\\u7528, \\u770b\\u5b8c\\u5c31\\u53ef\\u4ee5\\u958b\\u59cb\\u7de8\\u8f2f\\u7c21\\u55ae\\u6587\\u4ef6\\u3002',\n",
       "  u'ytTitle': u'Vim \\u6559\\u5b78 01: Vim \\u6975\\u901f\\u5165\\u9580'},\n",
       " {'_id': u'YTV_mKBcgmzjNiE',\n",
       "  'type': 'youtube',\n",
       "  'youtubeVideoId': u'mKBcgmzjNiE',\n",
       "  u'ytDescription': u'\\u9019\\u88e1\\u4ecb\\u7d39\\u600e\\u9ebc\\u751f\\u51fa\\u4e0d\\u662f\\u57fa\\u672c\\u5f62\\u72c0\\u7684\\u7269\\u4ef6, \\u9019\\u6703\\u662f\\u5c07\\u4f86\\u8b93 inkscape \\u597d\\u7528\\u7684\\u91cd\\u5927\\u57fa\\u790e\\u3002',\n",
       "  u'ytTitle': u'[Inkscape 02] \\u751f\\u51fa\\u7279\\u5225\\u5f62\\u72c0\\u7684\\u7269\\u4ef6'},\n",
       " {'_id': u'YTV_ZqU0KGxcNn0',\n",
       "  'type': 'youtube',\n",
       "  'youtubeVideoId': u'ZqU0KGxcNn0',\n",
       "  u'ytDescription': u'Inkscape \\u662f\\u514d\\u8cbb\\u7684\\u5411\\u91cf\\u756b\\u5716\\u8edf\\u9ad4, \\u975e\\u5e38\\u597d\\u73a9! \\u9019\\u88e1\\u4ee5\\u756b\\u7acb\\u9ad4\\u7403\\u4f86\\u5b78 Inkscape \\u57fa\\u672c\\u64cd\\u4f5c\\u3002',\n",
       "  u'ytTitle': u'[Inkscape 01] \\u5f9e 3D \\u756b\\u5716\\u4f86\\u5b78 Inkscape'},\n",
       " {'_id': u'YTV_xB7cC1MfFXE',\n",
       "  'type': 'youtube',\n",
       "  'youtubeVideoId': u'xB7cC1MfFXE',\n",
       "  u'ytDescription': u'\\u5411\\u91cf\\u7a7a\\u9593\\u6700\\u91cd\\u8981\\u7684\\u4e94\\u500b\\u4f8b\\u5b50!',\n",
       "  u'ytTitle': u'[\\u7dda\\u6027\\u4ee3\\u657802] \\u4e94\\u5927\\u5411\\u91cf\\u7a7a\\u9593'},\n",
       " {'_id': u'YTV_7RTR8thNx18',\n",
       "  'type': 'youtube',\n",
       "  'youtubeVideoId': u'7RTR8thNx18',\n",
       "  u'ytDescription': u'\\u5411\\u91cf\\u7a7a\\u9593\\u9019\\u516b\\u689d\\u5b9a\\u7fa9, \\u9ebb\\u7169\\u8981\\u62fc\\u6b7b\\u62fc\\u6d3b\\u8a18\\u8d77\\u4f86\\u3002\\u4e0d\\u9700\\u8981\\u6b7b\\u80cc, \\u5c31\\u60f3\\u60f3\\u5982\\u679c\\u662f\\u4f60\\u8981\\u63a8\\u5ee3\\u6211\\u5011\\u719f\\u6089\\u53ef\\u611b\\u7684\\u5411\\u91cf\\u7a7a\\u9593, \\u8981\\u7b26\\u5408\\u54ea\\u4e9b\\u6027\\u8cea\\u3002',\n",
       "  u'ytTitle': u'[\\u7dda\\u6027\\u4ee3\\u657801] \\u5411\\u91cf\\u7a7a\\u9593\\u7684\\u5b9a\\u7fa9'},\n",
       " {'_id': u'YTV_WB8hg6UZeY0',\n",
       "  'type': 'youtube',\n",
       "  'youtubeVideoId': u'WB8hg6UZeY0',\n",
       "  u'ytDescription': u'\\u7528 Anaconda \\u5e6b\\u4f60\\u88dd\\u597d\\u8a31\\u591a (\\u5c24\\u5176\\u662f\\u8cc7\\u6599\\u5206\\u6790\\u3001\\u79d1\\u5b78\\u8a08\\u7b97) \\u7684 Python \\u5957\\u4ef6, \\u5305\\u62ec\\u5f88\\u597d\\u7528\\u7684 IPython Notebook \\u754c\\u9762\\u3002\\n\\nhttp://continuum.io/downloads\\n\\nLinux, Mac, Windows \\u90fd\\u6709, \\u975e\\u5e38\\u65b9\\u4fbf\\u3002\\n\\n\\u9019\\u88e1\\u4ecb\\u7d39\\u5b89\\u88dd\\u65b9\\u5f0f\\u53ca IPython \\u57fa\\u672c\\u4f7f\\u7528\\u3001\\u6307\\u5b9a\\u8def\\u5f91\\u7684\\u65b9\\u5f0f\\u3002',\n",
       "  u'ytTitle': u'0-0 IPython \\u5b89\\u88dd\\u8207\\u57f7\\u884c (\\u4f7f\\u7528 Anaconda)'},\n",
       " {'_id': u'YTV_WbCN3rKJCz4',\n",
       "  'type': 'youtube',\n",
       "  'youtubeVideoId': u'WbCN3rKJCz4',\n",
       "  u'ytDescription': u'IPython \\u7528\\u9b54\\u8853\\u51fd\\u6578 %pylab inline \\u756b\\u5716\\u3002\\n\\n\\u4e8b\\u5be6\\u4e0a\\u662f\\u5728\\u8a66 iPad + Mac \\u7528 Doceri \\u9304\\u6559\\u5b78\\u5f71\\u7247\\u3002\\n\\nThis video screencast was created with Doceri on an iPad. Doceri is free in the iTunes app store. Learn more at http://www.doceri.com',\n",
       "  u'ytTitle': u'1-2 IPython \\u57fa\\u672c\\u756b\\u5716 %pylab inline'},\n",
       " {'_id': u'YTV_GlK2wlW2ih0',\n",
       "  'type': 'youtube',\n",
       "  'youtubeVideoId': u'GlK2wlW2ih0',\n",
       "  u'ytDescription': u'2014 \\u5e74\\u6210\\u5927\\u6578\\u5b78\\u3001\\u653f\\u5927\\u61c9\\u6578\\u806f\\u5408 \"Nano Data Anlysis with Python\", 9 \\u6708 4 \\u65e5\\u653f\\u5927\\u7b2c\\u56db\\u5834\\u76f4\\u64ad\\u5f71\\u7247\\u3002\\u4ecb\\u7d39 HTML \\u53ca GUI (Tkinter) \\u5165\\u9580\\u3002',\n",
       "  u'ytTitle': u'2014 Nano Data Anlysis with Python \\u653f\\u5927\\u5834 4'},\n",
       " {'_id': u'YTV_Lksm2NceLz0',\n",
       "  'type': 'youtube',\n",
       "  'youtubeVideoId': u'Lksm2NceLz0',\n",
       "  u'ytDescription': u'2014 \\u5e74\\u6210\\u5927\\u6578\\u5b78\\u3001\\u653f\\u5927\\u61c9\\u6578\\u806f\\u5408 \"Nano Data Anlysis with Python\", 9 \\u6708 3 \\u65e5\\u653f\\u5927\\u7b2c\\u4e09\\u5834\\u76f4\\u64ad\\u5f71\\u7247\\u3002\\n\\n\\u9019\\u6b21\\u4e3b\\u8981\\u4ecb\\u7d39\\u8cc7\\u6599\\u5206\\u6790\\u5f88\\u7d05\\u7684 Pandas \\u5957\\u4ef6! \\u6700\\u5f8c\\u9644\\u4e0a\\u89e3\\u91cb Matplotlib \\u8981\\u653e\\u5165\\u4e2d\\u6587\\u7684\\u65b9\\u6cd5\\u3002',\n",
       "  u'ytTitle': u'2014 Nano Data Anlysis with Python \\u653f\\u5927\\u5834 3'},\n",
       " {'_id': u'YTV_3MG9CHCCqDs',\n",
       "  'type': 'youtube',\n",
       "  'youtubeVideoId': u'3MG9CHCCqDs',\n",
       "  u'ytDescription': u'2014 \\u5e74\\u6210\\u5927\\u6578\\u5b78\\u3001\\u653f\\u5927\\u61c9\\u6578\\u806f\\u5408 \"Nano Data Anlysis with Python\", 9 \\u6708 2 \\u65e5\\u653f\\u5927\\u7b2c\\u4e00\\u5834\\u76f4\\u64ad\\u5f71\\u7247\\u3002\\u9019\\u6b21\\u6709\\u4ecb\\u7d39\\u5f88\\u65b9\\u4fbf\\u6709\\u8da3\\u7684 IPython 2.0 \\u65b0\\u7684 interact \\u529f\\u80fd\\u3002',\n",
       "  u'ytTitle': u'2014 Nano Data Anlysis with Python \\u653f\\u5927\\u5834 2'},\n",
       " {'_id': u'YTV_bNOYkAh5UXE',\n",
       "  'type': 'youtube',\n",
       "  'youtubeVideoId': u'bNOYkAh5UXE',\n",
       "  u'ytDescription': u'2014 \\u5e74\\u6210\\u5927\\u6578\\u5b78\\u3001\\u653f\\u5927\\u61c9\\u6578\\u806f\\u5408 \"Nano Data Anlysis with Python\", 9 \\u6708 1 \\u65e5\\u653f\\u5927\\u7b2c\\u4e00\\u5834\\u76f4\\u64ad\\u5f71\\u7247\\u3002\\u4ecb\\u7d39 IPython \\u57fa\\u672c\\u4f7f\\u7528, \\u53ca Python \\u57fa\\u672c\\u5165\\u9580\\u3002\\n\\n1. \\u6bd4\\u8a08\\u7b97\\u6a5f\\u597d\\u7528\\u7684 Python\\n2. \\u4e32\\u5217\\u662f\\u57fa\\u672c\\u7684\\u8cc7\\u6599\\u7d50\\u69cb\\n3. \\u5feb\\u901f\\u628a\\u8cc7\\u6599\\u5716\\u5f62\\u5316\\n4. Python \\u5b57\\u4e32\\u5f88\\u53b2\\u5bb3\\n5. (\\u7a0b\\u5f0f\\u8a2d\\u8a08) \\u51fd\\u6578\\u7684\\u6982\\u5ff5\\n6. \\u7528 IPython \\u4e00\\u908a\\u73a9\\u4e00\\u908a\\u628a\\u7a0b\\u5f0f\\u5beb\\u597d\\n7. IPython \\u5de5\\u4f5c\\u74b0\\u5883',\n",
       "  u'ytTitle': u'2014 Nano Data Anlysis with Python \\u653f\\u5927\\u5834 1'},\n",
       " {'_id': u'YTV_4b8oLwtyIX0',\n",
       "  'type': 'youtube',\n",
       "  'youtubeVideoId': u'4b8oLwtyIX0',\n",
       "  u'ytDescription': u\"\\u7d66\\u4efb\\u610f\\u76f4\\u7dda L, \\u653e\\u4e00\\u9ede P \\u5728\\u9019\\u76f4\\u7dda\\u4e0a\\u3002\\u627e\\u4e00\\u500b\\u4e8c\\u6b21\\u591a\\u9805\\u5f0f\\u51fd\\u6578, \\u904e P \\u9ede\\u4e14\\u5728 P \\u9ede\\u7684\\u5207\\u7dda\\u70ba L\\u3002\\n\\n\\u9019\\u88e1\\u6211\\u5011\\u53ea\\u5047\\u8a2d\\u6703\\u6c42\\u5c0e\\u6578 (\\u6703\\u66f4\\u9ad8\\u6280\\u5de7\\u7684\\u7576\\u7136\\u53ef\\u4ee5\\u505a\\u51fa\\u66f4\\u591a\\u6a23\\u7684\\u51fd\\u6578), \\u63d0\\u793a\\u662f\\u53ef\\u4ee5\\u5148\\u8a2d\\n\\nf(x) = ax^2 + bx + c\\n\\n\\u6211\\u5011\\u6703\\u6c42\\u5c0e\\u6578 f'(x), \\u7136\\u5f8c\\u60f3\\u8fa6\\u6cd5\\u6c42 a, b, c\\u3002c \\u5728\\u67d0\\u7a2e\\u7a0b\\u5ea6\\u53ef\\u4ee5\\u8b93\\u6211\\u5011\\u81ea\\u7531\\u8a2d\\u3002\",\n",
       "  u'ytTitle': u'GeoGebra \\u6311\\u6230 02: \\u6307\\u5b9a\\u5207\\u7dda\\u5207\\u9ede\\u7684\\u4e8c\\u6b21\\u51fd\\u6578'},\n",
       " {'_id': u'YTV_XAJBiEodiSQ',\n",
       "  'type': 'youtube',\n",
       "  'youtubeVideoId': u'XAJBiEodiSQ',\n",
       "  u'ytDescription': u'\\u5728 GeoGebra \\u88e1\\u53ef\\u4ee5\\u7528 floor(x) \\u756b\\u51fa\\u9ad8\\u65af\\u51fd\\u6578\\u3002\\u6211\\u5011\\u600e\\u9ebc\\u6a23\\u53ef\\u4ee5\\u7528\\u9019\\u500b\\u51fd\\u6578\\u3001\\u642d\\u914d\\u5176\\u4ed6\\u51fd\\u6578, \\u756b\\u51fa\\u66f4\\u6709\\u8da3\\u7684\\u4e0d\\u9023\\u7e8c\\u51fd\\u6578, \\u800c\\u4e14\\u53c8\\u53ef\\u4ee5\\u8abf\\u6574\\u4e00\\u500b\\u6578\\u503c\\u6ed1\\u687f\\u5c31\\u628a\\u5b83\\u63a5\\u56de\\u4f86\\u5462?',\n",
       "  u'ytTitle': u'GeoGebra \\u6311\\u6230 01: \\u63a5\\u8d77\\u65b7\\u6389\\u7684\\u51fd\\u6578'},\n",
       " {'_id': u'YTV_6FjpScjBxkg',\n",
       "  'type': 'youtube',\n",
       "  'youtubeVideoId': u'6FjpScjBxkg',\n",
       "  u'ytDescription': u'\\u9019\\u88e1\\u4ecb\\u7d39\\u5169\\u7a2e\\u6578\\u503c\\u6ed1\\u687f\\u7684\\u4f5c\\u6cd5, \\u4e26\\u4e14\\u4ecb\\u7d39\\u600e\\u9ebc\\u7528\\u6578\\u503c\\u6ed1\\u687f\\u4f86\\u505a\\u7c21\\u55ae\\u52d5\\u756b\\u3002',\n",
       "  u'ytTitle': u'GeoGebra \\u7c21\\u4ecb 2: \\u6578\\u503c\\u6ed1\\u687f\\u8207\\u7c21\\u55ae\\u52d5\\u756b'},\n",
       " {'_id': u'YTV_8MKD-3b5koo',\n",
       "  'type': 'youtube',\n",
       "  'youtubeVideoId': u'8MKD-3b5koo',\n",
       "  u'ytDescription': u'GeoGebra \\u7c21\\u4ecb, \\u4ecb\\u7d39\\u57fa\\u672c\\u51fd\\u6578\\u7e6a\\u5716\\u3001\\u7c21\\u55ae\\u52d5\\u756b\\u529f\\u80fd\\u3002',\n",
       "  u'ytTitle': u'GeoGebra \\u7c21\\u4ecb 1: \\u57fa\\u672c\\u51fd\\u6578\\u7e6a\\u5716'}]"
      ]
     },
     "execution_count": 23,
     "metadata": {},
     "output_type": "execute_result"
    }
   ],
   "source": [
    "video_data_df.to_dict(orient=\"records\")#video_data_df.to_dict(**kwargs)"
   ]
  },
  {
   "cell_type": "markdown",
   "metadata": {},
   "source": [
    "##<b style=\"color:##FF2222\"> 出現error!!!</b>\n",
    "#開始嘗試"
   ]
  },
  {
   "cell_type": "code",
   "execution_count": 24,
   "metadata": {
    "collapsed": false
   },
   "outputs": [
    {
     "ename": "DuplicateKeyError",
     "evalue": "E11000 duplicate key error index: agilearning.learningResources.$_id_ dup key: { : \"YTV__oXvbxFP2oI\" }",
     "output_type": "error",
     "traceback": [
      "\u001b[0;31m---------------------------------------------------------------------------\u001b[0m",
      "\u001b[0;31mDuplicateKeyError\u001b[0m                         Traceback (most recent call last)",
      "\u001b[0;32m<ipython-input-24-a5127362795d>\u001b[0m in \u001b[0;36m<module>\u001b[0;34m()\u001b[0m\n\u001b[0;32m----> 1\u001b[0;31m \u001b[0mlearning_resources_collection\u001b[0m\u001b[0;34m.\u001b[0m\u001b[0minsert\u001b[0m\u001b[0;34m(\u001b[0m\u001b[0mvideo_data_df\u001b[0m\u001b[0;34m.\u001b[0m\u001b[0mto_dict\u001b[0m\u001b[0;34m(\u001b[0m\u001b[0morient\u001b[0m\u001b[0;34m=\u001b[0m\u001b[0;34m\"records\"\u001b[0m\u001b[0;34m)\u001b[0m\u001b[0;34m)\u001b[0m\u001b[0;31m#原文\u001b[0m\u001b[0;34m\u001b[0m\u001b[0m\n\u001b[0m",
      "\u001b[0;32m/Users/annie/anaconda/lib/python2.7/site-packages/pymongo/collection.pyc\u001b[0m in \u001b[0;36minsert\u001b[0;34m(self, doc_or_docs, manipulate, safe, check_keys, continue_on_error, **kwargs)\u001b[0m\n\u001b[1;32m    408\u001b[0m                     \u001b[0mself\u001b[0m\u001b[0;34m.\u001b[0m\u001b[0mdatabase\u001b[0m\u001b[0;34m.\u001b[0m\u001b[0mname\u001b[0m \u001b[0;34m+\u001b[0m \u001b[0;34m\".$cmd\"\u001b[0m\u001b[0;34m,\u001b[0m \u001b[0m_INSERT\u001b[0m\u001b[0;34m,\u001b[0m \u001b[0mcommand\u001b[0m\u001b[0;34m,\u001b[0m\u001b[0;34m\u001b[0m\u001b[0m\n\u001b[1;32m    409\u001b[0m                     gen(), check_keys, self.uuid_subtype, client)\n\u001b[0;32m--> 410\u001b[0;31m             \u001b[0m_check_write_command_response\u001b[0m\u001b[0;34m(\u001b[0m\u001b[0mresults\u001b[0m\u001b[0;34m)\u001b[0m\u001b[0;34m\u001b[0m\u001b[0m\n\u001b[0m\u001b[1;32m    411\u001b[0m         \u001b[0;32melse\u001b[0m\u001b[0;34m:\u001b[0m\u001b[0;34m\u001b[0m\u001b[0m\n\u001b[1;32m    412\u001b[0m             \u001b[0;31m# Legacy batched OP_INSERT\u001b[0m\u001b[0;34m\u001b[0m\u001b[0;34m\u001b[0m\u001b[0m\n",
      "\u001b[0;32m/Users/annie/anaconda/lib/python2.7/site-packages/pymongo/helpers.pyc\u001b[0m in \u001b[0;36m_check_write_command_response\u001b[0;34m(results)\u001b[0m\n\u001b[1;32m    196\u001b[0m             \u001b[0merror\u001b[0m\u001b[0;34m[\u001b[0m\u001b[0;34m\"index\"\u001b[0m\u001b[0;34m]\u001b[0m \u001b[0;34m+=\u001b[0m \u001b[0moffset\u001b[0m\u001b[0;34m\u001b[0m\u001b[0m\n\u001b[1;32m    197\u001b[0m             \u001b[0;32mif\u001b[0m \u001b[0merror\u001b[0m\u001b[0;34m.\u001b[0m\u001b[0mget\u001b[0m\u001b[0;34m(\u001b[0m\u001b[0;34m\"code\"\u001b[0m\u001b[0;34m)\u001b[0m \u001b[0;34m==\u001b[0m \u001b[0;36m11000\u001b[0m\u001b[0;34m:\u001b[0m\u001b[0;34m\u001b[0m\u001b[0m\n\u001b[0;32m--> 198\u001b[0;31m                 \u001b[0;32mraise\u001b[0m \u001b[0mDuplicateKeyError\u001b[0m\u001b[0;34m(\u001b[0m\u001b[0merror\u001b[0m\u001b[0;34m.\u001b[0m\u001b[0mget\u001b[0m\u001b[0;34m(\u001b[0m\u001b[0;34m\"errmsg\"\u001b[0m\u001b[0;34m)\u001b[0m\u001b[0;34m,\u001b[0m \u001b[0;36m11000\u001b[0m\u001b[0;34m,\u001b[0m \u001b[0merror\u001b[0m\u001b[0;34m)\u001b[0m\u001b[0;34m\u001b[0m\u001b[0m\n\u001b[0m\u001b[1;32m    199\u001b[0m         \u001b[0;32melse\u001b[0m\u001b[0;34m:\u001b[0m\u001b[0;34m\u001b[0m\u001b[0m\n\u001b[1;32m    200\u001b[0m             \u001b[0merror\u001b[0m \u001b[0;34m=\u001b[0m \u001b[0mresult\u001b[0m\u001b[0;34m[\u001b[0m\u001b[0;34m\"writeConcernError\"\u001b[0m\u001b[0;34m]\u001b[0m\u001b[0;34m\u001b[0m\u001b[0m\n",
      "\u001b[0;31mDuplicateKeyError\u001b[0m: E11000 duplicate key error index: agilearning.learningResources.$_id_ dup key: { : \"YTV__oXvbxFP2oI\" }"
     ]
    }
   ],
   "source": [
    "learning_resources_collection.insert(video_data_df.to_dict(orient=\"records\"))#原文"
   ]
  },
  {
   "cell_type": "code",
   "execution_count": 25,
   "metadata": {
    "collapsed": false
   },
   "outputs": [
    {
     "ename": "TypeError",
     "evalue": "'unicode' object does not support item assignment",
     "output_type": "error",
     "traceback": [
      "\u001b[0;31m---------------------------------------------------------------------------\u001b[0m",
      "\u001b[0;31mTypeError\u001b[0m                                 Traceback (most recent call last)",
      "\u001b[0;32m<ipython-input-25-2191e94f17e4>\u001b[0m in \u001b[0;36m<module>\u001b[0;34m()\u001b[0m\n\u001b[0;32m----> 1\u001b[0;31m \u001b[0mlearning_resources_collection\u001b[0m\u001b[0;34m.\u001b[0m\u001b[0minsert\u001b[0m\u001b[0;34m(\u001b[0m\u001b[0mvideo_data_df\u001b[0m\u001b[0;34m)\u001b[0m\u001b[0;34m.\u001b[0m\u001b[0minserted_id\u001b[0m\u001b[0;31m#在第7行，把存的路徑弄好了\u001b[0m\u001b[0;34m\u001b[0m\u001b[0m\n\u001b[0m",
      "\u001b[0;32m/Users/annie/anaconda/lib/python2.7/site-packages/pymongo/collection.pyc\u001b[0m in \u001b[0;36minsert\u001b[0;34m(self, doc_or_docs, manipulate, safe, check_keys, continue_on_error, **kwargs)\u001b[0m\n\u001b[1;32m    407\u001b[0m             results = message._do_batched_write_command(\n\u001b[1;32m    408\u001b[0m                     \u001b[0mself\u001b[0m\u001b[0;34m.\u001b[0m\u001b[0mdatabase\u001b[0m\u001b[0;34m.\u001b[0m\u001b[0mname\u001b[0m \u001b[0;34m+\u001b[0m \u001b[0;34m\".$cmd\"\u001b[0m\u001b[0;34m,\u001b[0m \u001b[0m_INSERT\u001b[0m\u001b[0;34m,\u001b[0m \u001b[0mcommand\u001b[0m\u001b[0;34m,\u001b[0m\u001b[0;34m\u001b[0m\u001b[0m\n\u001b[0;32m--> 409\u001b[0;31m                     gen(), check_keys, self.uuid_subtype, client)\n\u001b[0m\u001b[1;32m    410\u001b[0m             \u001b[0m_check_write_command_response\u001b[0m\u001b[0;34m(\u001b[0m\u001b[0mresults\u001b[0m\u001b[0;34m)\u001b[0m\u001b[0;34m\u001b[0m\u001b[0m\n\u001b[1;32m    411\u001b[0m         \u001b[0;32melse\u001b[0m\u001b[0;34m:\u001b[0m\u001b[0;34m\u001b[0m\u001b[0m\n",
      "\u001b[0;32m/Users/annie/anaconda/lib/python2.7/site-packages/pymongo/collection.pyc\u001b[0m in \u001b[0;36mgen\u001b[0;34m()\u001b[0m\n\u001b[1;32m    384\u001b[0m                     \u001b[0mdoc\u001b[0m \u001b[0;34m=\u001b[0m \u001b[0mdb\u001b[0m\u001b[0;34m.\u001b[0m\u001b[0m_apply_incoming_manipulators\u001b[0m\u001b[0;34m(\u001b[0m\u001b[0mdoc\u001b[0m\u001b[0;34m,\u001b[0m \u001b[0mself\u001b[0m\u001b[0;34m)\u001b[0m\u001b[0;34m\u001b[0m\u001b[0m\n\u001b[1;32m    385\u001b[0m                     \u001b[0;32mif\u001b[0m \u001b[0;34m'_id'\u001b[0m \u001b[0;32mnot\u001b[0m \u001b[0;32min\u001b[0m \u001b[0mdoc\u001b[0m\u001b[0;34m:\u001b[0m\u001b[0;34m\u001b[0m\u001b[0m\n\u001b[0;32m--> 386\u001b[0;31m                         \u001b[0mdoc\u001b[0m\u001b[0;34m[\u001b[0m\u001b[0;34m'_id'\u001b[0m\u001b[0;34m]\u001b[0m \u001b[0;34m=\u001b[0m \u001b[0mObjectId\u001b[0m\u001b[0;34m(\u001b[0m\u001b[0;34m)\u001b[0m\u001b[0;34m\u001b[0m\u001b[0m\n\u001b[0m\u001b[1;32m    387\u001b[0m \u001b[0;34m\u001b[0m\u001b[0m\n\u001b[1;32m    388\u001b[0m                     \u001b[0mdoc\u001b[0m \u001b[0;34m=\u001b[0m \u001b[0mdb\u001b[0m\u001b[0;34m.\u001b[0m\u001b[0m_apply_incoming_copying_manipulators\u001b[0m\u001b[0;34m(\u001b[0m\u001b[0mdoc\u001b[0m\u001b[0;34m,\u001b[0m \u001b[0mself\u001b[0m\u001b[0;34m)\u001b[0m\u001b[0;34m\u001b[0m\u001b[0m\n",
      "\u001b[0;31mTypeError\u001b[0m: 'unicode' object does not support item assignment"
     ]
    }
   ],
   "source": [
    "learning_resources_collection.insert(video_data_df).inserted_id#在第7行，把存的路徑弄好了"
   ]
  },
  {
   "cell_type": "code",
   "execution_count": 26,
   "metadata": {
    "collapsed": false
   },
   "outputs": [
    {
     "ename": "DuplicateKeyError",
     "evalue": "E11000 duplicate key error index: agilearning.learningResources.$_id_ dup key: { : \"YTV__oXvbxFP2oI\" }",
     "output_type": "error",
     "traceback": [
      "\u001b[0;31m---------------------------------------------------------------------------\u001b[0m",
      "\u001b[0;31mDuplicateKeyError\u001b[0m                         Traceback (most recent call last)",
      "\u001b[0;32m<ipython-input-26-4dd18d539cda>\u001b[0m in \u001b[0;36m<module>\u001b[0;34m()\u001b[0m\n\u001b[0;32m----> 1\u001b[0;31m \u001b[0mlearning_resources_collection\u001b[0m\u001b[0;34m.\u001b[0m\u001b[0minsert\u001b[0m\u001b[0;34m(\u001b[0m\u001b[0mvideo_data_df\u001b[0m\u001b[0;34m.\u001b[0m\u001b[0mto_dict\u001b[0m\u001b[0;34m(\u001b[0m\u001b[0morient\u001b[0m\u001b[0;34m=\u001b[0m\u001b[0;34m\"records\"\u001b[0m\u001b[0;34m)\u001b[0m\u001b[0;34m)\u001b[0m\u001b[0;34m.\u001b[0m\u001b[0minserted_ids\u001b[0m \u001b[0;31m#在第7行，把存的路徑弄好了\u001b[0m\u001b[0;34m\u001b[0m\u001b[0m\n\u001b[0m",
      "\u001b[0;32m/Users/annie/anaconda/lib/python2.7/site-packages/pymongo/collection.pyc\u001b[0m in \u001b[0;36minsert\u001b[0;34m(self, doc_or_docs, manipulate, safe, check_keys, continue_on_error, **kwargs)\u001b[0m\n\u001b[1;32m    408\u001b[0m                     \u001b[0mself\u001b[0m\u001b[0;34m.\u001b[0m\u001b[0mdatabase\u001b[0m\u001b[0;34m.\u001b[0m\u001b[0mname\u001b[0m \u001b[0;34m+\u001b[0m \u001b[0;34m\".$cmd\"\u001b[0m\u001b[0;34m,\u001b[0m \u001b[0m_INSERT\u001b[0m\u001b[0;34m,\u001b[0m \u001b[0mcommand\u001b[0m\u001b[0;34m,\u001b[0m\u001b[0;34m\u001b[0m\u001b[0m\n\u001b[1;32m    409\u001b[0m                     gen(), check_keys, self.uuid_subtype, client)\n\u001b[0;32m--> 410\u001b[0;31m             \u001b[0m_check_write_command_response\u001b[0m\u001b[0;34m(\u001b[0m\u001b[0mresults\u001b[0m\u001b[0;34m)\u001b[0m\u001b[0;34m\u001b[0m\u001b[0m\n\u001b[0m\u001b[1;32m    411\u001b[0m         \u001b[0;32melse\u001b[0m\u001b[0;34m:\u001b[0m\u001b[0;34m\u001b[0m\u001b[0m\n\u001b[1;32m    412\u001b[0m             \u001b[0;31m# Legacy batched OP_INSERT\u001b[0m\u001b[0;34m\u001b[0m\u001b[0;34m\u001b[0m\u001b[0m\n",
      "\u001b[0;32m/Users/annie/anaconda/lib/python2.7/site-packages/pymongo/helpers.pyc\u001b[0m in \u001b[0;36m_check_write_command_response\u001b[0;34m(results)\u001b[0m\n\u001b[1;32m    196\u001b[0m             \u001b[0merror\u001b[0m\u001b[0;34m[\u001b[0m\u001b[0;34m\"index\"\u001b[0m\u001b[0;34m]\u001b[0m \u001b[0;34m+=\u001b[0m \u001b[0moffset\u001b[0m\u001b[0;34m\u001b[0m\u001b[0m\n\u001b[1;32m    197\u001b[0m             \u001b[0;32mif\u001b[0m \u001b[0merror\u001b[0m\u001b[0;34m.\u001b[0m\u001b[0mget\u001b[0m\u001b[0;34m(\u001b[0m\u001b[0;34m\"code\"\u001b[0m\u001b[0;34m)\u001b[0m \u001b[0;34m==\u001b[0m \u001b[0;36m11000\u001b[0m\u001b[0;34m:\u001b[0m\u001b[0;34m\u001b[0m\u001b[0m\n\u001b[0;32m--> 198\u001b[0;31m                 \u001b[0;32mraise\u001b[0m \u001b[0mDuplicateKeyError\u001b[0m\u001b[0;34m(\u001b[0m\u001b[0merror\u001b[0m\u001b[0;34m.\u001b[0m\u001b[0mget\u001b[0m\u001b[0;34m(\u001b[0m\u001b[0;34m\"errmsg\"\u001b[0m\u001b[0;34m)\u001b[0m\u001b[0;34m,\u001b[0m \u001b[0;36m11000\u001b[0m\u001b[0;34m,\u001b[0m \u001b[0merror\u001b[0m\u001b[0;34m)\u001b[0m\u001b[0;34m\u001b[0m\u001b[0m\n\u001b[0m\u001b[1;32m    199\u001b[0m         \u001b[0;32melse\u001b[0m\u001b[0;34m:\u001b[0m\u001b[0;34m\u001b[0m\u001b[0m\n\u001b[1;32m    200\u001b[0m             \u001b[0merror\u001b[0m \u001b[0;34m=\u001b[0m \u001b[0mresult\u001b[0m\u001b[0;34m[\u001b[0m\u001b[0;34m\"writeConcernError\"\u001b[0m\u001b[0;34m]\u001b[0m\u001b[0;34m\u001b[0m\u001b[0m\n",
      "\u001b[0;31mDuplicateKeyError\u001b[0m: E11000 duplicate key error index: agilearning.learningResources.$_id_ dup key: { : \"YTV__oXvbxFP2oI\" }"
     ]
    }
   ],
   "source": [
    "learning_resources_collection.insert(video_data_df.to_dict(orient=\"records\")).inserted_ids #在第7行，把存的路徑弄好了"
   ]
  },
  {
   "cell_type": "code",
   "execution_count": 27,
   "metadata": {
    "collapsed": false
   },
   "outputs": [
    {
     "data": {
      "text/plain": [
       "<pymongo.cursor.Cursor at 0x106bc3e50>"
      ]
     },
     "execution_count": 27,
     "metadata": {},
     "output_type": "execute_result"
    }
   ],
   "source": [
    "learning_resources_collection.find()"
   ]
  },
  {
   "cell_type": "code",
   "execution_count": 28,
   "metadata": {
    "collapsed": false
   },
   "outputs": [
    {
     "data": {
      "text/plain": [
       "575"
      ]
     },
     "execution_count": 28,
     "metadata": {},
     "output_type": "execute_result"
    }
   ],
   "source": [
    "learning_resources_collection.count()#目前數量"
   ]
  },
  {
   "cell_type": "code",
   "execution_count": 29,
   "metadata": {
    "collapsed": false
   },
   "outputs": [
    {
     "name": "stdout",
     "output_type": "stream",
     "text": [
      "YTV_ayFu8KKJR2A\n",
      "YTV_7K3FR9ykha4\n",
      "YTV_CweOErLahkE\n",
      "YTV_D8qec8PVAFQ\n",
      "YTV_3ltvKycVRFs\n",
      "YTV_MAd9kiPJ4nA\n",
      "YTV_620807cPZMY\n",
      "YTV_lKp_rMBWbZU\n",
      "YTV_2OdLclmO_0Q\n",
      "YTV_v4sk2MSKK3M\n",
      "YTV_K0PxXOk_deo\n",
      "YTV_uSHtQUXlpk4\n",
      "YTV_tbpqDQzX_gg\n",
      "YTV_3hPo-Gk4IXQ\n",
      "YTV_OHnrY3i6BM8\n",
      "YTV_d0gb7448xIA\n",
      "YTV_mKBcgmzjNiE\n",
      "YTV_ZqU0KGxcNn0\n",
      "YTV_xB7cC1MfFXE\n",
      "YTV_7RTR8thNx18\n",
      "YTV_WB8hg6UZeY0\n",
      "YTV_WbCN3rKJCz4\n",
      "YTV_GlK2wlW2ih0\n",
      "YTV_Lksm2NceLz0\n",
      "YTV_3MG9CHCCqDs\n",
      "YTV_bNOYkAh5UXE\n",
      "YTV_4b8oLwtyIX0\n",
      "YTV_XAJBiEodiSQ\n",
      "YTV_6FjpScjBxkg\n",
      "YTV_8MKD-3b5koo\n",
      "YTV_NqXyh1rOy-s\n",
      "YTV_vriBje-D2yU\n",
      "YTV_g_g4Gfc4dD0\n",
      "YTV_N13zkgTCu0g\n",
      "YTV_V6r-Z3l4bc8\n",
      "YTV_1XEb2hMDFMs\n",
      "YTV_CdMzHLrmpi8\n",
      "YTV_qUEB1EVsDes\n",
      "YTV_yCMFT8WAs68\n",
      "YTV_yFHRogfk8iA\n",
      "YTV_ka7Ttj8s0qQ\n",
      "YTV_O5J-OSY0biY\n",
      "YTV_oZC13D7dTCQ\n",
      "YTV_mzq9b7K8ox8\n",
      "YTV_lXfI7dB9hxo\n",
      "YTV_3BzZUcqxLxA\n",
      "YTV_ytNOa9y2wCY\n",
      "YTV__lmZODWPwpE\n",
      "YTV_Iu_kmUdbL68\n",
      "YTV_2gViPZE81rE\n",
      "YTV_5_c0NbbiqWo\n",
      "YTV_WQPtQczOOTM\n",
      "YTV__UmJAb0Sohs\n",
      "YTV_OJ374zHypCI\n",
      "YTV_fEx9CXCIWqI\n",
      "YTV_UqQMGpfL0A0\n",
      "YTV_UKoANiVkP-Y\n",
      "YTV_J_c9Vkei1lM\n",
      "YTV_lPmA4ju55W4\n",
      "YTV_sz_v0nVUbkw\n",
      "YTV_Lqgv44srexg\n",
      "YTV_paSYy3e5d3o\n",
      "YTV_6INsy5yWWWQ\n",
      "YTV_ReP6k8xfKug\n",
      "YTV_IamsdEaki_s\n",
      "YTV_0LzlBE1gcEg\n",
      "YTV_DIn_8H-igyA\n",
      "YTV_8FAbiOm1pr4\n",
      "YTV_HcfHOc2VsSY\n",
      "YTV_wsHwgIObhUQ\n",
      "YTV_xG0yHGaDefI\n",
      "YTV_s5XVdiCtPMg\n",
      "YTV_7OLJYsbwdhQ\n",
      "YTV__C1J4VLZfk0\n",
      "YTV_29G1rq2Km4o\n",
      "YTV_49Un4tUN5eE\n",
      "YTV_4E86oNL6DfU\n",
      "YTV_pt6qZzvTqmQ\n",
      "YTV_i6ztCX5tQ_w\n",
      "YTV_e91F30fzsYI\n",
      "YTV_Yf4nHABzYWs\n",
      "YTV_3vtTq7pf4ig\n",
      "YTV_HdFcSqqveQI\n",
      "YTV_yRCRK8HaXEM\n",
      "YTV_adjucZLJhAY\n",
      "YTV_FpoXlxxtkTA\n",
      "YTV_LZB1tNeMPnk\n",
      "YTV_NKJDkh9jj_w\n",
      "YTV_X4TMWez0twc\n",
      "YTV_m627xXko7KY\n",
      "YTV_mEa-RO4ZQfM\n",
      "YTV_4lUpYrxx6uQ\n",
      "YTV_xgPpr_f7yPY\n",
      "YTV_PcoYykxHtj0\n",
      "YTV_dubsAiZM1Bk\n",
      "YTV_ukotx7OsQSI\n",
      "YTV_MR7x6EbkxpM\n",
      "YTV__TZyfT7w-QE\n",
      "YTV_jazLR3ub_JE\n",
      "YTV_fX_IHLwjwac\n",
      "YTV_yD4PTVJ5h0A\n",
      "YTV_VnrWtWH1SSI\n",
      "YTV_QRiEeP056_M\n",
      "YTV_knUMjsGaL4s\n",
      "YTV_ecGS8Vp1eOQ\n",
      "YTV_vGIEaXda478\n",
      "YTV_0WAk8wmePHg\n",
      "YTV_k_JkIvvaEto\n",
      "YTV_dcEEytSFuYA\n",
      "YTV_THHCf-8Tn70\n",
      "YTV_tQXes16dF3A\n",
      "YTV_MeDDZN_F7jY\n",
      "YTV_pgbJikLzd48\n",
      "YTV_gcm03k30riw\n",
      "YTV_XwPhk-2h9hM\n",
      "YTV_2kOvXp-oLlw\n",
      "YTV_2ghr-Upe204\n",
      "YTV_ePXXanVDOWQ\n",
      "YTV_KJ2OxYm2pSU\n",
      "YTV_h6yBERjyJfg\n",
      "YTV_ywlmpPtgpmE\n",
      "YTV_jGOYK-kkNEY\n",
      "YTV_11kg1O2QBu0\n",
      "YTV_naWuQcNa6Sk\n",
      "YTV_ahUakmQvAzw\n",
      "YTV_ebT31hn61xY\n",
      "YTV_whJEOwX4LG0\n",
      "YTV_vmIHge8JSXg\n",
      "YTV_HR78GAa78F4\n",
      "YTV_9K3B3OYMtjY\n",
      "YTV_vEJP-JtAxdg\n",
      "YTV_LZbuT0ZU5fU\n",
      "YTV_BulMSq0cqVM\n",
      "YTV_h6bGezvduHA\n",
      "YTV_CLq8MlK3oo0\n",
      "YTV_A1IIcZW5UrI\n",
      "YTV_OCQU6M4pPiw\n",
      "YTV_jInpdE11ib0\n",
      "YTV_S4qZjEYlgqg\n",
      "YTV_GG2UFrmdtH4\n",
      "YTV_I_7GPwEf_Uo\n",
      "YTV_enPPMHr5SrM\n",
      "YTV_IgarFR6tToE\n",
      "YTV_ARZ-fg4uWxk\n",
      "YTV_FsOHPGUIDZU\n",
      "YTV_eWw62oNpjUg\n",
      "YTV_uyGR-JRrALQ\n",
      "YTV_yVu7YOAN1xg\n",
      "YTV_yW4Df1kpJ-c\n",
      "YTV_w9gpNTAqj8E\n",
      "YTV_VwN0bp8WkPg\n",
      "YTV_6stJYmWBa24\n",
      "YTV_TcMao3r6jYY\n",
      "YTV_75LZeXbYnCc\n",
      "YTV_P6oKwTKpvsc\n",
      "YTV_NVzkDQNpU7w\n",
      "YTV_XygRPFNYWDE\n",
      "YTV_LDogTWfkqyw\n",
      "YTV__x6vY_TqImM\n",
      "YTV_TR5JdlA1RT4\n",
      "YTV_yXPqNUjU-1Q\n",
      "YTV_KfA5viROyPw\n",
      "YTV_JKMrj5ONxw8\n",
      "YTV_ZI8OaPt5Au8\n",
      "YTV_iilby-vVbv0\n",
      "YTV_ZzNWU51l3M4\n",
      "YTV_XxFt-T-So5M\n",
      "YTV_gMmUFIHgm94\n",
      "YTV_o18CcTt1sa8\n",
      "YTV_ixEz4GpTP5g\n",
      "YTV_a_6qdxe17fU\n",
      "YTV__BheAJ3Gy44\n",
      "YTV_m1vtPESsFqM\n",
      "YTV_tfKIjixV8O4\n",
      "YTV_JLu8AeR_IMI\n",
      "YTV_1RWNvFHM58Q\n",
      "YTV_rfY5rW3y6s8\n",
      "YTV_qwG3e_wjbZ4\n",
      "YTV_-NaWINMSHo0\n",
      "YTV_KlCVciljCgA\n",
      "YTV_uKJY1RbDQCg\n",
      "YTV_joGc5w2YGeY\n",
      "YTV_95ru_wlm37c\n",
      "YTV_HB-xm8zX8WA\n",
      "YTV_DnZBzkYNL80\n",
      "YTV_-yvTpWn9kfY\n",
      "YTV_PKjXg7HhqLI\n",
      "YTV_RFh15iW4Dw0\n",
      "YTV_2iCdK7OVWb4\n",
      "YTV_HV_mujE5eLg\n",
      "YTV_q65UWulvtxE\n",
      "YTV_CTJVsuw-5RM\n",
      "YTV_mpSN6QNyckg\n",
      "YTV_a_spyQnaNMk\n",
      "YTV_BM4beIa5NlA\n",
      "YTV_1y9tucaKnd0\n",
      "YTV_n3rnH2GgLgw\n",
      "YTV_IJAjQkq9ZJ0\n",
      "YTV_vteHJEJuNcQ\n",
      "YTV_PCZsCPUGF70\n",
      "YTV_JofyyyJGnZw\n",
      "YTV_o6lEkGOlxHM\n",
      "YTV_8qLq7Vgx2AM\n",
      "YTV_5y9bEEgnWeI\n",
      "YTV_wQZ0GoWa7po\n",
      "YTV_KZ7iNkH86UU\n",
      "YTV_YkyC39Iu7jI\n",
      "YTV_Ymy06ldXT0g\n",
      "YTV_w34FWUdC3mo\n",
      "YTV_aRyJV9uqWy8\n",
      "YTV_D4cVhrdqfvs\n",
      "YTV_BLmyeXM9zow\n",
      "YTV_03a9H59GnVE\n",
      "YTV_vyQkQ9mheYg\n",
      "YTV_sO6dROX9oaE\n",
      "YTV_hwKH5gRV9Dw\n",
      "YTV_W-eObwKd8tA\n",
      "YTV_Z3hbC8SsN98\n",
      "YTV_mcR_DNe2Avw\n",
      "YTV_lKQJ_wfzJPI\n",
      "YTV_0alC7Vv4HTg\n",
      "YTV_qZS3VksDI4g\n",
      "YTV_TaXlqAmTZdg\n",
      "YTV_d7ldgo6YOOQ\n",
      "YTV__xtPanK8gvE\n",
      "YTV_Yxz_J80f4Wo\n",
      "YTV__VaR0t2TegU\n",
      "YTV_eR37K7Xr3m4\n",
      "YTV_L3lEjth1LsY\n",
      "YTV_50V0-Cuzqts\n",
      "YTV_QKSK4vL-IXc\n",
      "YTV_FmY58oRKhZ4\n",
      "YTV_ruka_EoyQMM\n",
      "YTV_HelX7crZE6I\n",
      "YTV_G-M_4MVXcTU\n",
      "YTV_wpSbtRFf3tw\n",
      "YTV_T0uH1VJkefY\n",
      "YTV_Snf6eDriw0w\n",
      "YTV_cSEC1IBv-kE\n",
      "YTV_pZqZCP9ltlY\n",
      "YTV_8vJ_goo8LjY\n",
      "YTV_XL_kKQH3Quk\n",
      "YTV_peJLt-y9qUU\n",
      "YTV_l-Z1esZg_cE\n",
      "YTV_UJI6MSCgefo\n",
      "YTV_NAsgAbMujXo\n",
      "YTV_vCJleLUWjsQ\n",
      "YTV_UfQotnqM7N8\n",
      "YTV_3aBoZLDnHK8\n",
      "YTV_BzDRciEAHj4\n",
      "YTV_sWvx8bi5Tsg\n",
      "YTV_0lKKAMX11qI\n",
      "YTV_xP-u3TpOEKk\n",
      "YTV_Sr6JLjgX_30\n",
      "YTV_MI_Qlc-mjy0\n",
      "YTV_P3Xm_JFmh04\n",
      "YTV_UYe8O1Big6Y\n",
      "YTV_F0odRfIBqZI\n",
      "YTV_qmtgeaajcew\n",
      "YTV_6WRRhur3o4Q\n",
      "YTV_rxH8yl1O0Y8\n",
      "YTV_9ufrcezJKIk\n",
      "YTV_9WSCyvhmcZA\n",
      "YTV_iWDR4vGG1lI\n",
      "YTV_XJJH2FN17GM\n",
      "YTV_Q6wSunbNwOI\n",
      "YTV_D4hSt2HAc08\n",
      "YTV_IvoF2SxE2U8\n",
      "YTV_Dg1723CtkiY\n",
      "YTV_kJq_sDkmI7E\n",
      "YTV_M5K5XZNmspw\n",
      "YTV_9HL3LKGTTM4\n",
      "YTV_Dd6bDaaIALE\n",
      "YTV_fI4c4Hq0CKY\n",
      "YTV_kYyHV8vka5I\n",
      "YTV_nAbH40NtLAA\n",
      "YTV_qilgTfGNS1c\n",
      "YTV_4kTqXtJjiuQ\n",
      "YTV_nqK6ktwGy48\n",
      "YTV_XubgiVCl9io\n",
      "YTV_Eqsj99rI2ZY\n",
      "YTV_njboCvf1XWI\n",
      "YTV_kicI_PbFBBo\n",
      "YTV_6hi5bFJtxTc\n",
      "YTV_RTfQ5TZHu_8\n",
      "YTV_77Yz-ynwixw\n",
      "YTV_MQDdL_fOGy4\n",
      "YTV_td24L1RwO1M\n",
      "YTV_OHKZLeKlUsM\n",
      "YTV_HuOC51TjrJY\n",
      "YTV_erTqdP18uGM\n",
      "YTV_uNSVvpSotTw\n",
      "YTV_uIMCGAMDgm4\n",
      "YTV_CFGffJoIoA4\n",
      "YTV_H8LTMH8yAiQ\n",
      "YTV_So-9EqDOxcQ\n",
      "YTV_40X2mHq7Fqg\n",
      "YTV_pMLt75iqNvM\n",
      "YTV_9vHQfb0EQZk\n",
      "YTV_y-_tqK6QVk0\n",
      "YTV_5bCgj26KWKc\n",
      "YTV_tom1GB9sXTM\n",
      "YTV_PYcikAn2BpA\n",
      "YTV_ReUX4BtPeac\n",
      "YTV_wVZaFXihbMc\n",
      "YTV_Y-DiGlIpMeM\n",
      "YTV_FfzF5G8O0bI\n",
      "YTV_S4AiOWJa4j4\n",
      "YTV_ycv4b82qybk\n",
      "YTV_JmQCqBrt4sA\n",
      "YTV_u97O_NOPD2Q\n",
      "YTV_2dnFKva-vrM\n",
      "YTV_9wPDnPTBQao\n",
      "YTV_gOARBbtGfyc\n",
      "YTV_PXwKlUV_LHU\n",
      "YTV__oXvbxFP2oI\n",
      "YTV_v-p2rXgW4DI\n",
      "YTV_-xcKluBQ-m0\n",
      "YTV_Yzzg9KdkHYc\n",
      "YTV_L25zCJcPadU\n",
      "YTV_uaHViQ5hEnM\n",
      "YTV_7pm91lCWyfE\n",
      "YTV_TvMzpVQM9OY\n",
      "YTV_Ti_Wivo9OWY\n",
      "YTV_dyol9JCNKIQ\n",
      "YTV_JkfO1OliOVc\n",
      "YTV_JmGcrwCB8HM\n",
      "YTV_xYM6OM92NWc\n",
      "YTV_i3KyBoDshHI\n",
      "YTV_Cek46y3-hVA\n",
      "YTV_5SSC6nU314c\n",
      "YTV_FxSsnHeWQBY\n",
      "YTV_jOiAp3wtx18\n",
      "YTV_CA8HN20NnII\n",
      "YTV_4R6FXtZl154\n",
      "YTV_MpH8W5hce9I\n",
      "YTV_nHWRN5gCPSI\n",
      "YTV_8kV0b0KhaMQ\n",
      "YTV_uaTNyOBPcPs\n",
      "YTV_0Ef9GudbxXY\n",
      "YTV_uQU3ugtYKNo\n",
      "YTV_qxE1_MgHXI4\n",
      "YTV_9Vrk44sHIvw\n",
      "YTV_rEalbu8UGeo\n",
      "YTV_Kdrp1Kt1dSw\n",
      "YTV_oAHMmy7dqUU\n",
      "YTV_gM516rN24zQ\n",
      "YTV_dKaPx4ivEcc\n",
      "YTV_vvEY6bhLXsU\n",
      "YTV_wsczq6j3_bA\n",
      "YTV_yc1CjhoQFNQ\n",
      "YTV_mTj297sGzxw\n",
      "YTV_xcXheAWy7cU\n",
      "YTV_Y6pLr11yf-4\n",
      "YTV_NSLvERZQSok\n",
      "YTV_a-_GAHfpk1Y\n",
      "YTV_b8VsDmx7qdE\n",
      "YTV_RntMu5DqfSo\n",
      "YTV_RZ4Sn-Y7AP8\n",
      "YTV_RCRbfKK57X8\n",
      "YTV_OXN3wuHUBP0\n",
      "YTV_nAqklQ4wzhY\n",
      "YTV_7eeEf_rAJds\n",
      "YTV_q0YqAbI7rw4\n",
      "YTV_tQNZRfsZF3g\n",
      "YTV_jJ1vjr1dDqw\n",
      "YTV_JQYnFyG7A8c\n",
      "YTV_gpGBsNhKy-E\n",
      "YTV__ZdqwCr4c7Q\n",
      "YTV_0PSdzUxRYpA\n",
      "YTV_Jb6ij4eRu6c\n",
      "YTV_TX1sg8wzk1I\n",
      "YTV_St9cL47_1GI\n",
      "YTV_lnlZGhnULn4\n",
      "YTV_ArLf03-RLwU\n",
      "YTV_FQuIqtx1Z24\n",
      "YTV_eLPiPHr6TVI\n",
      "YTV_k8YtaSMv-Nc\n",
      "YTV_WSWaEMn_zpo\n",
      "YTV_px_vg9Far1Y\n",
      "YTV_SBQB_yS2K4M\n",
      "YTV_NJf6pUVc7U8\n",
      "YTV_BcDV9QUium4\n",
      "YTV_9bvdc55xYdo\n",
      "YTV__WAzrP5kyE8\n",
      "YTV_dIzicVIwL8Q\n",
      "YTV_r_Pj__qjBvA\n",
      "YTV_j5YV5KzIbOc\n",
      "YTV_HgpsmOpZfD4\n",
      "YTV_aS5kXzbsLLQ\n",
      "YTV_8uxQOzKi3_0\n",
      "YTV_nEquiifH33w\n",
      "YTV_7jGtDGxgwEY\n",
      "YTV_DZl2ebl_Pnw\n",
      "YTV_grMfIoDgn9M\n",
      "YTV_YAO7PUZvVPw\n",
      "YTV_iHVs_HkjdmI\n",
      "YTV_umQOVzFDzTo\n",
      "YTV_2NSbuKFYyvc\n",
      "YTV_4QOoAw6Su7M\n",
      "YTV_951amNT8_7o\n",
      "YTV_1i8ylq4j_EY\n",
      "YTV_FtKO619O5g0\n",
      "YTV_aYywSlNdP5I\n",
      "YTV_T-5p5ewqhVw\n",
      "YTV_AmMaN1AokTI\n",
      "YTV_HqEJxZzbdVM\n",
      "YTV_WPyNdHygBD0\n",
      "YTV_1CE6pWSDN1Q\n",
      "YTV_A_NnHC2LcaE\n",
      "YTV_qdATFvkqrvY\n",
      "YTV_zVAon51dhIM\n",
      "YTV_7KnfGDajDQw\n",
      "YTV_R8Xmeynf1T4\n",
      "YTV_fYlnfvKVDoM\n",
      "YTV_uBorfxosVYs\n",
      "YTV_O7IezJT9uSI\n",
      "YTV_4yqA0puQsEo\n",
      "YTV_Xdd7c8t6ySA\n",
      "YTV_RLDXh2UiGq8\n",
      "YTV_Qi0AhK7PMCI\n",
      "YTV_sL_syMmRkoU\n",
      "YTV_SW1OXGl3Mck\n",
      "YTV_9WV7juNmyE8\n",
      "YTV_WQGQPnTDNvk\n",
      "YTV_CWmq-jtkemY\n",
      "YTV_mXjLhFUruzA\n",
      "YTV_RrUf0q-tZiE\n",
      "YTV_dWlhrL1l3QU\n",
      "YTV_jKfkLVDAwRQ\n",
      "YTV_z_sIDLVisvA\n",
      "YTV_P141KRbxVKc\n",
      "YTV_5tk0Jv95FsQ\n",
      "YTV_IoMR-ESzqw8\n",
      "YTV_MtlH14N3REQ\n",
      "YTV_bMt47wvK6u0\n",
      "YTV_XFw1JVXKJss\n",
      "YTV_nx0sXSeJbmI\n",
      "YTV_9oyr0mocZTg\n",
      "YTV_Mx70n1dL534\n",
      "YTV_QGVzb5YXmeo\n",
      "YTV_L_LLYTm-QnM\n",
      "YTV_k17GqN9dT3Q\n",
      "YTV_3mB5uWY3FT4\n",
      "YTV_FGrIyBDQLPg\n",
      "YTV_wNBJDpyRm8w\n",
      "YTV_p1iX0uxM1w8\n",
      "YTV_0uCxLCmzaG4\n",
      "YTV_Eu8nLAIRuwM\n",
      "YTV_AiThU6JQbE8\n",
      "YTV_MFWAAPReG1M\n",
      "YTV_X9474CgJleg\n",
      "YTV_D1twn9kLmYg\n",
      "YTV_-l3ILra8ewI\n",
      "YTV_FOZvHx-43pg\n",
      "YTV_nQOahpei6kw\n",
      "YTV_Qvo3zWItBjo\n",
      "YTV_zwa9uc0LpXo\n",
      "YTV_XTMsUuWX02Q\n",
      "YTV_i62piPQkUtA\n",
      "YTV_Uyj2UFTL_vg\n",
      "YTV_txT_sA1malk\n",
      "YTV_j7AYwU7GcTs\n",
      "YTV_HjAB45qsx_c\n",
      "YTV_MirG-vJOg04\n",
      "YTV_W0c5sjxajI4\n",
      "YTV_GeQt7CxzmPo\n",
      "YTV_KZHXjGP71kQ\n",
      "YTV_jpCG792tVt0\n",
      "YTV_PmV5lpZaZfA\n",
      "YTV_01R97Ckqmok\n",
      "YTV_5kGIUgGJ1EM\n",
      "YTV__v0NEozS6b0\n",
      "YTV_nGJ4je-KUdI\n",
      "YTV_I_16Ujwo_Ck\n",
      "YTV_HehHUMpP_wc\n",
      "YTV_pvhc2e5FlxA\n",
      "YTV_prQ996pxiRY\n",
      "YTV_01Nahb7gmVk\n",
      "YTV_sj2WADH6xCM\n",
      "YTV_DFa4qG5dEuA\n",
      "YTV_nM8o-BRLBeI\n",
      "YTV_whdcpkR6ByE\n",
      "YTV_Q3vSjrF8HB8\n",
      "YTV_FPPENfmjbmI\n",
      "YTV_ep4o8FlnwWE\n",
      "YTV_4bB87NqHCkU\n",
      "YTV_b6c5VonGDnc\n",
      "YTV_UqxfFH1mfYM\n",
      "YTV_uEmEm1l4hs4\n",
      "YTV_WxKvBHh39z0\n",
      "YTV_y9VE7t0QA2Y\n",
      "YTV_3DQzcwTympI\n",
      "YTV_lAM5Ncw9IRk\n",
      "YTV__rghA380uOc\n",
      "YTV_71NUCFhXxh0\n",
      "YTV_8SVo_hqCZZ4\n",
      "YTV_ReMfNq0MNmU\n",
      "YTV_TkRdfpwMuok\n",
      "YTV_fqv6U0OemTM\n",
      "YTV_LfyGnze8qUY\n",
      "YTV_hGV7lTXOL1k\n",
      "YTV_I2unjlSZUC8\n",
      "YTV_uVWGZyekGos\n",
      "YTV_CyFOKNkbBcw\n",
      "YTV_vqIgZSOtF0g\n",
      "YTV_AFXG9IaUHFE\n",
      "YTV_dhaH2ytEixk\n",
      "YTV_PXF3gSkiBbk\n",
      "YTV_VkmWJUhH24M\n",
      "YTV_SjApBdi6M4E\n",
      "YTV_roZYx7fSRfo\n",
      "YTV_klOfp-DPQIU\n",
      "YTV_7ErUaywgpTY\n",
      "YTV_w9aXSXclBGg\n",
      "YTV_NNW1YxEGt8k\n",
      "YTV_KK3rG1ZBNUI\n",
      "YTV_D8UHJutoNDw\n",
      "YTV_VrbpxUepPDc\n",
      "YTV_9B_QujeNYx0\n",
      "YTV_bBUfjKdLiiw\n",
      "YTV_t9gAW0DyAzY\n",
      "YTV_DDwm2gm6lKk\n",
      "YTV_TM1gK1Mvyos\n",
      "YTV_iHuISfDpMQs\n",
      "YTV_O6MF1i0MCJY\n",
      "YTV_VM8aTViu_Q4\n",
      "YTV_885h4c83GXk\n",
      "YTV_G5UTuWS2nrU\n",
      "YTV_v--2B9Wd7FE\n",
      "YTV_L4cYFAs0cIs\n",
      "YTV_dzNzXjLhM94\n",
      "YTV__85S4GXnqAU\n",
      "YTV_0s37Tud7wsM\n",
      "YTV_jztdbM_RErU\n",
      "YTV_89al79vfj9M\n",
      "YTV_61CXipT-91U\n",
      "YTV_L--AMkSffnI\n",
      "YTV_1X2-u0xg71I\n",
      "YTV_qpG4ikj_MKs\n",
      "YTV_0L3XSZ_f9NI\n",
      "YTV_s_g0e5w9bY8\n",
      "YTV_PhC-tsyNFgg\n",
      "YTV_LRZuqlgevxo\n",
      "YTV_SVvTjzMzwEA\n",
      "YTV_L5oU9l9UDtc\n",
      "YTV_F5o3H2YEKd8\n",
      "YTV_wbH_7r7mI58\n",
      "YTV_yFxaIp_kpF0\n",
      "YTV_yyrDeBQUIz0\n",
      "YTV_tPRDmNQIsRU\n",
      "YTV_0DdJZcmIGl8\n",
      "YTV_RTGafhCCAW4\n",
      "YTV_BP59XbF_eJ8\n",
      "YTV_aWOkMjQjniI\n",
      "YTV_cUALmBvKHFc\n",
      "YTV_QgDQSs4gggA\n",
      "YTV_iyWTDd65244\n",
      "YTV_3ys5znk3N7w\n",
      "YTV_T9OZqCtx6NQ\n",
      "YTV_Aa5SxgQXLxc\n",
      "YTV_pZUtFxkQYak\n",
      "YTV_nzbiIAIxp1E\n",
      "YTV_PU9Ilx1Rhvw\n",
      "YTV_HWXqmTx-N9Q\n",
      "YTV_VB3sKK3a42I\n",
      "YTV_fG-jIUvvLM0\n",
      "YTV_VDCwejSx194\n",
      "YTV_rOFmQs64n2I\n",
      "YTV_kOWW-oI9i4M\n",
      "YTV_HF8bafGV9cs\n",
      "YTV_hetS59PKx0U\n",
      "YTV_SEFSWyi5AAU\n",
      "YTV_U9WzRwZPLNs\n",
      "YTV_CJlUMr8jvdU\n"
     ]
    }
   ],
   "source": [
    "for post in learning_resources_collection.find():\n",
    "    print post['_id']"
   ]
  },
  {
   "cell_type": "code",
   "execution_count": 30,
   "metadata": {
    "collapsed": false
   },
   "outputs": [
    {
     "name": "stdout",
     "output_type": "stream",
     "text": [
      "YTV__oXvbxFP2oI\n",
      "YTV_ayFu8KKJR2A\n",
      "YTV_7K3FR9ykha4\n",
      "YTV_CweOErLahkE\n",
      "YTV_D8qec8PVAFQ\n",
      "YTV_3ltvKycVRFs\n",
      "YTV_MAd9kiPJ4nA\n",
      "YTV_620807cPZMY\n",
      "YTV_lKp_rMBWbZU\n",
      "YTV_2OdLclmO_0Q\n",
      "YTV_v4sk2MSKK3M\n",
      "YTV_K0PxXOk_deo\n",
      "YTV_uSHtQUXlpk4\n",
      "YTV_tbpqDQzX_gg\n",
      "YTV_3hPo-Gk4IXQ\n",
      "YTV_OHnrY3i6BM8\n",
      "YTV_d0gb7448xIA\n",
      "YTV_mKBcgmzjNiE\n",
      "YTV_ZqU0KGxcNn0\n",
      "YTV_xB7cC1MfFXE\n",
      "YTV_7RTR8thNx18\n",
      "YTV_WB8hg6UZeY0\n",
      "YTV_WbCN3rKJCz4\n",
      "YTV_GlK2wlW2ih0\n",
      "YTV_Lksm2NceLz0\n",
      "YTV_3MG9CHCCqDs\n",
      "YTV_bNOYkAh5UXE\n",
      "YTV_4b8oLwtyIX0\n",
      "YTV_XAJBiEodiSQ\n",
      "YTV_6FjpScjBxkg\n",
      "YTV_8MKD-3b5koo\n"
     ]
    }
   ],
   "source": [
    "for inner in video_data_df.to_dict(orient=\"records\"):\n",
    "    print inner['_id']"
   ]
  },
  {
   "cell_type": "code",
   "execution_count": 31,
   "metadata": {
    "collapsed": false
   },
   "outputs": [
    {
     "data": {
      "text/plain": [
       "{u'_id': u'YTV_ayFu8KKJR2A',\n",
       " u'type': u'youtube',\n",
       " u'youtubeVideoId': u'ayFu8KKJR2A',\n",
       " u'ytDescription': u'\\u958b\\u59cb\\u6578\\u64da\\u5206\\u6790\\u91cd\\u8981\\u7684 array \\u8cc7\\u6599\\u578b\\u614b\\u3002',\n",
       " u'ytTitle': u'3-1 Array \\u771f\\u7684\\u70ab'}"
      ]
     },
     "execution_count": 31,
     "metadata": {},
     "output_type": "execute_result"
    }
   ],
   "source": [
    "learning_resources_collection.find_one()#把第一個取出來"
   ]
  },
  {
   "cell_type": "markdown",
   "metadata": {},
   "source": [
    "###把其中一個取出來\n",
    "```python\n",
    "{\n",
    "u'youtubeVideoId': u'ayFu8KKJR2A',\n",
    "u'_id': u'YTV_ayFu8KKJR2A', ##決定針對他\n",
    "u'ytTitle': u'3-1 Array \\u771f\\u7684\\u70ab', \n",
    "u'ytDescription': u'\\u958b\\u59cb\\u6578\\u64da\\u5206\\u6790\\u91cd\\u8981\\u7684 array \\u8cc7\\u6599\\u578b\\u614b\\u3002', u'type': u'youtube'\n",
    "}\n",
    "```"
   ]
  },
  {
   "cell_type": "code",
   "execution_count": 32,
   "metadata": {
    "collapsed": false
   },
   "outputs": [
    {
     "data": {
      "text/plain": [
       "<pymongo.cursor.Cursor at 0x106bc3f90>"
      ]
     },
     "execution_count": 32,
     "metadata": {},
     "output_type": "execute_result"
    }
   ],
   "source": [
    "learning_resources_collection.find({u\"_id\":u'YTV_ayFu8KKJR2A'})"
   ]
  },
  {
   "cell_type": "code",
   "execution_count": 33,
   "metadata": {
    "collapsed": false
   },
   "outputs": [
    {
     "data": {
      "text/plain": [
       "{u'_id': u'YTV_ayFu8KKJR2A',\n",
       " u'type': u'youtube',\n",
       " u'youtubeVideoId': u'ayFu8KKJR2A',\n",
       " u'ytDescription': u'\\u958b\\u59cb\\u6578\\u64da\\u5206\\u6790\\u91cd\\u8981\\u7684 array \\u8cc7\\u6599\\u578b\\u614b\\u3002',\n",
       " u'ytTitle': u'3-1 Array \\u771f\\u7684\\u70ab'}"
      ]
     },
     "execution_count": 33,
     "metadata": {},
     "output_type": "execute_result"
    }
   ],
   "source": [
    "learning_resources_collection.find_one({u\"_id\":u'YTV_ayFu8KKJR2A'})"
   ]
  },
  {
   "cell_type": "code",
   "execution_count": 34,
   "metadata": {
    "collapsed": false
   },
   "outputs": [
    {
     "data": {
      "text/plain": [
       "u'YTV_NqXyh1rOy-s'"
      ]
     },
     "execution_count": 34,
     "metadata": {},
     "output_type": "execute_result"
    }
   ],
   "source": [
    "learning_resources_collection.find_one({u\"_id\":u\"YTV_NqXyh1rOy-s\" })['_id']"
   ]
  },
  {
   "cell_type": "code",
   "execution_count": 35,
   "metadata": {
    "collapsed": false
   },
   "outputs": [
    {
     "data": {
      "text/plain": [
       "31"
      ]
     },
     "execution_count": 35,
     "metadata": {},
     "output_type": "execute_result"
    }
   ],
   "source": [
    "len(video_data_df.to_dict(orient=\"records\"))"
   ]
  },
  {
   "cell_type": "code",
   "execution_count": 36,
   "metadata": {
    "collapsed": false
   },
   "outputs": [
    {
     "name": "stdout",
     "output_type": "stream",
     "text": [
      "31 575 31 31 575\n"
     ]
    }
   ],
   "source": [
    "#測答案的區塊\n",
    "a=10\n",
    "c=0\n",
    "d=len(video_data_df.to_dict(orient=\"records\"))\n",
    "b=learning_resources_collection.count()\n",
    "for inter in video_data_df.to_dict(orient=\"records\"):\n",
    "    a=c\n",
    "    for post in learning_resources_collection.find():\n",
    "        if inter['_id']==post['_id']:\n",
    "               c+=1\n",
    "                # print inter['_id']\n",
    "    if a==c:\n",
    "        learning_resources_collection.insert(inter)\n",
    "    \n",
    "d1=len(video_data_df.to_dict(orient=\"records\"))\n",
    "b1=learning_resources_collection.count()\n",
    "print d,b,c,d1,b1"
   ]
  },
  {
   "cell_type": "code",
   "execution_count": 37,
   "metadata": {
    "collapsed": false
   },
   "outputs": [],
   "source": [
    "#傳答案的區塊\n",
    "a=1\n",
    "c=0\n",
    "for inter in video_data_df.to_dict(orient=\"records\"):\n",
    "    a=c\n",
    "    for post in learning_resources_collection.find():\n",
    "        if inter['_id']==post['_id']:\n",
    "               c+=1\n",
    "    if a==c:\n",
    "        learning_resources_collection.insert(inter)\n",
    "    \n"
   ]
  },
  {
   "cell_type": "code",
   "execution_count": null,
   "metadata": {
    "collapsed": true
   },
   "outputs": [],
   "source": []
  }
 ],
 "metadata": {
  "kernelspec": {
   "display_name": "Python 2",
   "language": "python",
   "name": "python2"
  },
  "language_info": {
   "codemirror_mode": {
    "name": "ipython",
    "version": 2
   },
   "file_extension": ".py",
   "mimetype": "text/x-python",
   "name": "python",
   "nbconvert_exporter": "python",
   "pygments_lexer": "ipython2",
   "version": "2.7.9"
  }
 },
 "nbformat": 4,
 "nbformat_minor": 0
}
